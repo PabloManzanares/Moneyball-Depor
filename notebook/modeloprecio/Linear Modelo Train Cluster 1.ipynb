{
 "cells": [
  {
   "cell_type": "markdown",
   "id": "f92add20",
   "metadata": {},
   "source": [
    "# Aplicación de la regresión lineal al cluster 1 📈📊"
   ]
  },
  {
   "cell_type": "markdown",
   "id": "df1651d1",
   "metadata": {},
   "source": [
    "❗ Una vez obtenido que el mejor modelo para realizar nuestra predicción es la regresión lineal, se aplica a cada uno de los modelos.\n",
    "\n"
   ]
  },
  {
   "cell_type": "code",
   "execution_count": 1,
   "id": "17412867",
   "metadata": {},
   "outputs": [],
   "source": [
    "import pandas as pd\n",
    "import numpy as np\n",
    "\n",
    "import pickle\n",
    "\n",
    "import matplotlib.pyplot as plt\n",
    "from matplotlib import style\n",
    "import matplotlib.ticker as ticker\n",
    "import seaborn as sns\n",
    "from sklearn.model_selection import train_test_split\n",
    "plt.rcParams[\"figure.figsize\"] = (10,8)\n",
    "\n",
    "\n",
    "import statsmodels.formula.api as smf\n",
    "\n",
    "\n",
    "from sklearn.linear_model import LinearRegression\n",
    "from sklearn.ensemble import RandomForestRegressor\n",
    "from sklearn.tree import DecisionTreeRegressor \n",
    "from sklearn.model_selection import GridSearchCV\n",
    "from sklearn import tree\n",
    "\n",
    "\n",
    "\n",
    "from sklearn.model_selection import cross_val_score\n",
    "from sklearn.model_selection import cross_validate\n",
    "from sklearn import metrics\n",
    "\n",
    "import warnings\n",
    "warnings.filterwarnings('ignore')"
   ]
  },
  {
   "cell_type": "code",
   "execution_count": 2,
   "id": "008a4357",
   "metadata": {
    "scrolled": true
   },
   "outputs": [
    {
     "data": {
      "text/html": [
       "<div>\n",
       "<style scoped>\n",
       "    .dataframe tbody tr th:only-of-type {\n",
       "        vertical-align: middle;\n",
       "    }\n",
       "\n",
       "    .dataframe tbody tr th {\n",
       "        vertical-align: top;\n",
       "    }\n",
       "\n",
       "    .dataframe thead th {\n",
       "        text-align: right;\n",
       "    }\n",
       "</style>\n",
       "<table border=\"1\" class=\"dataframe\">\n",
       "  <thead>\n",
       "    <tr style=\"text-align: right;\">\n",
       "      <th></th>\n",
       "      <th>edad</th>\n",
       "      <th>Valoración_actual</th>\n",
       "      <th>Progresión</th>\n",
       "      <th>precio</th>\n",
       "      <th>Ataque</th>\n",
       "      <th>Regate</th>\n",
       "      <th>Aceleración</th>\n",
       "      <th>Potencia_tiro</th>\n",
       "      <th>Agresividad</th>\n",
       "      <th>Defensa</th>\n",
       "      <th>Portería</th>\n",
       "      <th>Cluster</th>\n",
       "    </tr>\n",
       "  </thead>\n",
       "  <tbody>\n",
       "    <tr>\n",
       "      <th>0</th>\n",
       "      <td>21</td>\n",
       "      <td>70</td>\n",
       "      <td>80</td>\n",
       "      <td>3300000</td>\n",
       "      <td>54</td>\n",
       "      <td>47</td>\n",
       "      <td>62</td>\n",
       "      <td>35</td>\n",
       "      <td>65</td>\n",
       "      <td>67</td>\n",
       "      <td>10</td>\n",
       "      <td>1</td>\n",
       "    </tr>\n",
       "    <tr>\n",
       "      <th>11</th>\n",
       "      <td>21</td>\n",
       "      <td>70</td>\n",
       "      <td>80</td>\n",
       "      <td>3300000</td>\n",
       "      <td>31</td>\n",
       "      <td>44</td>\n",
       "      <td>64</td>\n",
       "      <td>45</td>\n",
       "      <td>75</td>\n",
       "      <td>74</td>\n",
       "      <td>14</td>\n",
       "      <td>1</td>\n",
       "    </tr>\n",
       "    <tr>\n",
       "      <th>12</th>\n",
       "      <td>18</td>\n",
       "      <td>70</td>\n",
       "      <td>81</td>\n",
       "      <td>3100000</td>\n",
       "      <td>31</td>\n",
       "      <td>54</td>\n",
       "      <td>65</td>\n",
       "      <td>60</td>\n",
       "      <td>71</td>\n",
       "      <td>68</td>\n",
       "      <td>15</td>\n",
       "      <td>1</td>\n",
       "    </tr>\n",
       "    <tr>\n",
       "      <th>14</th>\n",
       "      <td>18</td>\n",
       "      <td>70</td>\n",
       "      <td>81</td>\n",
       "      <td>3100000</td>\n",
       "      <td>43</td>\n",
       "      <td>59</td>\n",
       "      <td>62</td>\n",
       "      <td>49</td>\n",
       "      <td>66</td>\n",
       "      <td>69</td>\n",
       "      <td>10</td>\n",
       "      <td>1</td>\n",
       "    </tr>\n",
       "    <tr>\n",
       "      <th>15</th>\n",
       "      <td>19</td>\n",
       "      <td>70</td>\n",
       "      <td>81</td>\n",
       "      <td>3300000</td>\n",
       "      <td>61</td>\n",
       "      <td>74</td>\n",
       "      <td>84</td>\n",
       "      <td>41</td>\n",
       "      <td>69</td>\n",
       "      <td>63</td>\n",
       "      <td>8</td>\n",
       "      <td>1</td>\n",
       "    </tr>\n",
       "  </tbody>\n",
       "</table>\n",
       "</div>"
      ],
      "text/plain": [
       "    edad  Valoración_actual  Progresión   precio  Ataque  Regate  Aceleración  \\\n",
       "0     21                 70          80  3300000      54      47           62   \n",
       "11    21                 70          80  3300000      31      44           64   \n",
       "12    18                 70          81  3100000      31      54           65   \n",
       "14    18                 70          81  3100000      43      59           62   \n",
       "15    19                 70          81  3300000      61      74           84   \n",
       "\n",
       "    Potencia_tiro  Agresividad  Defensa  Portería  Cluster  \n",
       "0              35           65       67        10        1  \n",
       "11             45           75       74        14        1  \n",
       "12             60           71       68        15        1  \n",
       "14             49           66       69        10        1  \n",
       "15             41           69       63         8        1  "
      ]
     },
     "execution_count": 2,
     "metadata": {},
     "output_type": "execute_result"
    }
   ],
   "source": [
    "df = pd.read_csv(\"../../data/precio/dfclust.csv\", index_col = 0)\n",
    "df.head()"
   ]
  },
  {
   "cell_type": "code",
   "execution_count": 3,
   "id": "33c944b4",
   "metadata": {},
   "outputs": [],
   "source": [
    "df.drop(df[df['Cluster'] < 1].index, inplace=True)"
   ]
  },
  {
   "cell_type": "code",
   "execution_count": 4,
   "id": "7376a867",
   "metadata": {},
   "outputs": [],
   "source": [
    "df.drop(df[df['Cluster'] > 1].index, inplace=True)"
   ]
  },
  {
   "cell_type": "code",
   "execution_count": 5,
   "id": "bd5af99a",
   "metadata": {},
   "outputs": [
    {
     "data": {
      "text/html": [
       "<div>\n",
       "<style scoped>\n",
       "    .dataframe tbody tr th:only-of-type {\n",
       "        vertical-align: middle;\n",
       "    }\n",
       "\n",
       "    .dataframe tbody tr th {\n",
       "        vertical-align: top;\n",
       "    }\n",
       "\n",
       "    .dataframe thead th {\n",
       "        text-align: right;\n",
       "    }\n",
       "</style>\n",
       "<table border=\"1\" class=\"dataframe\">\n",
       "  <thead>\n",
       "    <tr style=\"text-align: right;\">\n",
       "      <th></th>\n",
       "      <th>edad</th>\n",
       "      <th>Valoración_actual</th>\n",
       "      <th>Progresión</th>\n",
       "      <th>precio</th>\n",
       "      <th>Ataque</th>\n",
       "      <th>Regate</th>\n",
       "      <th>Aceleración</th>\n",
       "      <th>Potencia_tiro</th>\n",
       "      <th>Agresividad</th>\n",
       "      <th>Defensa</th>\n",
       "      <th>Portería</th>\n",
       "    </tr>\n",
       "  </thead>\n",
       "  <tbody>\n",
       "    <tr>\n",
       "      <th>0</th>\n",
       "      <td>21</td>\n",
       "      <td>70</td>\n",
       "      <td>80</td>\n",
       "      <td>3300000</td>\n",
       "      <td>54</td>\n",
       "      <td>47</td>\n",
       "      <td>62</td>\n",
       "      <td>35</td>\n",
       "      <td>65</td>\n",
       "      <td>67</td>\n",
       "      <td>10</td>\n",
       "    </tr>\n",
       "    <tr>\n",
       "      <th>11</th>\n",
       "      <td>21</td>\n",
       "      <td>70</td>\n",
       "      <td>80</td>\n",
       "      <td>3300000</td>\n",
       "      <td>31</td>\n",
       "      <td>44</td>\n",
       "      <td>64</td>\n",
       "      <td>45</td>\n",
       "      <td>75</td>\n",
       "      <td>74</td>\n",
       "      <td>14</td>\n",
       "    </tr>\n",
       "    <tr>\n",
       "      <th>12</th>\n",
       "      <td>18</td>\n",
       "      <td>70</td>\n",
       "      <td>81</td>\n",
       "      <td>3100000</td>\n",
       "      <td>31</td>\n",
       "      <td>54</td>\n",
       "      <td>65</td>\n",
       "      <td>60</td>\n",
       "      <td>71</td>\n",
       "      <td>68</td>\n",
       "      <td>15</td>\n",
       "    </tr>\n",
       "    <tr>\n",
       "      <th>14</th>\n",
       "      <td>18</td>\n",
       "      <td>70</td>\n",
       "      <td>81</td>\n",
       "      <td>3100000</td>\n",
       "      <td>43</td>\n",
       "      <td>59</td>\n",
       "      <td>62</td>\n",
       "      <td>49</td>\n",
       "      <td>66</td>\n",
       "      <td>69</td>\n",
       "      <td>10</td>\n",
       "    </tr>\n",
       "    <tr>\n",
       "      <th>15</th>\n",
       "      <td>19</td>\n",
       "      <td>70</td>\n",
       "      <td>81</td>\n",
       "      <td>3300000</td>\n",
       "      <td>61</td>\n",
       "      <td>74</td>\n",
       "      <td>84</td>\n",
       "      <td>41</td>\n",
       "      <td>69</td>\n",
       "      <td>63</td>\n",
       "      <td>8</td>\n",
       "    </tr>\n",
       "  </tbody>\n",
       "</table>\n",
       "</div>"
      ],
      "text/plain": [
       "    edad  Valoración_actual  Progresión   precio  Ataque  Regate  Aceleración  \\\n",
       "0     21                 70          80  3300000      54      47           62   \n",
       "11    21                 70          80  3300000      31      44           64   \n",
       "12    18                 70          81  3100000      31      54           65   \n",
       "14    18                 70          81  3100000      43      59           62   \n",
       "15    19                 70          81  3300000      61      74           84   \n",
       "\n",
       "    Potencia_tiro  Agresividad  Defensa  Portería  \n",
       "0              35           65       67        10  \n",
       "11             45           75       74        14  \n",
       "12             60           71       68        15  \n",
       "14             49           66       69        10  \n",
       "15             41           69       63         8  "
      ]
     },
     "execution_count": 5,
     "metadata": {},
     "output_type": "execute_result"
    }
   ],
   "source": [
    "df.drop(columns = ['Cluster'], inplace = True)\n",
    "df.head()"
   ]
  },
  {
   "cell_type": "code",
   "execution_count": 6,
   "id": "7109d9a6",
   "metadata": {},
   "outputs": [],
   "source": [
    "X = df.drop('precio', axis =1)\n",
    "y = df['precio']\n",
    "\n",
    "\n",
    "X_train, X_test, y_train, y_test = train_test_split(X, y, train_size   = 0.8, random_state = 42)"
   ]
  },
  {
   "cell_type": "code",
   "execution_count": 7,
   "id": "082580c3",
   "metadata": {},
   "outputs": [],
   "source": [
    "lr = LinearRegression()"
   ]
  },
  {
   "cell_type": "code",
   "execution_count": 8,
   "id": "ff359470",
   "metadata": {},
   "outputs": [],
   "source": [
    "lr_fit1 = lr.fit(X_train, y_train)"
   ]
  },
  {
   "cell_type": "markdown",
   "id": "223dd22d",
   "metadata": {},
   "source": [
    "🤔 Una vez fiteado, guardamos nuestro modelo para los jugadores pertenecientes al cluster 1 mediante pickle.\n",
    "\n",
    "Así, podremos emplearlo en el streamlit, permitiendo al usuario introducir las características de un jugador y obtener una predicción de su precio dependiendo del cluster al que perteneca dicho jugador introducido."
   ]
  },
  {
   "cell_type": "code",
   "execution_count": 9,
   "id": "da4aae61",
   "metadata": {},
   "outputs": [],
   "source": [
    "def save_model(amount, filename = \"model1.pkl\"): \n",
    "    with open(filename, \"wb\") as f:\n",
    "        pickle.dump(amount, f)"
   ]
  },
  {
   "cell_type": "code",
   "execution_count": 10,
   "id": "ff01ef9d",
   "metadata": {},
   "outputs": [],
   "source": [
    "save_model(lr_fit1)"
   ]
  },
  {
   "cell_type": "code",
   "execution_count": 11,
   "id": "6b70eb8d",
   "metadata": {},
   "outputs": [
    {
     "data": {
      "text/plain": [
       "-23873293.220211137"
      ]
     },
     "execution_count": 11,
     "metadata": {},
     "output_type": "execute_result"
    }
   ],
   "source": [
    "lr.intercept_"
   ]
  },
  {
   "cell_type": "code",
   "execution_count": 12,
   "id": "274a03b8",
   "metadata": {},
   "outputs": [
    {
     "data": {
      "text/plain": [
       "array([ 4.95423006e+04,  2.94735852e+05,  6.38745891e+04, -1.90065317e+02,\n",
       "        2.90518135e+03, -1.17633119e+03,  1.34809496e+03,  2.78417972e+03,\n",
       "        2.93056633e+02,  3.76371768e+03])"
      ]
     },
     "execution_count": 12,
     "metadata": {},
     "output_type": "execute_result"
    }
   ],
   "source": [
    "lr.coef_"
   ]
  },
  {
   "cell_type": "code",
   "execution_count": 13,
   "id": "9bf42bb1",
   "metadata": {},
   "outputs": [],
   "source": [
    "y_pred = lr.predict(X_test)\n",
    "y_pred_train = lr.predict(X_train)"
   ]
  },
  {
   "cell_type": "code",
   "execution_count": 14,
   "id": "af2eb2d5",
   "metadata": {},
   "outputs": [
    {
     "data": {
      "text/html": [
       "<div>\n",
       "<style scoped>\n",
       "    .dataframe tbody tr th:only-of-type {\n",
       "        vertical-align: middle;\n",
       "    }\n",
       "\n",
       "    .dataframe tbody tr th {\n",
       "        vertical-align: top;\n",
       "    }\n",
       "\n",
       "    .dataframe thead th {\n",
       "        text-align: right;\n",
       "    }\n",
       "</style>\n",
       "<table border=\"1\" class=\"dataframe\">\n",
       "  <thead>\n",
       "    <tr style=\"text-align: right;\">\n",
       "      <th></th>\n",
       "      <th>Real</th>\n",
       "      <th>Predicted</th>\n",
       "      <th>Set</th>\n",
       "    </tr>\n",
       "  </thead>\n",
       "  <tbody>\n",
       "    <tr>\n",
       "      <th>65</th>\n",
       "      <td>3300000</td>\n",
       "      <td>3.205643e+06</td>\n",
       "      <td>Train</td>\n",
       "    </tr>\n",
       "    <tr>\n",
       "      <th>68</th>\n",
       "      <td>3300000</td>\n",
       "      <td>3.168440e+06</td>\n",
       "      <td>Train</td>\n",
       "    </tr>\n",
       "    <tr>\n",
       "      <th>41</th>\n",
       "      <td>3300000</td>\n",
       "      <td>3.295420e+06</td>\n",
       "      <td>Train</td>\n",
       "    </tr>\n",
       "    <tr>\n",
       "      <th>149</th>\n",
       "      <td>2300000</td>\n",
       "      <td>2.391519e+06</td>\n",
       "      <td>Train</td>\n",
       "    </tr>\n",
       "    <tr>\n",
       "      <th>253</th>\n",
       "      <td>1700000</td>\n",
       "      <td>1.623874e+06</td>\n",
       "      <td>Train</td>\n",
       "    </tr>\n",
       "  </tbody>\n",
       "</table>\n",
       "</div>"
      ],
      "text/plain": [
       "        Real     Predicted    Set\n",
       "65   3300000  3.205643e+06  Train\n",
       "68   3300000  3.168440e+06  Train\n",
       "41   3300000  3.295420e+06  Train\n",
       "149  2300000  2.391519e+06  Train\n",
       "253  1700000  1.623874e+06  Train"
      ]
     },
     "execution_count": 14,
     "metadata": {},
     "output_type": "execute_result"
    }
   ],
   "source": [
    "train_df = pd.DataFrame({'Real': y_train, 'Predicted': y_pred_train, 'Set': ['Train']*len(y_train)})\n",
    "test_df  = pd.DataFrame({'Real': y_test,  'Predicted': y_pred,  'Set': ['Test']*len(y_test)})\n",
    "results = pd.concat([train_df,test_df], axis = 0)\n",
    "results.head()"
   ]
  },
  {
   "cell_type": "code",
   "execution_count": 15,
   "id": "d4d8aa89",
   "metadata": {},
   "outputs": [
    {
     "data": {
      "text/html": [
       "<div>\n",
       "<style scoped>\n",
       "    .dataframe tbody tr th:only-of-type {\n",
       "        vertical-align: middle;\n",
       "    }\n",
       "\n",
       "    .dataframe tbody tr th {\n",
       "        vertical-align: top;\n",
       "    }\n",
       "\n",
       "    .dataframe thead th {\n",
       "        text-align: right;\n",
       "    }\n",
       "</style>\n",
       "<table border=\"1\" class=\"dataframe\">\n",
       "  <thead>\n",
       "    <tr style=\"text-align: right;\">\n",
       "      <th></th>\n",
       "      <th>Real</th>\n",
       "      <th>Predicted</th>\n",
       "      <th>Set</th>\n",
       "      <th>residual</th>\n",
       "    </tr>\n",
       "  </thead>\n",
       "  <tbody>\n",
       "    <tr>\n",
       "      <th>65</th>\n",
       "      <td>3300000</td>\n",
       "      <td>3.205643e+06</td>\n",
       "      <td>Train</td>\n",
       "      <td>94357.028347</td>\n",
       "    </tr>\n",
       "    <tr>\n",
       "      <th>68</th>\n",
       "      <td>3300000</td>\n",
       "      <td>3.168440e+06</td>\n",
       "      <td>Train</td>\n",
       "      <td>131560.228558</td>\n",
       "    </tr>\n",
       "    <tr>\n",
       "      <th>41</th>\n",
       "      <td>3300000</td>\n",
       "      <td>3.295420e+06</td>\n",
       "      <td>Train</td>\n",
       "      <td>4580.423852</td>\n",
       "    </tr>\n",
       "    <tr>\n",
       "      <th>149</th>\n",
       "      <td>2300000</td>\n",
       "      <td>2.391519e+06</td>\n",
       "      <td>Train</td>\n",
       "      <td>-91518.517146</td>\n",
       "    </tr>\n",
       "    <tr>\n",
       "      <th>253</th>\n",
       "      <td>1700000</td>\n",
       "      <td>1.623874e+06</td>\n",
       "      <td>Train</td>\n",
       "      <td>76126.295095</td>\n",
       "    </tr>\n",
       "  </tbody>\n",
       "</table>\n",
       "</div>"
      ],
      "text/plain": [
       "        Real     Predicted    Set       residual\n",
       "65   3300000  3.205643e+06  Train   94357.028347\n",
       "68   3300000  3.168440e+06  Train  131560.228558\n",
       "41   3300000  3.295420e+06  Train    4580.423852\n",
       "149  2300000  2.391519e+06  Train  -91518.517146\n",
       "253  1700000  1.623874e+06  Train   76126.295095"
      ]
     },
     "execution_count": 15,
     "metadata": {},
     "output_type": "execute_result"
    }
   ],
   "source": [
    "results['residual'] = results['Real'] - results['Predicted']\n",
    "results.head()"
   ]
  },
  {
   "cell_type": "code",
   "execution_count": 16,
   "id": "88eaa2dc",
   "metadata": {},
   "outputs": [
    {
     "name": "stdout",
     "output_type": "stream",
     "text": [
      "Mean Absolute Error: 82580.59614083983\n",
      "Mean Squared Error: 10796180838.839361\n",
      "Root Mean Squared Error: 103904.67188167894\n",
      "R2: 0.9793248350530055\n"
     ]
    }
   ],
   "source": [
    "print('Mean Absolute Error:', metrics.mean_absolute_error(y_test, y_pred))\n",
    "print('Mean Squared Error:', metrics.mean_squared_error(y_test, y_pred))\n",
    "print('Root Mean Squared Error:', np.sqrt(metrics.mean_squared_error(y_test, y_pred)))\n",
    "print(\"R2:\",  metrics.r2_score(y_test, y_pred))"
   ]
  }
 ],
 "metadata": {
  "kernelspec": {
   "display_name": "Python 3 (ipykernel)",
   "language": "python",
   "name": "python3"
  },
  "language_info": {
   "codemirror_mode": {
    "name": "ipython",
    "version": 3
   },
   "file_extension": ".py",
   "mimetype": "text/x-python",
   "name": "python",
   "nbconvert_exporter": "python",
   "pygments_lexer": "ipython3",
   "version": "3.9.5"
  }
 },
 "nbformat": 4,
 "nbformat_minor": 5
}
