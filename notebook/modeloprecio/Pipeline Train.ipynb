{
 "cells": [
  {
   "cell_type": "markdown",
   "id": "cb498de1",
   "metadata": {},
   "source": [
    "# Pipeline. 🤔📈"
   ]
  },
  {
   "cell_type": "markdown",
   "id": "4b274573",
   "metadata": {},
   "source": [
    "❗ Mediante el empleo de pipeline podemos determinar de manera sencilla el mejor modelo predictivo para nuestros datos. De este modo, le pasamos un parámetro con varios modelos y nos devolverá el que mejor resultados obtenga."
   ]
  },
  {
   "cell_type": "code",
   "execution_count": null,
   "id": "9f29e3a0",
   "metadata": {},
   "outputs": [],
   "source": [
    "import pandas as pd\n",
    "import numpy as np\n",
    "\n",
    "from sklearn.model_selection import train_test_split\n",
    "from sklearn.linear_model import LinearRegression\n",
    "from sklearn.tree import DecisionTreeRegressor\n",
    "from sklearn.tree import plot_tree\n",
    "from sklearn.neighbors import KNeighborsRegressor\n",
    "from sklearn.model_selection import GridSearchCV\n",
    "from sklearn.ensemble import RandomForestRegressor\n",
    "from sklearn.ensemble import GradientBoostingRegressor\n",
    "from sklearn.model_selection import cross_val_score\n",
    "from sklearn.metrics import mean_squared_log_error, mean_squared_error, r2_score, mean_absolute_error\n",
    "from sklearn.model_selection import cross_val_score\n",
    "\n",
    "from sklearn.model_selection import cross_validate\n",
    "from sklearn.metrics import make_scorer\n",
    "from sklearn.pipeline import Pipeline"
   ]
  },
  {
   "cell_type": "code",
   "execution_count": null,
   "id": "8471ab26",
   "metadata": {},
   "outputs": [],
   "source": [
    "df = pd.read_csv(\"../../data/precio/dfclust.csv\", index_col = 0)\n",
    "df.head()"
   ]
  },
  {
   "cell_type": "markdown",
   "id": "a598ea35",
   "metadata": {},
   "source": [
    "❗⚠ **SE REALIZARÁ UN PIPELINE PARA CADA CLUSTER**.\n",
    "\n",
    "🤔 Para ello, en primer lugar se eliminarán todos los jugadores englobados en los clusters 1 y 2. Posteriormente, se realizará el mismo proceso que para el cluster 0 con los 1 y 2, eliminando en cada caso el resto de clusters.\n",
    "\n",
    "🧐 En definitiva, después de realizar el pipeline para cada cluster, obtenemos que en todos ellos el mejor modelo es la **regresión lineal**."
   ]
  },
  {
   "cell_type": "markdown",
   "id": "1d6b42e7",
   "metadata": {},
   "source": [
    "1️⃣ Se eliminan los cluster excepto 1, en este caso se trabajará con el cluster 1."
   ]
  },
  {
   "cell_type": "code",
   "execution_count": 3,
   "id": "ff4a249b",
   "metadata": {},
   "outputs": [],
   "source": [
    "df.drop(df[df['Cluster'] >= 1].index, inplace=True)"
   ]
  },
  {
   "cell_type": "markdown",
   "id": "f1e91d8f",
   "metadata": {},
   "source": [
    "2️⃣ Se analizan datos estadísticos generales de cada uno de los componentes del dataframe."
   ]
  },
  {
   "cell_type": "code",
   "execution_count": 4,
   "id": "fc0bc434",
   "metadata": {
    "scrolled": true
   },
   "outputs": [
    {
     "data": {
      "text/html": [
       "<div>\n",
       "<style scoped>\n",
       "    .dataframe tbody tr th:only-of-type {\n",
       "        vertical-align: middle;\n",
       "    }\n",
       "\n",
       "    .dataframe tbody tr th {\n",
       "        vertical-align: top;\n",
       "    }\n",
       "\n",
       "    .dataframe thead th {\n",
       "        text-align: right;\n",
       "    }\n",
       "</style>\n",
       "<table border=\"1\" class=\"dataframe\">\n",
       "  <thead>\n",
       "    <tr style=\"text-align: right;\">\n",
       "      <th></th>\n",
       "      <th>count</th>\n",
       "      <th>mean</th>\n",
       "      <th>std</th>\n",
       "      <th>min</th>\n",
       "      <th>25%</th>\n",
       "      <th>50%</th>\n",
       "      <th>75%</th>\n",
       "      <th>max</th>\n",
       "    </tr>\n",
       "  </thead>\n",
       "  <tbody>\n",
       "    <tr>\n",
       "      <th>edad</th>\n",
       "      <td>141.0</td>\n",
       "      <td>1.839716e+01</td>\n",
       "      <td>1.235657</td>\n",
       "      <td>16.0</td>\n",
       "      <td>18.0</td>\n",
       "      <td>18.0</td>\n",
       "      <td>19.0</td>\n",
       "      <td>21.0</td>\n",
       "    </tr>\n",
       "    <tr>\n",
       "      <th>Valoración_actual</th>\n",
       "      <td>141.0</td>\n",
       "      <td>6.573050e+01</td>\n",
       "      <td>1.974406</td>\n",
       "      <td>62.0</td>\n",
       "      <td>64.0</td>\n",
       "      <td>65.0</td>\n",
       "      <td>67.0</td>\n",
       "      <td>69.0</td>\n",
       "    </tr>\n",
       "    <tr>\n",
       "      <th>Progresión</th>\n",
       "      <td>141.0</td>\n",
       "      <td>8.162411e+01</td>\n",
       "      <td>1.754745</td>\n",
       "      <td>80.0</td>\n",
       "      <td>80.0</td>\n",
       "      <td>81.0</td>\n",
       "      <td>83.0</td>\n",
       "      <td>87.0</td>\n",
       "    </tr>\n",
       "    <tr>\n",
       "      <th>precio</th>\n",
       "      <td>141.0</td>\n",
       "      <td>2.095035e+06</td>\n",
       "      <td>650969.194041</td>\n",
       "      <td>1200000.0</td>\n",
       "      <td>1500000.0</td>\n",
       "      <td>2000000.0</td>\n",
       "      <td>2600000.0</td>\n",
       "      <td>3300000.0</td>\n",
       "    </tr>\n",
       "    <tr>\n",
       "      <th>Ataque</th>\n",
       "      <td>141.0</td>\n",
       "      <td>5.450355e+01</td>\n",
       "      <td>9.633738</td>\n",
       "      <td>27.0</td>\n",
       "      <td>50.0</td>\n",
       "      <td>57.0</td>\n",
       "      <td>61.0</td>\n",
       "      <td>71.0</td>\n",
       "    </tr>\n",
       "    <tr>\n",
       "      <th>Regate</th>\n",
       "      <td>141.0</td>\n",
       "      <td>6.887943e+01</td>\n",
       "      <td>4.301952</td>\n",
       "      <td>57.0</td>\n",
       "      <td>66.0</td>\n",
       "      <td>69.0</td>\n",
       "      <td>72.0</td>\n",
       "      <td>78.0</td>\n",
       "    </tr>\n",
       "    <tr>\n",
       "      <th>Aceleración</th>\n",
       "      <td>141.0</td>\n",
       "      <td>7.647518e+01</td>\n",
       "      <td>6.741748</td>\n",
       "      <td>59.0</td>\n",
       "      <td>71.0</td>\n",
       "      <td>77.0</td>\n",
       "      <td>82.0</td>\n",
       "      <td>92.0</td>\n",
       "    </tr>\n",
       "    <tr>\n",
       "      <th>Potencia_tiro</th>\n",
       "      <td>141.0</td>\n",
       "      <td>6.419149e+01</td>\n",
       "      <td>5.279225</td>\n",
       "      <td>48.0</td>\n",
       "      <td>61.0</td>\n",
       "      <td>65.0</td>\n",
       "      <td>68.0</td>\n",
       "      <td>78.0</td>\n",
       "    </tr>\n",
       "    <tr>\n",
       "      <th>Agresividad</th>\n",
       "      <td>141.0</td>\n",
       "      <td>4.688652e+01</td>\n",
       "      <td>10.295694</td>\n",
       "      <td>28.0</td>\n",
       "      <td>40.0</td>\n",
       "      <td>47.0</td>\n",
       "      <td>54.0</td>\n",
       "      <td>72.0</td>\n",
       "    </tr>\n",
       "    <tr>\n",
       "      <th>Defensa</th>\n",
       "      <td>141.0</td>\n",
       "      <td>2.926241e+01</td>\n",
       "      <td>9.804260</td>\n",
       "      <td>11.0</td>\n",
       "      <td>21.0</td>\n",
       "      <td>28.0</td>\n",
       "      <td>38.0</td>\n",
       "      <td>50.0</td>\n",
       "    </tr>\n",
       "    <tr>\n",
       "      <th>Portería</th>\n",
       "      <td>141.0</td>\n",
       "      <td>9.780142e+00</td>\n",
       "      <td>2.836225</td>\n",
       "      <td>5.0</td>\n",
       "      <td>7.0</td>\n",
       "      <td>9.0</td>\n",
       "      <td>12.0</td>\n",
       "      <td>15.0</td>\n",
       "    </tr>\n",
       "    <tr>\n",
       "      <th>Cluster</th>\n",
       "      <td>141.0</td>\n",
       "      <td>0.000000e+00</td>\n",
       "      <td>0.000000</td>\n",
       "      <td>0.0</td>\n",
       "      <td>0.0</td>\n",
       "      <td>0.0</td>\n",
       "      <td>0.0</td>\n",
       "      <td>0.0</td>\n",
       "    </tr>\n",
       "  </tbody>\n",
       "</table>\n",
       "</div>"
      ],
      "text/plain": [
       "                   count          mean            std        min        25%  \\\n",
       "edad               141.0  1.839716e+01       1.235657       16.0       18.0   \n",
       "Valoración_actual  141.0  6.573050e+01       1.974406       62.0       64.0   \n",
       "Progresión         141.0  8.162411e+01       1.754745       80.0       80.0   \n",
       "precio             141.0  2.095035e+06  650969.194041  1200000.0  1500000.0   \n",
       "Ataque             141.0  5.450355e+01       9.633738       27.0       50.0   \n",
       "Regate             141.0  6.887943e+01       4.301952       57.0       66.0   \n",
       "Aceleración        141.0  7.647518e+01       6.741748       59.0       71.0   \n",
       "Potencia_tiro      141.0  6.419149e+01       5.279225       48.0       61.0   \n",
       "Agresividad        141.0  4.688652e+01      10.295694       28.0       40.0   \n",
       "Defensa            141.0  2.926241e+01       9.804260       11.0       21.0   \n",
       "Portería           141.0  9.780142e+00       2.836225        5.0        7.0   \n",
       "Cluster            141.0  0.000000e+00       0.000000        0.0        0.0   \n",
       "\n",
       "                         50%        75%        max  \n",
       "edad                    18.0       19.0       21.0  \n",
       "Valoración_actual       65.0       67.0       69.0  \n",
       "Progresión              81.0       83.0       87.0  \n",
       "precio             2000000.0  2600000.0  3300000.0  \n",
       "Ataque                  57.0       61.0       71.0  \n",
       "Regate                  69.0       72.0       78.0  \n",
       "Aceleración             77.0       82.0       92.0  \n",
       "Potencia_tiro           65.0       68.0       78.0  \n",
       "Agresividad             47.0       54.0       72.0  \n",
       "Defensa                 28.0       38.0       50.0  \n",
       "Portería                 9.0       12.0       15.0  \n",
       "Cluster                  0.0        0.0        0.0  "
      ]
     },
     "execution_count": 4,
     "metadata": {},
     "output_type": "execute_result"
    }
   ],
   "source": [
    "df.describe().T"
   ]
  },
  {
   "cell_type": "markdown",
   "id": "79f410e8",
   "metadata": {},
   "source": [
    "3️⃣ Se establecen las condiciones para la realización del pipeline. En este caso, se fijan 4 modelos distintos que se analizarán para obtener el que mejor métricas devuelva."
   ]
  },
  {
   "cell_type": "code",
   "execution_count": 5,
   "id": "11519723",
   "metadata": {},
   "outputs": [],
   "source": [
    "y = df[\"precio\"]\n",
    "X = df.drop(columns=[\"precio\"])"
   ]
  },
  {
   "cell_type": "code",
   "execution_count": 6,
   "id": "d86eac4b",
   "metadata": {},
   "outputs": [],
   "source": [
    "pipe = Pipeline(steps=[('estimator', LinearRegression())])"
   ]
  },
  {
   "cell_type": "code",
   "execution_count": 7,
   "id": "6c801e31",
   "metadata": {},
   "outputs": [],
   "source": [
    "params_grid = [{\n",
    "                'estimator':[LinearRegression()],\n",
    "                },\n",
    "                {\n",
    "                'estimator': [DecisionTreeRegressor()],\n",
    "                'estimator__max_depth': [4, 5, 6, 7],\n",
    "                'estimator__max_features': [\"sqrt\", \"log2\"],\n",
    "                'estimator__min_samples_split': [10, 50, 100], \n",
    "                'estimator__min_samples_leaf':[1,2,3],\n",
    "                },\n",
    "                {'estimator':[RandomForestRegressor()],\n",
    "                 'estimator__n_estimators':[50,100,200,300],\n",
    "                 'estimator__max_depth':[4, 5, 6, 7, 9], \n",
    "                 'estimator__min_samples_split':[2,3,4], \n",
    "                 'estimator__min_samples_leaf':[1,2,3],\n",
    "                },\n",
    "                {'estimator':[KNeighborsRegressor()],\n",
    "                 'estimator__n_neighbors':[3,5,6,7, 8, 9, 10],\n",
    "                }\n",
    "\n",
    "              ]"
   ]
  },
  {
   "cell_type": "code",
   "execution_count": 8,
   "id": "07a7d908",
   "metadata": {},
   "outputs": [],
   "source": [
    "grid = GridSearchCV(pipe, params_grid, n_jobs= -1, verbose = 3)"
   ]
  },
  {
   "cell_type": "code",
   "execution_count": 9,
   "id": "1a207413",
   "metadata": {},
   "outputs": [
    {
     "name": "stdout",
     "output_type": "stream",
     "text": [
      "Fitting 5 folds for each of 260 candidates, totalling 1300 fits\n",
      "Wall time: 1min 57s\n"
     ]
    }
   ],
   "source": [
    "%%time\n",
    "res = grid.fit(X, y)"
   ]
  },
  {
   "cell_type": "markdown",
   "id": "bc40afe9",
   "metadata": {},
   "source": [
    "4️⃣ Se obtiene que el modelo que mejor se ajusta a nuestros datos es la **regresión lineal**."
   ]
  },
  {
   "cell_type": "code",
   "execution_count": 10,
   "id": "45c4b09f",
   "metadata": {},
   "outputs": [
    {
     "data": {
      "text/plain": [
       "{'estimator': LinearRegression()}"
      ]
     },
     "execution_count": 10,
     "metadata": {},
     "output_type": "execute_result"
    }
   ],
   "source": [
    "best_model = grid.best_params_\n",
    "best_model"
   ]
  },
  {
   "cell_type": "markdown",
   "id": "32550fa2",
   "metadata": {},
   "source": [
    "5️⃣ Se muestran los resultados obtenidos."
   ]
  },
  {
   "cell_type": "code",
   "execution_count": 11,
   "id": "510b6867",
   "metadata": {
    "scrolled": true
   },
   "outputs": [
    {
     "data": {
      "text/html": [
       "<div>\n",
       "<style scoped>\n",
       "    .dataframe tbody tr th:only-of-type {\n",
       "        vertical-align: middle;\n",
       "    }\n",
       "\n",
       "    .dataframe tbody tr th {\n",
       "        vertical-align: top;\n",
       "    }\n",
       "\n",
       "    .dataframe thead th {\n",
       "        text-align: right;\n",
       "    }\n",
       "</style>\n",
       "<table border=\"1\" class=\"dataframe\">\n",
       "  <thead>\n",
       "    <tr style=\"text-align: right;\">\n",
       "      <th></th>\n",
       "      <th>mean_fit_time</th>\n",
       "      <th>std_fit_time</th>\n",
       "      <th>mean_score_time</th>\n",
       "      <th>std_score_time</th>\n",
       "      <th>param_estimator</th>\n",
       "      <th>param_estimator__max_depth</th>\n",
       "      <th>param_estimator__max_features</th>\n",
       "      <th>param_estimator__min_samples_leaf</th>\n",
       "      <th>param_estimator__min_samples_split</th>\n",
       "      <th>param_estimator__n_estimators</th>\n",
       "      <th>param_estimator__n_neighbors</th>\n",
       "      <th>params</th>\n",
       "      <th>split0_test_score</th>\n",
       "      <th>split1_test_score</th>\n",
       "      <th>split2_test_score</th>\n",
       "      <th>split3_test_score</th>\n",
       "      <th>split4_test_score</th>\n",
       "      <th>mean_test_score</th>\n",
       "      <th>std_test_score</th>\n",
       "      <th>rank_test_score</th>\n",
       "    </tr>\n",
       "  </thead>\n",
       "  <tbody>\n",
       "    <tr>\n",
       "      <th>0</th>\n",
       "      <td>0.003598</td>\n",
       "      <td>0.003005</td>\n",
       "      <td>0.005523</td>\n",
       "      <td>0.005395</td>\n",
       "      <td>LinearRegression()</td>\n",
       "      <td>NaN</td>\n",
       "      <td>NaN</td>\n",
       "      <td>NaN</td>\n",
       "      <td>NaN</td>\n",
       "      <td>NaN</td>\n",
       "      <td>NaN</td>\n",
       "      <td>{'estimator': LinearRegression()}</td>\n",
       "      <td>-0.276198</td>\n",
       "      <td>0.827328</td>\n",
       "      <td>0.777239</td>\n",
       "      <td>0.779873</td>\n",
       "      <td>0.171848</td>\n",
       "      <td>0.456018</td>\n",
       "      <td>0.438823</td>\n",
       "      <td>1</td>\n",
       "    </tr>\n",
       "    <tr>\n",
       "      <th>1</th>\n",
       "      <td>0.004598</td>\n",
       "      <td>0.000489</td>\n",
       "      <td>0.003398</td>\n",
       "      <td>0.000490</td>\n",
       "      <td>DecisionTreeRegressor()</td>\n",
       "      <td>4</td>\n",
       "      <td>sqrt</td>\n",
       "      <td>1</td>\n",
       "      <td>10</td>\n",
       "      <td>NaN</td>\n",
       "      <td>NaN</td>\n",
       "      <td>{'estimator': DecisionTreeRegressor(), 'estima...</td>\n",
       "      <td>-31.640392</td>\n",
       "      <td>-4.685279</td>\n",
       "      <td>-3.528986</td>\n",
       "      <td>-0.459067</td>\n",
       "      <td>-12.197905</td>\n",
       "      <td>-10.502326</td>\n",
       "      <td>11.251892</td>\n",
       "      <td>216</td>\n",
       "    </tr>\n",
       "    <tr>\n",
       "      <th>2</th>\n",
       "      <td>0.006597</td>\n",
       "      <td>0.002869</td>\n",
       "      <td>0.004997</td>\n",
       "      <td>0.000894</td>\n",
       "      <td>DecisionTreeRegressor()</td>\n",
       "      <td>4</td>\n",
       "      <td>sqrt</td>\n",
       "      <td>1</td>\n",
       "      <td>50</td>\n",
       "      <td>NaN</td>\n",
       "      <td>NaN</td>\n",
       "      <td>{'estimator': DecisionTreeRegressor(), 'estima...</td>\n",
       "      <td>-20.954551</td>\n",
       "      <td>-0.211676</td>\n",
       "      <td>-0.012916</td>\n",
       "      <td>0.073653</td>\n",
       "      <td>-21.351088</td>\n",
       "      <td>-8.491315</td>\n",
       "      <td>10.339249</td>\n",
       "      <td>202</td>\n",
       "    </tr>\n",
       "    <tr>\n",
       "      <th>3</th>\n",
       "      <td>0.007995</td>\n",
       "      <td>0.003345</td>\n",
       "      <td>0.006396</td>\n",
       "      <td>0.003135</td>\n",
       "      <td>DecisionTreeRegressor()</td>\n",
       "      <td>4</td>\n",
       "      <td>sqrt</td>\n",
       "      <td>1</td>\n",
       "      <td>100</td>\n",
       "      <td>NaN</td>\n",
       "      <td>NaN</td>\n",
       "      <td>{'estimator': DecisionTreeRegressor(), 'estima...</td>\n",
       "      <td>-20.954551</td>\n",
       "      <td>-3.930198</td>\n",
       "      <td>-1.505176</td>\n",
       "      <td>-21.103145</td>\n",
       "      <td>-22.729268</td>\n",
       "      <td>-14.044468</td>\n",
       "      <td>9.300884</td>\n",
       "      <td>229</td>\n",
       "    </tr>\n",
       "    <tr>\n",
       "      <th>4</th>\n",
       "      <td>0.006396</td>\n",
       "      <td>0.001854</td>\n",
       "      <td>0.004198</td>\n",
       "      <td>0.001599</td>\n",
       "      <td>DecisionTreeRegressor()</td>\n",
       "      <td>4</td>\n",
       "      <td>sqrt</td>\n",
       "      <td>2</td>\n",
       "      <td>10</td>\n",
       "      <td>NaN</td>\n",
       "      <td>NaN</td>\n",
       "      <td>{'estimator': DecisionTreeRegressor(), 'estima...</td>\n",
       "      <td>-17.622022</td>\n",
       "      <td>-7.615833</td>\n",
       "      <td>-0.849655</td>\n",
       "      <td>-9.713761</td>\n",
       "      <td>-7.435796</td>\n",
       "      <td>-8.647414</td>\n",
       "      <td>5.385497</td>\n",
       "      <td>204</td>\n",
       "    </tr>\n",
       "  </tbody>\n",
       "</table>\n",
       "</div>"
      ],
      "text/plain": [
       "   mean_fit_time  std_fit_time  mean_score_time  std_score_time  \\\n",
       "0       0.003598      0.003005         0.005523        0.005395   \n",
       "1       0.004598      0.000489         0.003398        0.000490   \n",
       "2       0.006597      0.002869         0.004997        0.000894   \n",
       "3       0.007995      0.003345         0.006396        0.003135   \n",
       "4       0.006396      0.001854         0.004198        0.001599   \n",
       "\n",
       "           param_estimator param_estimator__max_depth  \\\n",
       "0       LinearRegression()                        NaN   \n",
       "1  DecisionTreeRegressor()                          4   \n",
       "2  DecisionTreeRegressor()                          4   \n",
       "3  DecisionTreeRegressor()                          4   \n",
       "4  DecisionTreeRegressor()                          4   \n",
       "\n",
       "  param_estimator__max_features param_estimator__min_samples_leaf  \\\n",
       "0                           NaN                               NaN   \n",
       "1                          sqrt                                 1   \n",
       "2                          sqrt                                 1   \n",
       "3                          sqrt                                 1   \n",
       "4                          sqrt                                 2   \n",
       "\n",
       "  param_estimator__min_samples_split param_estimator__n_estimators  \\\n",
       "0                                NaN                           NaN   \n",
       "1                                 10                           NaN   \n",
       "2                                 50                           NaN   \n",
       "3                                100                           NaN   \n",
       "4                                 10                           NaN   \n",
       "\n",
       "  param_estimator__n_neighbors  \\\n",
       "0                          NaN   \n",
       "1                          NaN   \n",
       "2                          NaN   \n",
       "3                          NaN   \n",
       "4                          NaN   \n",
       "\n",
       "                                              params  split0_test_score  \\\n",
       "0                  {'estimator': LinearRegression()}          -0.276198   \n",
       "1  {'estimator': DecisionTreeRegressor(), 'estima...         -31.640392   \n",
       "2  {'estimator': DecisionTreeRegressor(), 'estima...         -20.954551   \n",
       "3  {'estimator': DecisionTreeRegressor(), 'estima...         -20.954551   \n",
       "4  {'estimator': DecisionTreeRegressor(), 'estima...         -17.622022   \n",
       "\n",
       "   split1_test_score  split2_test_score  split3_test_score  split4_test_score  \\\n",
       "0           0.827328           0.777239           0.779873           0.171848   \n",
       "1          -4.685279          -3.528986          -0.459067         -12.197905   \n",
       "2          -0.211676          -0.012916           0.073653         -21.351088   \n",
       "3          -3.930198          -1.505176         -21.103145         -22.729268   \n",
       "4          -7.615833          -0.849655          -9.713761          -7.435796   \n",
       "\n",
       "   mean_test_score  std_test_score  rank_test_score  \n",
       "0         0.456018        0.438823                1  \n",
       "1       -10.502326       11.251892              216  \n",
       "2        -8.491315       10.339249              202  \n",
       "3       -14.044468        9.300884              229  \n",
       "4        -8.647414        5.385497              204  "
      ]
     },
     "execution_count": 11,
     "metadata": {},
     "output_type": "execute_result"
    }
   ],
   "source": [
    "results = pd.DataFrame(grid.cv_results_).head()\n",
    "results.head()"
   ]
  },
  {
   "cell_type": "code",
   "execution_count": 12,
   "id": "ad856b63",
   "metadata": {},
   "outputs": [
    {
     "name": "stderr",
     "output_type": "stream",
     "text": [
      "[Parallel(n_jobs=-1)]: Using backend LokyBackend with 4 concurrent workers.\n",
      "[Parallel(n_jobs=-1)]: Done   7 out of  10 | elapsed:    0.0s remaining:    0.0s\n",
      "[Parallel(n_jobs=-1)]: Done  10 out of  10 | elapsed:    0.1s finished\n"
     ]
    }
   ],
   "source": [
    "results = cross_validate(LinearRegression(), \n",
    "               X=X, y=y, scoring='neg_root_mean_squared_error', cv=10, verbose = 3,  n_jobs= -1)"
   ]
  },
  {
   "cell_type": "code",
   "execution_count": 13,
   "id": "66bfdd02",
   "metadata": {},
   "outputs": [
    {
     "data": {
      "text/plain": [
       "98486.9054602189"
      ]
     },
     "execution_count": 13,
     "metadata": {},
     "output_type": "execute_result"
    }
   ],
   "source": [
    "rmse_ = abs(results[\"test_score\"].mean())\n",
    "rmse_"
   ]
  }
 ],
 "metadata": {
  "kernelspec": {
   "display_name": "Python 3 (ipykernel)",
   "language": "python",
   "name": "python3"
  },
  "language_info": {
   "codemirror_mode": {
    "name": "ipython",
    "version": 3
   },
   "file_extension": ".py",
   "mimetype": "text/x-python",
   "name": "python",
   "nbconvert_exporter": "python",
   "pygments_lexer": "ipython3",
   "version": "3.9.5"
  }
 },
 "nbformat": 4,
 "nbformat_minor": 5
}
