{
 "cells": [
  {
   "cell_type": "code",
   "execution_count": 4,
   "id": "e6c43f47",
   "metadata": {},
   "outputs": [],
   "source": [
    "import pandas as pd\n",
    "import numpy as np\n",
    "import re\n",
    "from bs4 import BeautifulSoup\n",
    "import requests\n",
    "\n",
    "pd.options.display.max_columns = None"
   ]
  },
  {
   "cell_type": "code",
   "execution_count": 5,
   "id": "69069cbb",
   "metadata": {},
   "outputs": [],
   "source": [
    "datos = ['https://sofifa.com/players?type=all&aeh=21&oah=70&ptl=80', 'https://sofifa.com/players?type=all&aeh=21&oah=70&ptl=80&offset=60',\n",
    "        'https://sofifa.com/players?type=all&aeh=21&oah=70&ptl=80&offset=120', 'https://sofifa.com/players?type=all&aeh=21&oah=70&ptl=80&offset=180',\n",
    "         'https://sofifa.com/players?type=all&aeh=21&oah=70&ptl=80&offset=240', 'https://sofifa.com/players?type=all&aeh=21&oah=70&ptl=80&offset=300',\n",
    "         'https://sofifa.com/players?type=all&aeh=21&oah=70&ptl=80&offset=360', 'https://sofifa.com/players?type=all&aeh=21&oah=70&ptl=80&offset=420']"
   ]
  },
  {
   "cell_type": "code",
   "execution_count": 6,
   "id": "aee1e2de",
   "metadata": {},
   "outputs": [],
   "source": [
    "nombre = pd.DataFrame()\n",
    "\n",
    "for i in datos:\n",
    "    url = i\n",
    "    html = requests.get(url)\n",
    "    soup = BeautifulSoup(html.content, \"html.parser\")\n",
    "    html.status_code\n",
    "    \n",
    "    productos = soup.find_all(\"td\", {\"class\": \"col-name\"})\n",
    "    \n",
    "    jugadores = {'jugador': []}\n",
    "    \n",
    "    for x in productos:\n",
    "        jugadores['jugador'].append(x.find('a').get('href')) \n",
    "    \n",
    "    jugadores_top = pd.DataFrame(jugadores)\n",
    "    \n",
    "    jugadores_top['jug'] = jugadores_top['jugador'].str.extract(r'(?<=\\/player\\/\\d\\d\\d\\d\\d\\d\\/)(.*)(?=\\/220057)')\n",
    "    \n",
    "    jugadores_fichar = jugadores_top.dropna()\n",
    "    jugadores_fichar = jugadores_fichar.reset_index(drop=True)\n",
    "    \n",
    "    equipos = jugadores_fichar.drop(['jugador'], axis=1)\n",
    "    \n",
    "    nombre = pd.concat([nombre, equipos], axis=0)"
   ]
  },
  {
   "cell_type": "code",
   "execution_count": 7,
   "id": "6fd8e6ea",
   "metadata": {},
   "outputs": [
    {
     "data": {
      "text/html": [
       "<div>\n",
       "<style scoped>\n",
       "    .dataframe tbody tr th:only-of-type {\n",
       "        vertical-align: middle;\n",
       "    }\n",
       "\n",
       "    .dataframe tbody tr th {\n",
       "        vertical-align: top;\n",
       "    }\n",
       "\n",
       "    .dataframe thead th {\n",
       "        text-align: right;\n",
       "    }\n",
       "</style>\n",
       "<table border=\"1\" class=\"dataframe\">\n",
       "  <thead>\n",
       "    <tr style=\"text-align: right;\">\n",
       "      <th></th>\n",
       "      <th>jug</th>\n",
       "    </tr>\n",
       "  </thead>\n",
       "  <tbody>\n",
       "    <tr>\n",
       "      <th>0</th>\n",
       "      <td>gaston-alvarez</td>\n",
       "    </tr>\n",
       "    <tr>\n",
       "      <th>1</th>\n",
       "      <td>abdessamad-ezzalzouli</td>\n",
       "    </tr>\n",
       "  </tbody>\n",
       "</table>\n",
       "</div>"
      ],
      "text/plain": [
       "                     jug\n",
       "0         gaston-alvarez\n",
       "1  abdessamad-ezzalzouli"
      ]
     },
     "execution_count": 7,
     "metadata": {},
     "output_type": "execute_result"
    }
   ],
   "source": [
    "nombre = nombre.reset_index(drop=True)\n",
    "nombre.head(2)"
   ]
  },
  {
   "cell_type": "code",
   "execution_count": 8,
   "id": "b3a062c0",
   "metadata": {},
   "outputs": [],
   "source": [
    "equipo = pd.DataFrame()\n",
    "\n",
    "for i in datos:\n",
    "    url = i\n",
    "    html = requests.get(url)\n",
    "    soup = BeautifulSoup(html.content, \"html.parser\")\n",
    "    html.status_code\n",
    "    \n",
    "    productos = soup.find_all(\"td\", {\"class\": \"col-name\"})\n",
    "    \n",
    "    jugadores = {'jugador': []}\n",
    "    \n",
    "    for x in productos:\n",
    "        jugadores['jugador'].append(x.find('a').get('href')) \n",
    "    \n",
    "    jugadores_top = pd.DataFrame(jugadores)\n",
    "    \n",
    "    jugadores_top['team1'] = jugadores_top['jugador'].str.extract(r'(?<=\\/team\\/)(.*)(?=\\/)')\n",
    "    jugadores_top['team'] = jugadores_top['team1'].str.extract(r'(?<=\\d\\/)(.*)')\n",
    "    \n",
    "    equipos = jugadores_top.drop(['jugador','team1'], axis=1)\n",
    "    \n",
    "    equip = equipos.dropna()\n",
    "    equip = equip.reset_index(drop=True)\n",
    "    \n",
    "    equipo = pd.concat([equipo, equip], axis=0)"
   ]
  },
  {
   "cell_type": "code",
   "execution_count": 9,
   "id": "9edd00b9",
   "metadata": {},
   "outputs": [
    {
     "data": {
      "text/html": [
       "<div>\n",
       "<style scoped>\n",
       "    .dataframe tbody tr th:only-of-type {\n",
       "        vertical-align: middle;\n",
       "    }\n",
       "\n",
       "    .dataframe tbody tr th {\n",
       "        vertical-align: top;\n",
       "    }\n",
       "\n",
       "    .dataframe thead th {\n",
       "        text-align: right;\n",
       "    }\n",
       "</style>\n",
       "<table border=\"1\" class=\"dataframe\">\n",
       "  <thead>\n",
       "    <tr style=\"text-align: right;\">\n",
       "      <th></th>\n",
       "      <th>team</th>\n",
       "    </tr>\n",
       "  </thead>\n",
       "  <tbody>\n",
       "    <tr>\n",
       "      <th>0</th>\n",
       "      <td>getafe-cf</td>\n",
       "    </tr>\n",
       "    <tr>\n",
       "      <th>1</th>\n",
       "      <td>fc-barcelona</td>\n",
       "    </tr>\n",
       "  </tbody>\n",
       "</table>\n",
       "</div>"
      ],
      "text/plain": [
       "           team\n",
       "0     getafe-cf\n",
       "1  fc-barcelona"
      ]
     },
     "execution_count": 9,
     "metadata": {},
     "output_type": "execute_result"
    }
   ],
   "source": [
    "equipo = equipo.reset_index(drop=True)\n",
    "equipo.head(2)"
   ]
  },
  {
   "cell_type": "code",
   "execution_count": 10,
   "id": "356aa637",
   "metadata": {},
   "outputs": [
    {
     "data": {
      "text/html": [
       "<div>\n",
       "<style scoped>\n",
       "    .dataframe tbody tr th:only-of-type {\n",
       "        vertical-align: middle;\n",
       "    }\n",
       "\n",
       "    .dataframe tbody tr th {\n",
       "        vertical-align: top;\n",
       "    }\n",
       "\n",
       "    .dataframe thead th {\n",
       "        text-align: right;\n",
       "    }\n",
       "</style>\n",
       "<table border=\"1\" class=\"dataframe\">\n",
       "  <thead>\n",
       "    <tr style=\"text-align: right;\">\n",
       "      <th></th>\n",
       "      <th>jug</th>\n",
       "      <th>team</th>\n",
       "    </tr>\n",
       "  </thead>\n",
       "  <tbody>\n",
       "    <tr>\n",
       "      <th>0</th>\n",
       "      <td>gaston-alvarez</td>\n",
       "      <td>getafe-cf</td>\n",
       "    </tr>\n",
       "    <tr>\n",
       "      <th>1</th>\n",
       "      <td>abdessamad-ezzalzouli</td>\n",
       "      <td>fc-barcelona</td>\n",
       "    </tr>\n",
       "  </tbody>\n",
       "</table>\n",
       "</div>"
      ],
      "text/plain": [
       "                     jug          team\n",
       "0         gaston-alvarez     getafe-cf\n",
       "1  abdessamad-ezzalzouli  fc-barcelona"
      ]
     },
     "execution_count": 10,
     "metadata": {},
     "output_type": "execute_result"
    }
   ],
   "source": [
    "nomyequip = pd.concat([nombre, equipo], axis=1)\n",
    "nomyequip.head(2)"
   ]
  },
  {
   "cell_type": "code",
   "execution_count": 13,
   "id": "303ce620",
   "metadata": {},
   "outputs": [],
   "source": [
    "nomyequip = nomyequip.drop(nomyequip.index[[31,80,89,95,116,158,208,263]])\n",
    "nomyequip = nomyequip.reset_index(drop=True)"
   ]
  },
  {
   "cell_type": "code",
   "execution_count": 14,
   "id": "214c91d3",
   "metadata": {},
   "outputs": [],
   "source": [
    "nuevas_columnas = {\n",
    "    'jug' : 'Nombre jugador', \n",
    "    'team': \"Equipo actual\"}"
   ]
  },
  {
   "cell_type": "code",
   "execution_count": 15,
   "id": "529a4f8c",
   "metadata": {},
   "outputs": [
    {
     "data": {
      "text/html": [
       "<div>\n",
       "<style scoped>\n",
       "    .dataframe tbody tr th:only-of-type {\n",
       "        vertical-align: middle;\n",
       "    }\n",
       "\n",
       "    .dataframe tbody tr th {\n",
       "        vertical-align: top;\n",
       "    }\n",
       "\n",
       "    .dataframe thead th {\n",
       "        text-align: right;\n",
       "    }\n",
       "</style>\n",
       "<table border=\"1\" class=\"dataframe\">\n",
       "  <thead>\n",
       "    <tr style=\"text-align: right;\">\n",
       "      <th></th>\n",
       "      <th>Nombre jugador</th>\n",
       "      <th>Equipo actual</th>\n",
       "    </tr>\n",
       "  </thead>\n",
       "  <tbody>\n",
       "    <tr>\n",
       "      <th>0</th>\n",
       "      <td>gaston-alvarez</td>\n",
       "      <td>getafe-cf</td>\n",
       "    </tr>\n",
       "    <tr>\n",
       "      <th>1</th>\n",
       "      <td>abdessamad-ezzalzouli</td>\n",
       "      <td>fc-barcelona</td>\n",
       "    </tr>\n",
       "  </tbody>\n",
       "</table>\n",
       "</div>"
      ],
      "text/plain": [
       "          Nombre jugador Equipo actual\n",
       "0         gaston-alvarez     getafe-cf\n",
       "1  abdessamad-ezzalzouli  fc-barcelona"
      ]
     },
     "execution_count": 15,
     "metadata": {},
     "output_type": "execute_result"
    }
   ],
   "source": [
    "nomyequip.rename(columns = nuevas_columnas, inplace = True)\n",
    "nomyequip.head(2)"
   ]
  },
  {
   "cell_type": "code",
   "execution_count": 16,
   "id": "86d0143d",
   "metadata": {},
   "outputs": [],
   "source": [
    "nomyequip.to_csv('../../data/precio/nombres_equipos.csv')"
   ]
  }
 ],
 "metadata": {
  "kernelspec": {
   "display_name": "Python 3 (ipykernel)",
   "language": "python",
   "name": "python3"
  },
  "language_info": {
   "codemirror_mode": {
    "name": "ipython",
    "version": 3
   },
   "file_extension": ".py",
   "mimetype": "text/x-python",
   "name": "python",
   "nbconvert_exporter": "python",
   "pygments_lexer": "ipython3",
   "version": "3.9.5"
  }
 },
 "nbformat": 4,
 "nbformat_minor": 5
}
