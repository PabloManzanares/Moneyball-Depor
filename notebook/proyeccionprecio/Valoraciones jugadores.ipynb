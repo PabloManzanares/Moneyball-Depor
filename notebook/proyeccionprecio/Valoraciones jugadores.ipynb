{
 "cells": [
  {
   "cell_type": "code",
   "execution_count": 1,
   "id": "99520fba",
   "metadata": {},
   "outputs": [],
   "source": [
    "import pandas as pd\n",
    "import numpy as np\n",
    "from bs4 import BeautifulSoup\n",
    "import requests\n",
    "\n",
    "pd.options.display.max_columns = None"
   ]
  },
  {
   "cell_type": "code",
   "execution_count": 29,
   "id": "40eb60ca",
   "metadata": {},
   "outputs": [],
   "source": [
    "datos = ['https://sofifa.com/players?type=all&aeh=21&oah=70&ptl=80', 'https://sofifa.com/players?type=all&aeh=21&oah=70&ptl=80&offset=60',\n",
    "        'https://sofifa.com/players?type=all&aeh=21&oah=70&ptl=80&offset=120', 'https://sofifa.com/players?type=all&aeh=21&oah=70&ptl=80&offset=180',\n",
    "         'https://sofifa.com/players?type=all&aeh=21&oah=70&ptl=80&offset=240', 'https://sofifa.com/players?type=all&aeh=21&oah=70&ptl=80&offset=300',\n",
    "         'https://sofifa.com/players?type=all&aeh=21&oah=70&ptl=80&offset=360', 'https://sofifa.com/players?type=all&aeh=21&oah=70&ptl=80&offset=420']"
   ]
  },
  {
   "cell_type": "code",
   "execution_count": 30,
   "id": "bac25c05",
   "metadata": {},
   "outputs": [],
   "source": [
    "nombre = pd.DataFrame()\n",
    "\n",
    "for i in datos:\n",
    "    url = i\n",
    "    html = requests.get(url)\n",
    "    soup = BeautifulSoup(html.content, \"html.parser\")\n",
    "    html.status_code\n",
    "    \n",
    "    productos = soup.find_all(\"td\", {\"class\": \"col-name\"})\n",
    "    \n",
    "    jugadores = {'jugador': []}\n",
    "    \n",
    "    for x in productos:\n",
    "        jugadores['jugador'].append(x.find('a').get('href')) \n",
    "    \n",
    "    jugadores_top = pd.DataFrame(jugadores)\n",
    "    \n",
    "    jugadores_top['jug'] = jugadores_top['jugador'].str.extract(r'(?<=\\/player\\/)(.*)(?=\\/220057)')\n",
    "    \n",
    "    jugadores_fichar = jugadores_top.dropna()\n",
    "    jugadores_fichar = jugadores_fichar.reset_index(drop=True)\n",
    "    \n",
    "    equipos = jugadores_fichar.drop(['jugador'], axis=1)\n",
    "    \n",
    "    nombre = pd.concat([nombre, equipos], axis=0)"
   ]
  },
  {
   "cell_type": "code",
   "execution_count": 31,
   "id": "f2eec8f4",
   "metadata": {},
   "outputs": [],
   "source": [
    "nombre = nombre.reset_index(drop=True)"
   ]
  },
  {
   "cell_type": "code",
   "execution_count": 35,
   "id": "103da547",
   "metadata": {},
   "outputs": [
    {
     "data": {
      "text/html": [
       "<div>\n",
       "<style scoped>\n",
       "    .dataframe tbody tr th:only-of-type {\n",
       "        vertical-align: middle;\n",
       "    }\n",
       "\n",
       "    .dataframe tbody tr th {\n",
       "        vertical-align: top;\n",
       "    }\n",
       "\n",
       "    .dataframe thead th {\n",
       "        text-align: right;\n",
       "    }\n",
       "</style>\n",
       "<table border=\"1\" class=\"dataframe\">\n",
       "  <thead>\n",
       "    <tr style=\"text-align: right;\">\n",
       "      <th></th>\n",
       "      <th>jug</th>\n",
       "    </tr>\n",
       "  </thead>\n",
       "  <tbody>\n",
       "    <tr>\n",
       "      <th>0</th>\n",
       "      <td>266797/gaston-alvarez</td>\n",
       "    </tr>\n",
       "    <tr>\n",
       "      <th>1</th>\n",
       "      <td>264432/abdessamad-ezzalzouli</td>\n",
       "    </tr>\n",
       "  </tbody>\n",
       "</table>\n",
       "</div>"
      ],
      "text/plain": [
       "                            jug\n",
       "0         266797/gaston-alvarez\n",
       "1  264432/abdessamad-ezzalzouli"
      ]
     },
     "execution_count": 35,
     "metadata": {},
     "output_type": "execute_result"
    }
   ],
   "source": [
    "nombre.head(2)"
   ]
  },
  {
   "cell_type": "code",
   "execution_count": 36,
   "id": "ebe4725d",
   "metadata": {},
   "outputs": [],
   "source": [
    "jugar_caract = pd.DataFrame()\n",
    "\n",
    "for i in range(0,426):\n",
    "    jug = nombre['jug'][i]\n",
    "    \n",
    "    \n",
    "    url2 = 'https://sofifa.com/player/' + jug + '/220057/'\n",
    "    html2 = requests.get(url2)\n",
    "    soup2 = BeautifulSoup(html2.content, \"html.parser\")\n",
    "    html2.status_code\n",
    "    \n",
    "    productos2 = soup2.find_all(\"ul\", {\"class\": \"pl\"})\n",
    "    \n",
    "    \n",
    "    caract = {'jugador': []}\n",
    "    for i in productos2:\n",
    "        caract['jugador'].append(i) \n",
    "    \n",
    "    caract = pd.DataFrame(caract)\n",
    "\n",
    "    caract.rename(columns = {'jugador': jug}, inplace = True)\n",
    "    caract[jug] = caract[jug].astype(str)\n",
    "    \n",
    "    caract[jug] = caract[jug].str.extract(r'(?<=\\d\\\"\\>)(\\d+)(?=\\<\\/span\\>)')\n",
    "    \n",
    "    caract_jug = caract.dropna()\n",
    "    caract_jug = caract_jug.T\n",
    "\n",
    "    \n",
    "    jugar_caract = pd.concat([jugar_caract, caract_jug], axis=0)"
   ]
  },
  {
   "cell_type": "code",
   "execution_count": 37,
   "id": "232d33f4",
   "metadata": {},
   "outputs": [],
   "source": [
    "jugar_caract = jugar_caract.reset_index(drop=True)"
   ]
  },
  {
   "cell_type": "code",
   "execution_count": 48,
   "id": "2a8ccca9",
   "metadata": {},
   "outputs": [],
   "source": [
    "jugar_caract = jugar_caract.drop(jugar_caract.index[[31,80,89,95,116,158,208,263]])"
   ]
  },
  {
   "cell_type": "code",
   "execution_count": 50,
   "id": "b0f4e11b",
   "metadata": {},
   "outputs": [],
   "source": [
    "jugar_caract = jugar_caract.reset_index(drop=True)\n",
    "jugar_caract = jugar_caract.drop([11], axis = 1)"
   ]
  },
  {
   "cell_type": "code",
   "execution_count": 55,
   "id": "f7177656",
   "metadata": {},
   "outputs": [
    {
     "data": {
      "text/html": [
       "<div>\n",
       "<style scoped>\n",
       "    .dataframe tbody tr th:only-of-type {\n",
       "        vertical-align: middle;\n",
       "    }\n",
       "\n",
       "    .dataframe tbody tr th {\n",
       "        vertical-align: top;\n",
       "    }\n",
       "\n",
       "    .dataframe thead th {\n",
       "        text-align: right;\n",
       "    }\n",
       "</style>\n",
       "<table border=\"1\" class=\"dataframe\">\n",
       "  <thead>\n",
       "    <tr style=\"text-align: right;\">\n",
       "      <th></th>\n",
       "      <th>Valoración equipo actual</th>\n",
       "      <th>Mejor valoración</th>\n",
       "      <th>Ataque</th>\n",
       "      <th>Regate</th>\n",
       "      <th>Aceleración</th>\n",
       "      <th>Potencia tiro</th>\n",
       "      <th>Agresividad</th>\n",
       "      <th>Defensa</th>\n",
       "      <th>Portería</th>\n",
       "    </tr>\n",
       "  </thead>\n",
       "  <tbody>\n",
       "    <tr>\n",
       "      <th>0</th>\n",
       "      <td>76</td>\n",
       "      <td>72</td>\n",
       "      <td>54</td>\n",
       "      <td>47</td>\n",
       "      <td>62</td>\n",
       "      <td>35</td>\n",
       "      <td>65</td>\n",
       "      <td>67</td>\n",
       "      <td>10</td>\n",
       "    </tr>\n",
       "    <tr>\n",
       "      <th>1</th>\n",
       "      <td>83</td>\n",
       "      <td>70</td>\n",
       "      <td>59</td>\n",
       "      <td>80</td>\n",
       "      <td>84</td>\n",
       "      <td>65</td>\n",
       "      <td>34</td>\n",
       "      <td>25</td>\n",
       "      <td>7</td>\n",
       "    </tr>\n",
       "  </tbody>\n",
       "</table>\n",
       "</div>"
      ],
      "text/plain": [
       "  Valoración equipo actual Mejor valoración Ataque Regate Aceleración  \\\n",
       "0                       76               72     54     47          62   \n",
       "1                       83               70     59     80          84   \n",
       "\n",
       "  Potencia tiro Agresividad Defensa Portería  \n",
       "0            35          65      67       10  \n",
       "1            65          34      25        7  "
      ]
     },
     "execution_count": 55,
     "metadata": {},
     "output_type": "execute_result"
    }
   ],
   "source": [
    "jugar_caract.head(2)"
   ]
  },
  {
   "cell_type": "code",
   "execution_count": 52,
   "id": "a701460c",
   "metadata": {},
   "outputs": [],
   "source": [
    "nuevas_columnas = {\n",
    "    2 : 'Valoración equipo actual',\n",
    "    3: 'Mejor valoración',\n",
    "    4: \"Ataque\", \n",
    "    5: \"Regate\", \n",
    "    6: \"Aceleración\",\n",
    "    7: 'Potencia tiro',\n",
    "    8: 'Agresividad',\n",
    "    9: 'Defensa',\n",
    "    10: 'Portería'}"
   ]
  },
  {
   "cell_type": "code",
   "execution_count": 53,
   "id": "6ea3bc7d",
   "metadata": {},
   "outputs": [
    {
     "data": {
      "text/html": [
       "<div>\n",
       "<style scoped>\n",
       "    .dataframe tbody tr th:only-of-type {\n",
       "        vertical-align: middle;\n",
       "    }\n",
       "\n",
       "    .dataframe tbody tr th {\n",
       "        vertical-align: top;\n",
       "    }\n",
       "\n",
       "    .dataframe thead th {\n",
       "        text-align: right;\n",
       "    }\n",
       "</style>\n",
       "<table border=\"1\" class=\"dataframe\">\n",
       "  <thead>\n",
       "    <tr style=\"text-align: right;\">\n",
       "      <th></th>\n",
       "      <th>Valoración equipo actual</th>\n",
       "      <th>Mejor valoración</th>\n",
       "      <th>Ataque</th>\n",
       "      <th>Regate</th>\n",
       "      <th>Aceleración</th>\n",
       "      <th>Potencia tiro</th>\n",
       "      <th>Agresividad</th>\n",
       "      <th>Defensa</th>\n",
       "      <th>Portería</th>\n",
       "    </tr>\n",
       "  </thead>\n",
       "  <tbody>\n",
       "    <tr>\n",
       "      <th>0</th>\n",
       "      <td>76</td>\n",
       "      <td>72</td>\n",
       "      <td>54</td>\n",
       "      <td>47</td>\n",
       "      <td>62</td>\n",
       "      <td>35</td>\n",
       "      <td>65</td>\n",
       "      <td>67</td>\n",
       "      <td>10</td>\n",
       "    </tr>\n",
       "    <tr>\n",
       "      <th>1</th>\n",
       "      <td>83</td>\n",
       "      <td>70</td>\n",
       "      <td>59</td>\n",
       "      <td>80</td>\n",
       "      <td>84</td>\n",
       "      <td>65</td>\n",
       "      <td>34</td>\n",
       "      <td>25</td>\n",
       "      <td>7</td>\n",
       "    </tr>\n",
       "    <tr>\n",
       "      <th>2</th>\n",
       "      <td>70</td>\n",
       "      <td>72</td>\n",
       "      <td>59</td>\n",
       "      <td>72</td>\n",
       "      <td>79</td>\n",
       "      <td>70</td>\n",
       "      <td>60</td>\n",
       "      <td>40</td>\n",
       "      <td>6</td>\n",
       "    </tr>\n",
       "    <tr>\n",
       "      <th>3</th>\n",
       "      <td>74</td>\n",
       "      <td>72</td>\n",
       "      <td>46</td>\n",
       "      <td>67</td>\n",
       "      <td>71</td>\n",
       "      <td>75</td>\n",
       "      <td>64</td>\n",
       "      <td>30</td>\n",
       "      <td>12</td>\n",
       "    </tr>\n",
       "    <tr>\n",
       "      <th>4</th>\n",
       "      <td>74</td>\n",
       "      <td>72</td>\n",
       "      <td>58</td>\n",
       "      <td>71</td>\n",
       "      <td>73</td>\n",
       "      <td>73</td>\n",
       "      <td>74</td>\n",
       "      <td>19</td>\n",
       "      <td>5</td>\n",
       "    </tr>\n",
       "  </tbody>\n",
       "</table>\n",
       "</div>"
      ],
      "text/plain": [
       "  Valoración equipo actual Mejor valoración Ataque Regate Aceleración  \\\n",
       "0                       76               72     54     47          62   \n",
       "1                       83               70     59     80          84   \n",
       "2                       70               72     59     72          79   \n",
       "3                       74               72     46     67          71   \n",
       "4                       74               72     58     71          73   \n",
       "\n",
       "  Potencia tiro Agresividad Defensa Portería  \n",
       "0            35          65      67       10  \n",
       "1            65          34      25        7  \n",
       "2            70          60      40        6  \n",
       "3            75          64      30       12  \n",
       "4            73          74      19        5  "
      ]
     },
     "execution_count": 53,
     "metadata": {},
     "output_type": "execute_result"
    }
   ],
   "source": [
    "jugar_caract.rename(columns = nuevas_columnas, inplace = True)\n",
    "jugar_caract.head()"
   ]
  },
  {
   "cell_type": "code",
   "execution_count": 54,
   "id": "c3d3743d",
   "metadata": {},
   "outputs": [],
   "source": [
    "jugar_caract.to_csv('../../data/precio/valoraciones_jugadores.csv')"
   ]
  }
 ],
 "metadata": {
  "kernelspec": {
   "display_name": "Python 3 (ipykernel)",
   "language": "python",
   "name": "python3"
  },
  "language_info": {
   "codemirror_mode": {
    "name": "ipython",
    "version": 3
   },
   "file_extension": ".py",
   "mimetype": "text/x-python",
   "name": "python",
   "nbconvert_exporter": "python",
   "pygments_lexer": "ipython3",
   "version": "3.9.5"
  }
 },
 "nbformat": 4,
 "nbformat_minor": 5
}
