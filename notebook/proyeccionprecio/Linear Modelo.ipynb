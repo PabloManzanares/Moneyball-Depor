{
 "cells": [
  {
   "cell_type": "code",
   "execution_count": 1,
   "id": "17412867",
   "metadata": {},
   "outputs": [],
   "source": [
    "import pandas as pd\n",
    "import numpy as np\n",
    "\n",
    "import matplotlib.pyplot as plt\n",
    "from matplotlib import style\n",
    "import matplotlib.ticker as ticker\n",
    "import seaborn as sns\n",
    "from sklearn.model_selection import train_test_split\n",
    "plt.rcParams[\"figure.figsize\"] = (10,8)\n",
    "\n",
    "\n",
    "import statsmodels.formula.api as smf\n",
    "\n",
    "\n",
    "from sklearn.linear_model import LinearRegression\n",
    "from sklearn.ensemble import RandomForestRegressor\n",
    "from sklearn.tree import DecisionTreeRegressor \n",
    "from sklearn.model_selection import GridSearchCV\n",
    "from sklearn import tree\n",
    "\n",
    "\n",
    "\n",
    "from sklearn.model_selection import cross_val_score\n",
    "from sklearn.model_selection import cross_validate\n",
    "from sklearn import metrics\n",
    "\n",
    "import warnings\n",
    "warnings.filterwarnings('ignore')"
   ]
  },
  {
   "cell_type": "code",
   "execution_count": 2,
   "id": "008a4357",
   "metadata": {},
   "outputs": [
    {
     "data": {
      "text/html": [
       "<div>\n",
       "<style scoped>\n",
       "    .dataframe tbody tr th:only-of-type {\n",
       "        vertical-align: middle;\n",
       "    }\n",
       "\n",
       "    .dataframe tbody tr th {\n",
       "        vertical-align: top;\n",
       "    }\n",
       "\n",
       "    .dataframe thead th {\n",
       "        text-align: right;\n",
       "    }\n",
       "</style>\n",
       "<table border=\"1\" class=\"dataframe\">\n",
       "  <thead>\n",
       "    <tr style=\"text-align: right;\">\n",
       "      <th></th>\n",
       "      <th>edad</th>\n",
       "      <th>Valoración actual</th>\n",
       "      <th>Progresión</th>\n",
       "      <th>precio</th>\n",
       "      <th>Ataque</th>\n",
       "      <th>Regate</th>\n",
       "      <th>Aceleración</th>\n",
       "      <th>Potencia tiro</th>\n",
       "      <th>Agresividad</th>\n",
       "      <th>Defensa</th>\n",
       "    </tr>\n",
       "  </thead>\n",
       "  <tbody>\n",
       "    <tr>\n",
       "      <th>0</th>\n",
       "      <td>1.826700</td>\n",
       "      <td>1.323359</td>\n",
       "      <td>-0.889897</td>\n",
       "      <td>1.214184</td>\n",
       "      <td>0.002999</td>\n",
       "      <td>-2.067653</td>\n",
       "      <td>-1.428951</td>\n",
       "      <td>-2.402604</td>\n",
       "      <td>0.839337</td>\n",
       "      <td>1.321880</td>\n",
       "    </tr>\n",
       "    <tr>\n",
       "      <th>1</th>\n",
       "      <td>0.369777</td>\n",
       "      <td>1.323359</td>\n",
       "      <td>1.005344</td>\n",
       "      <td>1.754797</td>\n",
       "      <td>0.457513</td>\n",
       "      <td>1.649663</td>\n",
       "      <td>1.313775</td>\n",
       "      <td>0.529640</td>\n",
       "      <td>-1.626190</td>\n",
       "      <td>-1.094921</td>\n",
       "    </tr>\n",
       "    <tr>\n",
       "      <th>2</th>\n",
       "      <td>-1.087145</td>\n",
       "      <td>1.323359</td>\n",
       "      <td>0.373597</td>\n",
       "      <td>1.538552</td>\n",
       "      <td>0.457513</td>\n",
       "      <td>0.748495</td>\n",
       "      <td>0.690428</td>\n",
       "      <td>1.018347</td>\n",
       "      <td>0.441671</td>\n",
       "      <td>-0.231778</td>\n",
       "    </tr>\n",
       "    <tr>\n",
       "      <th>3</th>\n",
       "      <td>1.098239</td>\n",
       "      <td>1.323359</td>\n",
       "      <td>-0.258150</td>\n",
       "      <td>1.430429</td>\n",
       "      <td>-0.724223</td>\n",
       "      <td>0.185265</td>\n",
       "      <td>-0.306927</td>\n",
       "      <td>1.507054</td>\n",
       "      <td>0.759804</td>\n",
       "      <td>-0.807207</td>\n",
       "    </tr>\n",
       "    <tr>\n",
       "      <th>4</th>\n",
       "      <td>1.826700</td>\n",
       "      <td>1.323359</td>\n",
       "      <td>-0.258150</td>\n",
       "      <td>1.538552</td>\n",
       "      <td>0.366611</td>\n",
       "      <td>0.635849</td>\n",
       "      <td>-0.057588</td>\n",
       "      <td>1.311571</td>\n",
       "      <td>1.555135</td>\n",
       "      <td>-1.440179</td>\n",
       "    </tr>\n",
       "  </tbody>\n",
       "</table>\n",
       "</div>"
      ],
      "text/plain": [
       "       edad  Valoración actual  Progresión    precio    Ataque    Regate  \\\n",
       "0  1.826700           1.323359   -0.889897  1.214184  0.002999 -2.067653   \n",
       "1  0.369777           1.323359    1.005344  1.754797  0.457513  1.649663   \n",
       "2 -1.087145           1.323359    0.373597  1.538552  0.457513  0.748495   \n",
       "3  1.098239           1.323359   -0.258150  1.430429 -0.724223  0.185265   \n",
       "4  1.826700           1.323359   -0.258150  1.538552  0.366611  0.635849   \n",
       "\n",
       "   Aceleración  Potencia tiro  Agresividad   Defensa  \n",
       "0    -1.428951      -2.402604     0.839337  1.321880  \n",
       "1     1.313775       0.529640    -1.626190 -1.094921  \n",
       "2     0.690428       1.018347     0.441671 -0.231778  \n",
       "3    -0.306927       1.507054     0.759804 -0.807207  \n",
       "4    -0.057588       1.311571     1.555135 -1.440179  "
      ]
     },
     "execution_count": 2,
     "metadata": {},
     "output_type": "execute_result"
    }
   ],
   "source": [
    "df_limpio = pd.read_csv(\"../../data/precio/dfnorm.csv\", index_col = 0)\n",
    "df_limpio.head()"
   ]
  },
  {
   "cell_type": "code",
   "execution_count": 3,
   "id": "28e30287",
   "metadata": {},
   "outputs": [],
   "source": [
    "#df_limpio = df_limpio.drop(['Nombre jugador', 'Equipo actual', 'pais'], axis =1)\n",
    "#df_limpio.head()"
   ]
  },
  {
   "cell_type": "code",
   "execution_count": 3,
   "id": "7109d9a6",
   "metadata": {},
   "outputs": [],
   "source": [
    "X = df_limpio.drop('precio', axis =1)\n",
    "y = df_limpio['precio']\n",
    "\n",
    "\n",
    "X_train, X_test, y_train, y_test = train_test_split(X, y, train_size   = 0.8, random_state = 42)"
   ]
  },
  {
   "cell_type": "code",
   "execution_count": 4,
   "id": "082580c3",
   "metadata": {},
   "outputs": [],
   "source": [
    "lr = LinearRegression()"
   ]
  },
  {
   "cell_type": "code",
   "execution_count": 5,
   "id": "ff359470",
   "metadata": {},
   "outputs": [
    {
     "data": {
      "text/plain": [
       "LinearRegression()"
      ]
     },
     "execution_count": 5,
     "metadata": {},
     "output_type": "execute_result"
    }
   ],
   "source": [
    "lr.fit(X_train, y_train)"
   ]
  },
  {
   "cell_type": "code",
   "execution_count": 6,
   "id": "6b70eb8d",
   "metadata": {},
   "outputs": [
    {
     "data": {
      "text/plain": [
       "-0.011321740745250317"
      ]
     },
     "execution_count": 6,
     "metadata": {},
     "output_type": "execute_result"
    }
   ],
   "source": [
    "lr.intercept_"
   ]
  },
  {
   "cell_type": "code",
   "execution_count": 7,
   "id": "274a03b8",
   "metadata": {},
   "outputs": [
    {
     "data": {
      "text/plain": [
       "array([ 0.08447813,  0.9196475 ,  0.09299743,  0.00894899,  0.03737356,\n",
       "       -0.00795734, -0.01446833, -0.00560074, -0.04063025])"
      ]
     },
     "execution_count": 7,
     "metadata": {},
     "output_type": "execute_result"
    }
   ],
   "source": [
    "lr.coef_"
   ]
  },
  {
   "cell_type": "code",
   "execution_count": 8,
   "id": "9bf42bb1",
   "metadata": {},
   "outputs": [],
   "source": [
    "y_pred = lr.predict(X_test)\n",
    "y_pred_train = lr.predict(X_train)"
   ]
  },
  {
   "cell_type": "code",
   "execution_count": 9,
   "id": "af2eb2d5",
   "metadata": {},
   "outputs": [
    {
     "data": {
      "text/html": [
       "<div>\n",
       "<style scoped>\n",
       "    .dataframe tbody tr th:only-of-type {\n",
       "        vertical-align: middle;\n",
       "    }\n",
       "\n",
       "    .dataframe tbody tr th {\n",
       "        vertical-align: top;\n",
       "    }\n",
       "\n",
       "    .dataframe thead th {\n",
       "        text-align: right;\n",
       "    }\n",
       "</style>\n",
       "<table border=\"1\" class=\"dataframe\">\n",
       "  <thead>\n",
       "    <tr style=\"text-align: right;\">\n",
       "      <th></th>\n",
       "      <th>Real</th>\n",
       "      <th>Predicted</th>\n",
       "      <th>Set</th>\n",
       "    </tr>\n",
       "  </thead>\n",
       "  <tbody>\n",
       "    <tr>\n",
       "      <th>350</th>\n",
       "      <td>-1.164513</td>\n",
       "      <td>-1.058991</td>\n",
       "      <td>Train</td>\n",
       "    </tr>\n",
       "    <tr>\n",
       "      <th>193</th>\n",
       "      <td>-0.083287</td>\n",
       "      <td>0.082263</td>\n",
       "      <td>Train</td>\n",
       "    </tr>\n",
       "    <tr>\n",
       "      <th>181</th>\n",
       "      <td>0.349203</td>\n",
       "      <td>0.381326</td>\n",
       "      <td>Train</td>\n",
       "    </tr>\n",
       "    <tr>\n",
       "      <th>65</th>\n",
       "      <td>1.214184</td>\n",
       "      <td>1.075536</td>\n",
       "      <td>Train</td>\n",
       "    </tr>\n",
       "    <tr>\n",
       "      <th>364</th>\n",
       "      <td>-1.056391</td>\n",
       "      <td>-0.960124</td>\n",
       "      <td>Train</td>\n",
       "    </tr>\n",
       "  </tbody>\n",
       "</table>\n",
       "</div>"
      ],
      "text/plain": [
       "         Real  Predicted    Set\n",
       "350 -1.164513  -1.058991  Train\n",
       "193 -0.083287   0.082263  Train\n",
       "181  0.349203   0.381326  Train\n",
       "65   1.214184   1.075536  Train\n",
       "364 -1.056391  -0.960124  Train"
      ]
     },
     "execution_count": 9,
     "metadata": {},
     "output_type": "execute_result"
    }
   ],
   "source": [
    "train_df = pd.DataFrame({'Real': y_train, 'Predicted': y_pred_train, 'Set': ['Train']*len(y_train)})\n",
    "test_df  = pd.DataFrame({'Real': y_test,  'Predicted': y_pred,  'Set': ['Test']*len(y_test)})\n",
    "results = pd.concat([train_df,test_df], axis = 0)\n",
    "results.head()"
   ]
  },
  {
   "cell_type": "code",
   "execution_count": 10,
   "id": "d4d8aa89",
   "metadata": {},
   "outputs": [
    {
     "data": {
      "text/html": [
       "<div>\n",
       "<style scoped>\n",
       "    .dataframe tbody tr th:only-of-type {\n",
       "        vertical-align: middle;\n",
       "    }\n",
       "\n",
       "    .dataframe tbody tr th {\n",
       "        vertical-align: top;\n",
       "    }\n",
       "\n",
       "    .dataframe thead th {\n",
       "        text-align: right;\n",
       "    }\n",
       "</style>\n",
       "<table border=\"1\" class=\"dataframe\">\n",
       "  <thead>\n",
       "    <tr style=\"text-align: right;\">\n",
       "      <th></th>\n",
       "      <th>Real</th>\n",
       "      <th>Predicted</th>\n",
       "      <th>Set</th>\n",
       "      <th>residual</th>\n",
       "    </tr>\n",
       "  </thead>\n",
       "  <tbody>\n",
       "    <tr>\n",
       "      <th>350</th>\n",
       "      <td>-1.164513</td>\n",
       "      <td>-1.058991</td>\n",
       "      <td>Train</td>\n",
       "      <td>-0.105522</td>\n",
       "    </tr>\n",
       "    <tr>\n",
       "      <th>193</th>\n",
       "      <td>-0.083287</td>\n",
       "      <td>0.082263</td>\n",
       "      <td>Train</td>\n",
       "      <td>-0.165550</td>\n",
       "    </tr>\n",
       "    <tr>\n",
       "      <th>181</th>\n",
       "      <td>0.349203</td>\n",
       "      <td>0.381326</td>\n",
       "      <td>Train</td>\n",
       "      <td>-0.032123</td>\n",
       "    </tr>\n",
       "    <tr>\n",
       "      <th>65</th>\n",
       "      <td>1.214184</td>\n",
       "      <td>1.075536</td>\n",
       "      <td>Train</td>\n",
       "      <td>0.138648</td>\n",
       "    </tr>\n",
       "    <tr>\n",
       "      <th>364</th>\n",
       "      <td>-1.056391</td>\n",
       "      <td>-0.960124</td>\n",
       "      <td>Train</td>\n",
       "      <td>-0.096266</td>\n",
       "    </tr>\n",
       "  </tbody>\n",
       "</table>\n",
       "</div>"
      ],
      "text/plain": [
       "         Real  Predicted    Set  residual\n",
       "350 -1.164513  -1.058991  Train -0.105522\n",
       "193 -0.083287   0.082263  Train -0.165550\n",
       "181  0.349203   0.381326  Train -0.032123\n",
       "65   1.214184   1.075536  Train  0.138648\n",
       "364 -1.056391  -0.960124  Train -0.096266"
      ]
     },
     "execution_count": 10,
     "metadata": {},
     "output_type": "execute_result"
    }
   ],
   "source": [
    "results['residual'] = results['Real'] - results['Predicted']\n",
    "results.head()"
   ]
  },
  {
   "cell_type": "code",
   "execution_count": 11,
   "id": "88eaa2dc",
   "metadata": {},
   "outputs": [
    {
     "name": "stdout",
     "output_type": "stream",
     "text": [
      "Mean Absolute Error: 0.16446872919630923\n",
      "Mean Squared Error: 0.05067654120271662\n",
      "Root Mean Squared Error: 0.22511450686865256\n",
      "R2: 0.9529806202233877\n"
     ]
    }
   ],
   "source": [
    "print('Mean Absolute Error:', metrics.mean_absolute_error(y_test, y_pred))\n",
    "print('Mean Squared Error:', metrics.mean_squared_error(y_test, y_pred))\n",
    "print('Root Mean Squared Error:', np.sqrt(metrics.mean_squared_error(y_test, y_pred)))\n",
    "print(\"R2:\",  metrics.r2_score(y_test, y_pred))"
   ]
  },
  {
   "cell_type": "code",
   "execution_count": null,
   "id": "a027365a",
   "metadata": {},
   "outputs": [],
   "source": []
  }
 ],
 "metadata": {
  "kernelspec": {
   "display_name": "Python 3 (ipykernel)",
   "language": "python",
   "name": "python3"
  },
  "language_info": {
   "codemirror_mode": {
    "name": "ipython",
    "version": 3
   },
   "file_extension": ".py",
   "mimetype": "text/x-python",
   "name": "python",
   "nbconvert_exporter": "python",
   "pygments_lexer": "ipython3",
   "version": "3.9.5"
  }
 },
 "nbformat": 4,
 "nbformat_minor": 5
}
