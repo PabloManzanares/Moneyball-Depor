{
 "cells": [
  {
   "cell_type": "code",
   "execution_count": 1,
   "id": "11259d90",
   "metadata": {},
   "outputs": [],
   "source": [
    "import pandas as pd\n",
    "import numpy as np\n",
    "import re\n",
    "from bs4 import BeautifulSoup\n",
    "import requests\n",
    "\n",
    "pd.options.display.max_columns = None"
   ]
  },
  {
   "cell_type": "code",
   "execution_count": 2,
   "id": "6ab2df3c",
   "metadata": {},
   "outputs": [],
   "source": [
    "datos = ['https://sofifa.com/players?type=all&aeh=21&oah=70&ptl=80', 'https://sofifa.com/players?type=all&aeh=21&oah=70&ptl=80&offset=60',\n",
    "        'https://sofifa.com/players?type=all&aeh=21&oah=70&ptl=80&offset=120', 'https://sofifa.com/players?type=all&aeh=21&oah=70&ptl=80&offset=180',\n",
    "         'https://sofifa.com/players?type=all&aeh=21&oah=70&ptl=80&offset=240', 'https://sofifa.com/players?type=all&aeh=21&oah=70&ptl=80&offset=300',\n",
    "         'https://sofifa.com/players?type=all&aeh=21&oah=70&ptl=80&offset=360', 'https://sofifa.com/players?type=all&aeh=21&oah=70&ptl=80&offset=420']"
   ]
  },
  {
   "cell_type": "code",
   "execution_count": 3,
   "id": "1df7af88",
   "metadata": {},
   "outputs": [],
   "source": [
    "actual = pd.DataFrame()\n",
    "\n",
    "for i in datos:\n",
    "    url = i\n",
    "    html = requests.get(url)\n",
    "    soup = BeautifulSoup(html.content, \"html.parser\")\n",
    "    html.status_code\n",
    "    \n",
    "    productos = soup.find_all(\"td\",{\"class\": \"col col-oa col-sort\"})\n",
    "    \n",
    "    valoracion = {'valor': []}\n",
    "    \n",
    "    for i in productos:\n",
    "        valoracion['valor'].append(i) \n",
    "    \n",
    "    jvalor = pd.DataFrame(valoracion)\n",
    "    \n",
    "    jvalor[\"valor\"] = jvalor['valor'].astype(str)\n",
    "    \n",
    "    jvalor['valor'] = jvalor['valor'].str.extract(r'(\\d{2})')\n",
    "    \n",
    "    actual = pd.concat([actual, jvalor], axis=0)"
   ]
  },
  {
   "cell_type": "code",
   "execution_count": 4,
   "id": "fbd3553a",
   "metadata": {},
   "outputs": [
    {
     "data": {
      "text/html": [
       "<div>\n",
       "<style scoped>\n",
       "    .dataframe tbody tr th:only-of-type {\n",
       "        vertical-align: middle;\n",
       "    }\n",
       "\n",
       "    .dataframe tbody tr th {\n",
       "        vertical-align: top;\n",
       "    }\n",
       "\n",
       "    .dataframe thead th {\n",
       "        text-align: right;\n",
       "    }\n",
       "</style>\n",
       "<table border=\"1\" class=\"dataframe\">\n",
       "  <thead>\n",
       "    <tr style=\"text-align: right;\">\n",
       "      <th></th>\n",
       "      <th>valor</th>\n",
       "    </tr>\n",
       "  </thead>\n",
       "  <tbody>\n",
       "    <tr>\n",
       "      <th>0</th>\n",
       "      <td>70</td>\n",
       "    </tr>\n",
       "    <tr>\n",
       "      <th>1</th>\n",
       "      <td>70</td>\n",
       "    </tr>\n",
       "  </tbody>\n",
       "</table>\n",
       "</div>"
      ],
      "text/plain": [
       "  valor\n",
       "0    70\n",
       "1    70"
      ]
     },
     "execution_count": 4,
     "metadata": {},
     "output_type": "execute_result"
    }
   ],
   "source": [
    "actual = actual.reset_index(drop=True)\n",
    "actual.head(2)"
   ]
  },
  {
   "cell_type": "code",
   "execution_count": 5,
   "id": "7e8a0301",
   "metadata": {},
   "outputs": [],
   "source": [
    "fut = pd.DataFrame()\n",
    "\n",
    "for i in datos:\n",
    "    url = i\n",
    "    html = requests.get(url)\n",
    "    soup = BeautifulSoup(html.content, \"html.parser\")\n",
    "    html.status_code\n",
    "    \n",
    "    productos = soup.find_all(\"td\",{\"class\": \"col col-pt\"})\n",
    "    \n",
    "    futuro = {'fut': []}\n",
    "    \n",
    "    for i in productos:\n",
    "        futuro['fut'].append(i) \n",
    "        \n",
    "    jfut = pd.DataFrame(futuro)\n",
    "    \n",
    "    jfut[\"fut\"] = jfut['fut'].astype(str)\n",
    "    \n",
    "    jfut['fut'] = jfut['fut'].str.extract(r'(\\d{2})')\n",
    "    \n",
    "    fut = pd.concat([fut, jfut], axis=0)"
   ]
  },
  {
   "cell_type": "code",
   "execution_count": 6,
   "id": "f33daba0",
   "metadata": {},
   "outputs": [
    {
     "data": {
      "text/html": [
       "<div>\n",
       "<style scoped>\n",
       "    .dataframe tbody tr th:only-of-type {\n",
       "        vertical-align: middle;\n",
       "    }\n",
       "\n",
       "    .dataframe tbody tr th {\n",
       "        vertical-align: top;\n",
       "    }\n",
       "\n",
       "    .dataframe thead th {\n",
       "        text-align: right;\n",
       "    }\n",
       "</style>\n",
       "<table border=\"1\" class=\"dataframe\">\n",
       "  <thead>\n",
       "    <tr style=\"text-align: right;\">\n",
       "      <th></th>\n",
       "      <th>fut</th>\n",
       "    </tr>\n",
       "  </thead>\n",
       "  <tbody>\n",
       "    <tr>\n",
       "      <th>0</th>\n",
       "      <td>80</td>\n",
       "    </tr>\n",
       "    <tr>\n",
       "      <th>1</th>\n",
       "      <td>83</td>\n",
       "    </tr>\n",
       "  </tbody>\n",
       "</table>\n",
       "</div>"
      ],
      "text/plain": [
       "  fut\n",
       "0  80\n",
       "1  83"
      ]
     },
     "execution_count": 6,
     "metadata": {},
     "output_type": "execute_result"
    }
   ],
   "source": [
    "fut = fut.reset_index(drop=True)\n",
    "fut.head(2)"
   ]
  },
  {
   "cell_type": "code",
   "execution_count": 7,
   "id": "edac1d2b",
   "metadata": {},
   "outputs": [],
   "source": [
    "prog = pd.concat([actual, fut], axis=1)"
   ]
  },
  {
   "cell_type": "code",
   "execution_count": 8,
   "id": "9c70b9a7",
   "metadata": {},
   "outputs": [],
   "source": [
    "prog = prog.drop(prog.index[[31,80,89,95,116,158,208,263]])\n",
    "prog = prog.reset_index(drop=True)"
   ]
  },
  {
   "cell_type": "code",
   "execution_count": 9,
   "id": "bacb6a19",
   "metadata": {},
   "outputs": [],
   "source": [
    "nuevas_columnas = {\n",
    "    'valor' : 'Valoración actual', \n",
    "    'fut': \"Progresión\"}"
   ]
  },
  {
   "cell_type": "code",
   "execution_count": 10,
   "id": "829efe34",
   "metadata": {},
   "outputs": [
    {
     "data": {
      "text/html": [
       "<div>\n",
       "<style scoped>\n",
       "    .dataframe tbody tr th:only-of-type {\n",
       "        vertical-align: middle;\n",
       "    }\n",
       "\n",
       "    .dataframe tbody tr th {\n",
       "        vertical-align: top;\n",
       "    }\n",
       "\n",
       "    .dataframe thead th {\n",
       "        text-align: right;\n",
       "    }\n",
       "</style>\n",
       "<table border=\"1\" class=\"dataframe\">\n",
       "  <thead>\n",
       "    <tr style=\"text-align: right;\">\n",
       "      <th></th>\n",
       "      <th>Valoración actual</th>\n",
       "      <th>Progresión</th>\n",
       "    </tr>\n",
       "  </thead>\n",
       "  <tbody>\n",
       "    <tr>\n",
       "      <th>0</th>\n",
       "      <td>70</td>\n",
       "      <td>80</td>\n",
       "    </tr>\n",
       "    <tr>\n",
       "      <th>1</th>\n",
       "      <td>70</td>\n",
       "      <td>83</td>\n",
       "    </tr>\n",
       "  </tbody>\n",
       "</table>\n",
       "</div>"
      ],
      "text/plain": [
       "  Valoración actual Progresión\n",
       "0                70         80\n",
       "1                70         83"
      ]
     },
     "execution_count": 10,
     "metadata": {},
     "output_type": "execute_result"
    }
   ],
   "source": [
    "prog.rename(columns = nuevas_columnas, inplace = True)\n",
    "prog.head(2)"
   ]
  },
  {
   "cell_type": "code",
   "execution_count": 11,
   "id": "9415ed7c",
   "metadata": {},
   "outputs": [],
   "source": [
    "prog.to_csv('../../data/precio/progresion_jugadores.csv')"
   ]
  }
 ],
 "metadata": {
  "kernelspec": {
   "display_name": "Python 3 (ipykernel)",
   "language": "python",
   "name": "python3"
  },
  "language_info": {
   "codemirror_mode": {
    "name": "ipython",
    "version": 3
   },
   "file_extension": ".py",
   "mimetype": "text/x-python",
   "name": "python",
   "nbconvert_exporter": "python",
   "pygments_lexer": "ipython3",
   "version": "3.9.5"
  }
 },
 "nbformat": 4,
 "nbformat_minor": 5
}
