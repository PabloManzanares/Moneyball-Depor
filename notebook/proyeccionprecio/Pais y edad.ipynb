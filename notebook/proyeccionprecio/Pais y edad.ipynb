{
 "cells": [
  {
   "cell_type": "code",
   "execution_count": 3,
   "id": "e4a8b36f",
   "metadata": {},
   "outputs": [],
   "source": [
    "import pandas as pd\n",
    "import numpy as np\n",
    "import re\n",
    "from bs4 import BeautifulSoup\n",
    "import requests\n",
    "\n",
    "pd.options.display.max_columns = None"
   ]
  },
  {
   "cell_type": "code",
   "execution_count": 4,
   "id": "92399bbc",
   "metadata": {},
   "outputs": [],
   "source": [
    "datos = ['https://sofifa.com/players?type=all&aeh=21&oah=70&ptl=80', 'https://sofifa.com/players?type=all&aeh=21&oah=70&ptl=80&offset=60',\n",
    "        'https://sofifa.com/players?type=all&aeh=21&oah=70&ptl=80&offset=120', 'https://sofifa.com/players?type=all&aeh=21&oah=70&ptl=80&offset=180',\n",
    "         'https://sofifa.com/players?type=all&aeh=21&oah=70&ptl=80&offset=240', 'https://sofifa.com/players?type=all&aeh=21&oah=70&ptl=80&offset=300',\n",
    "         'https://sofifa.com/players?type=all&aeh=21&oah=70&ptl=80&offset=360', 'https://sofifa.com/players?type=all&aeh=21&oah=70&ptl=80&offset=420']"
   ]
  },
  {
   "cell_type": "code",
   "execution_count": 5,
   "id": "961deb90",
   "metadata": {},
   "outputs": [],
   "source": [
    "jugar = pd.DataFrame()\n",
    "\n",
    "for i in datos:\n",
    "    url = i\n",
    "    html = requests.get(url)\n",
    "    soup = BeautifulSoup(html.content, \"html.parser\")\n",
    "    html.status_code\n",
    "    \n",
    "    productos = soup.find_all(\"td\",{\"class\": \"col col-ae\"})\n",
    "    \n",
    "    edades = {'edad': []}\n",
    "    \n",
    "    for x in productos:\n",
    "        edades['edad'].append(x)\n",
    "        \n",
    "    jedad = pd.DataFrame(edades)\n",
    "    jedad[\"edad\"] = jedad['edad'].astype(str)\n",
    "    jedad['edad'] = jedad['edad'].str.extract(r'(?<=\\\"\\>)(.*)(?=\\<\\/td\\>)')\n",
    "    \n",
    "    jugar = pd.concat([jugar, jedad], axis=0)"
   ]
  },
  {
   "cell_type": "code",
   "execution_count": 6,
   "id": "2789699f",
   "metadata": {},
   "outputs": [],
   "source": [
    "jugar = jugar.reset_index(drop=True)"
   ]
  },
  {
   "cell_type": "code",
   "execution_count": 7,
   "id": "11fbb799",
   "metadata": {},
   "outputs": [],
   "source": [
    "pais = pd.DataFrame()\n",
    "\n",
    "for i in datos:\n",
    "    url = i\n",
    "    html = requests.get(url)\n",
    "    soup = BeautifulSoup(html.content, \"html.parser\")\n",
    "    html.status_code\n",
    "    \n",
    "    pais_nac = {'pais': []}\n",
    "    \n",
    "    productos2 = soup.find_all(\"td\",{\"class\": \"col-name\"})\n",
    "    \n",
    "    for x in productos2:\n",
    "        pais_nac['pais'].append(x.find('img').get('title')) \n",
    "        \n",
    "    pnac = pd.DataFrame(pais_nac)\n",
    "    \n",
    "    paisnacimient = pnac.dropna()\n",
    "    paisnacimient = paisnacimient.reset_index(drop=True)\n",
    "    \n",
    "    pais = pd.concat([pais, paisnacimient], axis=0)"
   ]
  },
  {
   "cell_type": "code",
   "execution_count": 8,
   "id": "1326548a",
   "metadata": {},
   "outputs": [],
   "source": [
    "pais = pais.reset_index(drop=True)"
   ]
  },
  {
   "cell_type": "code",
   "execution_count": 9,
   "id": "a873916f",
   "metadata": {},
   "outputs": [
    {
     "data": {
      "text/html": [
       "<div>\n",
       "<style scoped>\n",
       "    .dataframe tbody tr th:only-of-type {\n",
       "        vertical-align: middle;\n",
       "    }\n",
       "\n",
       "    .dataframe tbody tr th {\n",
       "        vertical-align: top;\n",
       "    }\n",
       "\n",
       "    .dataframe thead th {\n",
       "        text-align: right;\n",
       "    }\n",
       "</style>\n",
       "<table border=\"1\" class=\"dataframe\">\n",
       "  <thead>\n",
       "    <tr style=\"text-align: right;\">\n",
       "      <th></th>\n",
       "      <th>pais</th>\n",
       "    </tr>\n",
       "  </thead>\n",
       "  <tbody>\n",
       "    <tr>\n",
       "      <th>0</th>\n",
       "      <td>Uruguay</td>\n",
       "    </tr>\n",
       "    <tr>\n",
       "      <th>1</th>\n",
       "      <td>Morocco</td>\n",
       "    </tr>\n",
       "  </tbody>\n",
       "</table>\n",
       "</div>"
      ],
      "text/plain": [
       "      pais\n",
       "0  Uruguay\n",
       "1  Morocco"
      ]
     },
     "execution_count": 9,
     "metadata": {},
     "output_type": "execute_result"
    }
   ],
   "source": [
    "pais.head(2)"
   ]
  },
  {
   "cell_type": "code",
   "execution_count": 10,
   "id": "aabcb46e",
   "metadata": {},
   "outputs": [],
   "source": [
    "pais_edad = pd.concat([jugar, pais], axis=1)"
   ]
  },
  {
   "cell_type": "code",
   "execution_count": 11,
   "id": "1f2e40d9",
   "metadata": {},
   "outputs": [],
   "source": [
    "pais_edad = pais_edad.drop(pais_edad.index[[31,80,89,95,116,158,208,263]])\n",
    "pais_edad = pais_edad.reset_index(drop=True)"
   ]
  },
  {
   "cell_type": "code",
   "execution_count": 12,
   "id": "9ba5b430",
   "metadata": {},
   "outputs": [
    {
     "data": {
      "text/html": [
       "<div>\n",
       "<style scoped>\n",
       "    .dataframe tbody tr th:only-of-type {\n",
       "        vertical-align: middle;\n",
       "    }\n",
       "\n",
       "    .dataframe tbody tr th {\n",
       "        vertical-align: top;\n",
       "    }\n",
       "\n",
       "    .dataframe thead th {\n",
       "        text-align: right;\n",
       "    }\n",
       "</style>\n",
       "<table border=\"1\" class=\"dataframe\">\n",
       "  <thead>\n",
       "    <tr style=\"text-align: right;\">\n",
       "      <th></th>\n",
       "      <th>edad</th>\n",
       "      <th>pais</th>\n",
       "    </tr>\n",
       "  </thead>\n",
       "  <tbody>\n",
       "    <tr>\n",
       "      <th>0</th>\n",
       "      <td>21</td>\n",
       "      <td>Uruguay</td>\n",
       "    </tr>\n",
       "    <tr>\n",
       "      <th>1</th>\n",
       "      <td>19</td>\n",
       "      <td>Morocco</td>\n",
       "    </tr>\n",
       "  </tbody>\n",
       "</table>\n",
       "</div>"
      ],
      "text/plain": [
       "  edad     pais\n",
       "0   21  Uruguay\n",
       "1   19  Morocco"
      ]
     },
     "execution_count": 12,
     "metadata": {},
     "output_type": "execute_result"
    }
   ],
   "source": [
    "pais_edad.head(2)"
   ]
  },
  {
   "cell_type": "code",
   "execution_count": 14,
   "id": "3e618aa5",
   "metadata": {},
   "outputs": [],
   "source": [
    "pais_edad.to_csv('../../data/precio/paisedad_jugadores.csv')"
   ]
  }
 ],
 "metadata": {
  "kernelspec": {
   "display_name": "Python 3 (ipykernel)",
   "language": "python",
   "name": "python3"
  },
  "language_info": {
   "codemirror_mode": {
    "name": "ipython",
    "version": 3
   },
   "file_extension": ".py",
   "mimetype": "text/x-python",
   "name": "python",
   "nbconvert_exporter": "python",
   "pygments_lexer": "ipython3",
   "version": "3.9.5"
  }
 },
 "nbformat": 4,
 "nbformat_minor": 5
}
