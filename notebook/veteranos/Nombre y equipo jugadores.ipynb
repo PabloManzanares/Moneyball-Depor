{
 "cells": [
  {
   "cell_type": "code",
   "execution_count": 33,
   "id": "c1912607",
   "metadata": {},
   "outputs": [],
   "source": [
    "import pandas as pd\n",
    "import numpy as np\n",
    "import re\n",
    "from bs4 import BeautifulSoup\n",
    "import requests\n",
    "\n",
    "pd.options.display.max_columns = None"
   ]
  },
  {
   "cell_type": "code",
   "execution_count": 34,
   "id": "a17ae54e",
   "metadata": {},
   "outputs": [
    {
     "data": {
      "text/plain": [
       "200"
      ]
     },
     "execution_count": 34,
     "metadata": {},
     "output_type": "execute_result"
    }
   ],
   "source": [
    "url = 'https://sofifa.com/players?type=all&oal=75&vlh=0'\n",
    "html = requests.get(url)\n",
    "soup = BeautifulSoup(html.content, \"html.parser\")\n",
    "html.status_code"
   ]
  },
  {
   "cell_type": "code",
   "execution_count": 35,
   "id": "3ee2aaf7",
   "metadata": {},
   "outputs": [],
   "source": [
    "productos = soup.find_all(\"td\", {\"class\": \"col-name\"})"
   ]
  },
  {
   "cell_type": "code",
   "execution_count": 36,
   "id": "dee8b41c",
   "metadata": {},
   "outputs": [],
   "source": [
    "jugadores = {'jugador': []}"
   ]
  },
  {
   "cell_type": "code",
   "execution_count": 37,
   "id": "7e0e108b",
   "metadata": {},
   "outputs": [],
   "source": [
    "for i in productos:\n",
    "    jugadores['jugador'].append(i.find('a').get('href'))  "
   ]
  },
  {
   "cell_type": "code",
   "execution_count": 38,
   "id": "c7ea5703",
   "metadata": {},
   "outputs": [
    {
     "data": {
      "text/html": [
       "<div>\n",
       "<style scoped>\n",
       "    .dataframe tbody tr th:only-of-type {\n",
       "        vertical-align: middle;\n",
       "    }\n",
       "\n",
       "    .dataframe tbody tr th {\n",
       "        vertical-align: top;\n",
       "    }\n",
       "\n",
       "    .dataframe thead th {\n",
       "        text-align: right;\n",
       "    }\n",
       "</style>\n",
       "<table border=\"1\" class=\"dataframe\">\n",
       "  <thead>\n",
       "    <tr style=\"text-align: right;\">\n",
       "      <th></th>\n",
       "      <th>jugador</th>\n",
       "    </tr>\n",
       "  </thead>\n",
       "  <tbody>\n",
       "    <tr>\n",
       "      <th>0</th>\n",
       "      <td>/player/184087/toby-alderweireld/220057/</td>\n",
       "    </tr>\n",
       "    <tr>\n",
       "      <th>1</th>\n",
       "      <td>/players?na=7</td>\n",
       "    </tr>\n",
       "    <tr>\n",
       "      <th>2</th>\n",
       "      <td>/player/257536/jan-kuchta/220057/</td>\n",
       "    </tr>\n",
       "    <tr>\n",
       "      <th>3</th>\n",
       "      <td>/players?na=12</td>\n",
       "    </tr>\n",
       "    <tr>\n",
       "      <th>4</th>\n",
       "      <td>/player/205211/milan-borjan/220057/</td>\n",
       "    </tr>\n",
       "    <tr>\n",
       "      <th>5</th>\n",
       "      <td>/players?na=70</td>\n",
       "    </tr>\n",
       "    <tr>\n",
       "      <th>6</th>\n",
       "      <td>/player/188044/lan-a/220057/</td>\n",
       "    </tr>\n",
       "    <tr>\n",
       "      <th>7</th>\n",
       "      <td>/players?na=155</td>\n",
       "    </tr>\n",
       "    <tr>\n",
       "      <th>8</th>\n",
       "      <td>/player/189060/aleksandar-dragovic/220057/</td>\n",
       "    </tr>\n",
       "    <tr>\n",
       "      <th>9</th>\n",
       "      <td>/players?na=4</td>\n",
       "    </tr>\n",
       "    <tr>\n",
       "      <th>10</th>\n",
       "      <td>/player/236298/eduard-atuesta/220057/</td>\n",
       "    </tr>\n",
       "    <tr>\n",
       "      <th>11</th>\n",
       "      <td>/players?na=56</td>\n",
       "    </tr>\n",
       "    <tr>\n",
       "      <th>12</th>\n",
       "      <td>/player/186347/maciej-rybus/220057/</td>\n",
       "    </tr>\n",
       "    <tr>\n",
       "      <th>13</th>\n",
       "      <td>/players?na=37</td>\n",
       "    </tr>\n",
       "  </tbody>\n",
       "</table>\n",
       "</div>"
      ],
      "text/plain": [
       "                                       jugador\n",
       "0     /player/184087/toby-alderweireld/220057/\n",
       "1                                /players?na=7\n",
       "2            /player/257536/jan-kuchta/220057/\n",
       "3                               /players?na=12\n",
       "4          /player/205211/milan-borjan/220057/\n",
       "5                               /players?na=70\n",
       "6                 /player/188044/lan-a/220057/\n",
       "7                              /players?na=155\n",
       "8   /player/189060/aleksandar-dragovic/220057/\n",
       "9                                /players?na=4\n",
       "10       /player/236298/eduard-atuesta/220057/\n",
       "11                              /players?na=56\n",
       "12         /player/186347/maciej-rybus/220057/\n",
       "13                              /players?na=37"
      ]
     },
     "execution_count": 38,
     "metadata": {},
     "output_type": "execute_result"
    }
   ],
   "source": [
    "jugadores_top = pd.DataFrame(jugadores)\n",
    "jugadores_top"
   ]
  },
  {
   "cell_type": "code",
   "execution_count": 39,
   "id": "507f4a23",
   "metadata": {},
   "outputs": [],
   "source": [
    "jugadores_top['jug'] = jugadores_top['jugador'].str.extract(r'(?<=\\/player\\/\\d\\d\\d\\d\\d\\d\\/)(.*)(?=\\/22005)')"
   ]
  },
  {
   "cell_type": "code",
   "execution_count": 40,
   "id": "32f862ad",
   "metadata": {},
   "outputs": [
    {
     "data": {
      "text/html": [
       "<div>\n",
       "<style scoped>\n",
       "    .dataframe tbody tr th:only-of-type {\n",
       "        vertical-align: middle;\n",
       "    }\n",
       "\n",
       "    .dataframe tbody tr th {\n",
       "        vertical-align: top;\n",
       "    }\n",
       "\n",
       "    .dataframe thead th {\n",
       "        text-align: right;\n",
       "    }\n",
       "</style>\n",
       "<table border=\"1\" class=\"dataframe\">\n",
       "  <thead>\n",
       "    <tr style=\"text-align: right;\">\n",
       "      <th></th>\n",
       "      <th>jugador</th>\n",
       "      <th>jug</th>\n",
       "    </tr>\n",
       "  </thead>\n",
       "  <tbody>\n",
       "    <tr>\n",
       "      <th>0</th>\n",
       "      <td>/player/184087/toby-alderweireld/220057/</td>\n",
       "      <td>toby-alderweireld</td>\n",
       "    </tr>\n",
       "    <tr>\n",
       "      <th>1</th>\n",
       "      <td>/players?na=7</td>\n",
       "      <td>NaN</td>\n",
       "    </tr>\n",
       "    <tr>\n",
       "      <th>2</th>\n",
       "      <td>/player/257536/jan-kuchta/220057/</td>\n",
       "      <td>jan-kuchta</td>\n",
       "    </tr>\n",
       "    <tr>\n",
       "      <th>3</th>\n",
       "      <td>/players?na=12</td>\n",
       "      <td>NaN</td>\n",
       "    </tr>\n",
       "    <tr>\n",
       "      <th>4</th>\n",
       "      <td>/player/205211/milan-borjan/220057/</td>\n",
       "      <td>milan-borjan</td>\n",
       "    </tr>\n",
       "    <tr>\n",
       "      <th>5</th>\n",
       "      <td>/players?na=70</td>\n",
       "      <td>NaN</td>\n",
       "    </tr>\n",
       "    <tr>\n",
       "      <th>6</th>\n",
       "      <td>/player/188044/lan-a/220057/</td>\n",
       "      <td>lan-a</td>\n",
       "    </tr>\n",
       "    <tr>\n",
       "      <th>7</th>\n",
       "      <td>/players?na=155</td>\n",
       "      <td>NaN</td>\n",
       "    </tr>\n",
       "    <tr>\n",
       "      <th>8</th>\n",
       "      <td>/player/189060/aleksandar-dragovic/220057/</td>\n",
       "      <td>aleksandar-dragovic</td>\n",
       "    </tr>\n",
       "    <tr>\n",
       "      <th>9</th>\n",
       "      <td>/players?na=4</td>\n",
       "      <td>NaN</td>\n",
       "    </tr>\n",
       "    <tr>\n",
       "      <th>10</th>\n",
       "      <td>/player/236298/eduard-atuesta/220057/</td>\n",
       "      <td>eduard-atuesta</td>\n",
       "    </tr>\n",
       "    <tr>\n",
       "      <th>11</th>\n",
       "      <td>/players?na=56</td>\n",
       "      <td>NaN</td>\n",
       "    </tr>\n",
       "    <tr>\n",
       "      <th>12</th>\n",
       "      <td>/player/186347/maciej-rybus/220057/</td>\n",
       "      <td>maciej-rybus</td>\n",
       "    </tr>\n",
       "    <tr>\n",
       "      <th>13</th>\n",
       "      <td>/players?na=37</td>\n",
       "      <td>NaN</td>\n",
       "    </tr>\n",
       "  </tbody>\n",
       "</table>\n",
       "</div>"
      ],
      "text/plain": [
       "                                       jugador                  jug\n",
       "0     /player/184087/toby-alderweireld/220057/    toby-alderweireld\n",
       "1                                /players?na=7                  NaN\n",
       "2            /player/257536/jan-kuchta/220057/           jan-kuchta\n",
       "3                               /players?na=12                  NaN\n",
       "4          /player/205211/milan-borjan/220057/         milan-borjan\n",
       "5                               /players?na=70                  NaN\n",
       "6                 /player/188044/lan-a/220057/                lan-a\n",
       "7                              /players?na=155                  NaN\n",
       "8   /player/189060/aleksandar-dragovic/220057/  aleksandar-dragovic\n",
       "9                                /players?na=4                  NaN\n",
       "10       /player/236298/eduard-atuesta/220057/       eduard-atuesta\n",
       "11                              /players?na=56                  NaN\n",
       "12         /player/186347/maciej-rybus/220057/         maciej-rybus\n",
       "13                              /players?na=37                  NaN"
      ]
     },
     "execution_count": 40,
     "metadata": {},
     "output_type": "execute_result"
    }
   ],
   "source": [
    "jugadores_top"
   ]
  },
  {
   "cell_type": "code",
   "execution_count": 41,
   "id": "a4d575f6",
   "metadata": {},
   "outputs": [
    {
     "data": {
      "text/html": [
       "<div>\n",
       "<style scoped>\n",
       "    .dataframe tbody tr th:only-of-type {\n",
       "        vertical-align: middle;\n",
       "    }\n",
       "\n",
       "    .dataframe tbody tr th {\n",
       "        vertical-align: top;\n",
       "    }\n",
       "\n",
       "    .dataframe thead th {\n",
       "        text-align: right;\n",
       "    }\n",
       "</style>\n",
       "<table border=\"1\" class=\"dataframe\">\n",
       "  <thead>\n",
       "    <tr style=\"text-align: right;\">\n",
       "      <th></th>\n",
       "      <th>jugador</th>\n",
       "      <th>jug</th>\n",
       "    </tr>\n",
       "  </thead>\n",
       "  <tbody>\n",
       "    <tr>\n",
       "      <th>0</th>\n",
       "      <td>/player/184087/toby-alderweireld/220057/</td>\n",
       "      <td>toby-alderweireld</td>\n",
       "    </tr>\n",
       "    <tr>\n",
       "      <th>1</th>\n",
       "      <td>/player/257536/jan-kuchta/220057/</td>\n",
       "      <td>jan-kuchta</td>\n",
       "    </tr>\n",
       "  </tbody>\n",
       "</table>\n",
       "</div>"
      ],
      "text/plain": [
       "                                    jugador                jug\n",
       "0  /player/184087/toby-alderweireld/220057/  toby-alderweireld\n",
       "1         /player/257536/jan-kuchta/220057/         jan-kuchta"
      ]
     },
     "execution_count": 41,
     "metadata": {},
     "output_type": "execute_result"
    }
   ],
   "source": [
    "jugadores_fichar = jugadores_top.dropna()\n",
    "jugadores_fichar = jugadores_fichar.reset_index(drop=True)\n",
    "jugadores_fichar.head(2)"
   ]
  },
  {
   "cell_type": "code",
   "execution_count": 47,
   "id": "06efd235",
   "metadata": {},
   "outputs": [
    {
     "data": {
      "text/html": [
       "<div>\n",
       "<style scoped>\n",
       "    .dataframe tbody tr th:only-of-type {\n",
       "        vertical-align: middle;\n",
       "    }\n",
       "\n",
       "    .dataframe tbody tr th {\n",
       "        vertical-align: top;\n",
       "    }\n",
       "\n",
       "    .dataframe thead th {\n",
       "        text-align: right;\n",
       "    }\n",
       "</style>\n",
       "<table border=\"1\" class=\"dataframe\">\n",
       "  <thead>\n",
       "    <tr style=\"text-align: right;\">\n",
       "      <th></th>\n",
       "      <th>jug</th>\n",
       "    </tr>\n",
       "  </thead>\n",
       "  <tbody>\n",
       "    <tr>\n",
       "      <th>0</th>\n",
       "      <td>toby-alderweireld</td>\n",
       "    </tr>\n",
       "    <tr>\n",
       "      <th>1</th>\n",
       "      <td>jan-kuchta</td>\n",
       "    </tr>\n",
       "    <tr>\n",
       "      <th>2</th>\n",
       "      <td>milan-borjan</td>\n",
       "    </tr>\n",
       "    <tr>\n",
       "      <th>3</th>\n",
       "      <td>lan-a</td>\n",
       "    </tr>\n",
       "    <tr>\n",
       "      <th>4</th>\n",
       "      <td>aleksandar-dragovic</td>\n",
       "    </tr>\n",
       "    <tr>\n",
       "      <th>5</th>\n",
       "      <td>eduard-atuesta</td>\n",
       "    </tr>\n",
       "    <tr>\n",
       "      <th>6</th>\n",
       "      <td>maciej-rybus</td>\n",
       "    </tr>\n",
       "  </tbody>\n",
       "</table>\n",
       "</div>"
      ],
      "text/plain": [
       "                   jug\n",
       "0    toby-alderweireld\n",
       "1           jan-kuchta\n",
       "2         milan-borjan\n",
       "3                lan-a\n",
       "4  aleksandar-dragovic\n",
       "5       eduard-atuesta\n",
       "6         maciej-rybus"
      ]
     },
     "execution_count": 47,
     "metadata": {},
     "output_type": "execute_result"
    }
   ],
   "source": [
    "jug = jugadores_fichar.drop(['jugador'], axis=1)\n",
    "jug"
   ]
  },
  {
   "cell_type": "code",
   "execution_count": 46,
   "id": "52b3a0ce",
   "metadata": {},
   "outputs": [],
   "source": [
    "nuevas_columnas = {\n",
    "    'jug' : 'Nombre jugador'}"
   ]
  },
  {
   "cell_type": "code",
   "execution_count": 48,
   "id": "38069058",
   "metadata": {},
   "outputs": [
    {
     "data": {
      "text/html": [
       "<div>\n",
       "<style scoped>\n",
       "    .dataframe tbody tr th:only-of-type {\n",
       "        vertical-align: middle;\n",
       "    }\n",
       "\n",
       "    .dataframe tbody tr th {\n",
       "        vertical-align: top;\n",
       "    }\n",
       "\n",
       "    .dataframe thead th {\n",
       "        text-align: right;\n",
       "    }\n",
       "</style>\n",
       "<table border=\"1\" class=\"dataframe\">\n",
       "  <thead>\n",
       "    <tr style=\"text-align: right;\">\n",
       "      <th></th>\n",
       "      <th>Nombre jugador</th>\n",
       "    </tr>\n",
       "  </thead>\n",
       "  <tbody>\n",
       "    <tr>\n",
       "      <th>0</th>\n",
       "      <td>toby-alderweireld</td>\n",
       "    </tr>\n",
       "    <tr>\n",
       "      <th>1</th>\n",
       "      <td>jan-kuchta</td>\n",
       "    </tr>\n",
       "  </tbody>\n",
       "</table>\n",
       "</div>"
      ],
      "text/plain": [
       "      Nombre jugador\n",
       "0  toby-alderweireld\n",
       "1         jan-kuchta"
      ]
     },
     "execution_count": 48,
     "metadata": {},
     "output_type": "execute_result"
    }
   ],
   "source": [
    "jug.rename(columns = nuevas_columnas, inplace = True)\n",
    "jug.head(2)"
   ]
  },
  {
   "cell_type": "code",
   "execution_count": 49,
   "id": "3935f60f",
   "metadata": {},
   "outputs": [],
   "source": [
    "jug.to_csv('../../data/veteranos/nombres_equipos.csv')"
   ]
  }
 ],
 "metadata": {
  "kernelspec": {
   "display_name": "Python 3 (ipykernel)",
   "language": "python",
   "name": "python3"
  },
  "language_info": {
   "codemirror_mode": {
    "name": "ipython",
    "version": 3
   },
   "file_extension": ".py",
   "mimetype": "text/x-python",
   "name": "python",
   "nbconvert_exporter": "python",
   "pygments_lexer": "ipython3",
   "version": "3.9.5"
  }
 },
 "nbformat": 4,
 "nbformat_minor": 5
}
