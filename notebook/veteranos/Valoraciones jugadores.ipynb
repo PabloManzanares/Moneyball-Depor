{
 "cells": [
  {
   "cell_type": "code",
   "execution_count": 38,
   "id": "20a2fe3e",
   "metadata": {},
   "outputs": [],
   "source": [
    "import pandas as pd\n",
    "import numpy as np\n",
    "from bs4 import BeautifulSoup\n",
    "import requests"
   ]
  },
  {
   "cell_type": "code",
   "execution_count": 39,
   "id": "0eff6a55",
   "metadata": {},
   "outputs": [
    {
     "data": {
      "text/plain": [
       "200"
      ]
     },
     "execution_count": 39,
     "metadata": {},
     "output_type": "execute_result"
    }
   ],
   "source": [
    "url = 'https://sofifa.com/players?type=all&oal=75&vlh=0'\n",
    "html = requests.get(url)\n",
    "soup = BeautifulSoup(html.content, \"html.parser\")\n",
    "html.status_code"
   ]
  },
  {
   "cell_type": "code",
   "execution_count": 40,
   "id": "43ee0ca7",
   "metadata": {},
   "outputs": [],
   "source": [
    "productos = soup.find_all(\"td\", {\"class\": \"col-name\"})"
   ]
  },
  {
   "cell_type": "code",
   "execution_count": 41,
   "id": "00be6b24",
   "metadata": {},
   "outputs": [],
   "source": [
    "jugadores = {'jugador': []}"
   ]
  },
  {
   "cell_type": "code",
   "execution_count": 42,
   "id": "9de20fa5",
   "metadata": {},
   "outputs": [],
   "source": [
    "for i in productos:\n",
    "    jugadores['jugador'].append(i.find('a').get('href'))  "
   ]
  },
  {
   "cell_type": "code",
   "execution_count": 43,
   "id": "24b9362e",
   "metadata": {},
   "outputs": [
    {
     "data": {
      "text/html": [
       "<div>\n",
       "<style scoped>\n",
       "    .dataframe tbody tr th:only-of-type {\n",
       "        vertical-align: middle;\n",
       "    }\n",
       "\n",
       "    .dataframe tbody tr th {\n",
       "        vertical-align: top;\n",
       "    }\n",
       "\n",
       "    .dataframe thead th {\n",
       "        text-align: right;\n",
       "    }\n",
       "</style>\n",
       "<table border=\"1\" class=\"dataframe\">\n",
       "  <thead>\n",
       "    <tr style=\"text-align: right;\">\n",
       "      <th></th>\n",
       "      <th>jugador</th>\n",
       "    </tr>\n",
       "  </thead>\n",
       "  <tbody>\n",
       "    <tr>\n",
       "      <th>0</th>\n",
       "      <td>/player/184087/toby-alderweireld/220057/</td>\n",
       "    </tr>\n",
       "    <tr>\n",
       "      <th>1</th>\n",
       "      <td>/players?na=7</td>\n",
       "    </tr>\n",
       "  </tbody>\n",
       "</table>\n",
       "</div>"
      ],
      "text/plain": [
       "                                    jugador\n",
       "0  /player/184087/toby-alderweireld/220057/\n",
       "1                             /players?na=7"
      ]
     },
     "execution_count": 43,
     "metadata": {},
     "output_type": "execute_result"
    }
   ],
   "source": [
    "jugadores_top = pd.DataFrame(jugadores)\n",
    "jugadores_top.head(2)"
   ]
  },
  {
   "cell_type": "code",
   "execution_count": 44,
   "id": "418c0c9c",
   "metadata": {},
   "outputs": [],
   "source": [
    "jugadores_top['jug'] = jugadores_top['jugador'].str.extract(r'(?<=\\/player\\/)(.*)(?=\\/220057)')"
   ]
  },
  {
   "cell_type": "code",
   "execution_count": 45,
   "id": "60877493",
   "metadata": {},
   "outputs": [
    {
     "data": {
      "text/html": [
       "<div>\n",
       "<style scoped>\n",
       "    .dataframe tbody tr th:only-of-type {\n",
       "        vertical-align: middle;\n",
       "    }\n",
       "\n",
       "    .dataframe tbody tr th {\n",
       "        vertical-align: top;\n",
       "    }\n",
       "\n",
       "    .dataframe thead th {\n",
       "        text-align: right;\n",
       "    }\n",
       "</style>\n",
       "<table border=\"1\" class=\"dataframe\">\n",
       "  <thead>\n",
       "    <tr style=\"text-align: right;\">\n",
       "      <th></th>\n",
       "      <th>jugador</th>\n",
       "      <th>jug</th>\n",
       "    </tr>\n",
       "  </thead>\n",
       "  <tbody>\n",
       "    <tr>\n",
       "      <th>0</th>\n",
       "      <td>/player/184087/toby-alderweireld/220057/</td>\n",
       "      <td>184087/toby-alderweireld</td>\n",
       "    </tr>\n",
       "    <tr>\n",
       "      <th>1</th>\n",
       "      <td>/players?na=7</td>\n",
       "      <td>NaN</td>\n",
       "    </tr>\n",
       "  </tbody>\n",
       "</table>\n",
       "</div>"
      ],
      "text/plain": [
       "                                    jugador                       jug\n",
       "0  /player/184087/toby-alderweireld/220057/  184087/toby-alderweireld\n",
       "1                             /players?na=7                       NaN"
      ]
     },
     "execution_count": 45,
     "metadata": {},
     "output_type": "execute_result"
    }
   ],
   "source": [
    "jugadores_top.head(2)"
   ]
  },
  {
   "cell_type": "code",
   "execution_count": 46,
   "id": "5922b84d",
   "metadata": {},
   "outputs": [
    {
     "data": {
      "text/html": [
       "<div>\n",
       "<style scoped>\n",
       "    .dataframe tbody tr th:only-of-type {\n",
       "        vertical-align: middle;\n",
       "    }\n",
       "\n",
       "    .dataframe tbody tr th {\n",
       "        vertical-align: top;\n",
       "    }\n",
       "\n",
       "    .dataframe thead th {\n",
       "        text-align: right;\n",
       "    }\n",
       "</style>\n",
       "<table border=\"1\" class=\"dataframe\">\n",
       "  <thead>\n",
       "    <tr style=\"text-align: right;\">\n",
       "      <th></th>\n",
       "      <th>jugador</th>\n",
       "      <th>jug</th>\n",
       "    </tr>\n",
       "  </thead>\n",
       "  <tbody>\n",
       "    <tr>\n",
       "      <th>0</th>\n",
       "      <td>/player/184087/toby-alderweireld/220057/</td>\n",
       "      <td>184087/toby-alderweireld</td>\n",
       "    </tr>\n",
       "    <tr>\n",
       "      <th>1</th>\n",
       "      <td>/player/257536/jan-kuchta/220057/</td>\n",
       "      <td>257536/jan-kuchta</td>\n",
       "    </tr>\n",
       "  </tbody>\n",
       "</table>\n",
       "</div>"
      ],
      "text/plain": [
       "                                    jugador                       jug\n",
       "0  /player/184087/toby-alderweireld/220057/  184087/toby-alderweireld\n",
       "1         /player/257536/jan-kuchta/220057/         257536/jan-kuchta"
      ]
     },
     "execution_count": 46,
     "metadata": {},
     "output_type": "execute_result"
    }
   ],
   "source": [
    "jugadores_fichar = jugadores_top.dropna()\n",
    "jugadores_fichar = jugadores_fichar.reset_index(drop=True)\n",
    "jugadores_fichar.head(2)"
   ]
  },
  {
   "cell_type": "code",
   "execution_count": 47,
   "id": "db140ba8",
   "metadata": {},
   "outputs": [
    {
     "data": {
      "text/html": [
       "<div>\n",
       "<style scoped>\n",
       "    .dataframe tbody tr th:only-of-type {\n",
       "        vertical-align: middle;\n",
       "    }\n",
       "\n",
       "    .dataframe tbody tr th {\n",
       "        vertical-align: top;\n",
       "    }\n",
       "\n",
       "    .dataframe thead th {\n",
       "        text-align: right;\n",
       "    }\n",
       "</style>\n",
       "<table border=\"1\" class=\"dataframe\">\n",
       "  <thead>\n",
       "    <tr style=\"text-align: right;\">\n",
       "      <th></th>\n",
       "      <th>jug</th>\n",
       "    </tr>\n",
       "  </thead>\n",
       "  <tbody>\n",
       "    <tr>\n",
       "      <th>0</th>\n",
       "      <td>184087/toby-alderweireld</td>\n",
       "    </tr>\n",
       "    <tr>\n",
       "      <th>1</th>\n",
       "      <td>257536/jan-kuchta</td>\n",
       "    </tr>\n",
       "    <tr>\n",
       "      <th>2</th>\n",
       "      <td>205211/milan-borjan</td>\n",
       "    </tr>\n",
       "    <tr>\n",
       "      <th>3</th>\n",
       "      <td>188044/lan-a</td>\n",
       "    </tr>\n",
       "    <tr>\n",
       "      <th>4</th>\n",
       "      <td>189060/aleksandar-dragovic</td>\n",
       "    </tr>\n",
       "    <tr>\n",
       "      <th>5</th>\n",
       "      <td>236298/eduard-atuesta</td>\n",
       "    </tr>\n",
       "    <tr>\n",
       "      <th>6</th>\n",
       "      <td>186347/maciej-rybus</td>\n",
       "    </tr>\n",
       "  </tbody>\n",
       "</table>\n",
       "</div>"
      ],
      "text/plain": [
       "                          jug\n",
       "0    184087/toby-alderweireld\n",
       "1           257536/jan-kuchta\n",
       "2         205211/milan-borjan\n",
       "3                188044/lan-a\n",
       "4  189060/aleksandar-dragovic\n",
       "5       236298/eduard-atuesta\n",
       "6         186347/maciej-rybus"
      ]
     },
     "execution_count": 47,
     "metadata": {},
     "output_type": "execute_result"
    }
   ],
   "source": [
    "equipos = jugadores_fichar.drop(['jugador'], axis=1)\n",
    "equipos"
   ]
  },
  {
   "cell_type": "code",
   "execution_count": 48,
   "id": "51d545c3",
   "metadata": {},
   "outputs": [],
   "source": [
    "jugar_caract = pd.DataFrame()\n",
    "for i in range(0,7):\n",
    "    jug = equipos['jug'][i]\n",
    "    \n",
    "    \n",
    "    url2 = 'https://sofifa.com/player/' + jug + '/220057/'\n",
    "    html2 = requests.get(url2)\n",
    "    soup2 = BeautifulSoup(html2.content, \"html.parser\")\n",
    "    html2.status_code\n",
    "    \n",
    "    productos2 = soup2.find_all(\"ul\", {\"class\": \"pl\"})\n",
    "    \n",
    "    \n",
    "    caract = {'jugador': []}\n",
    "    for i in productos2:\n",
    "        caract['jugador'].append(i) \n",
    "    \n",
    "    caract = pd.DataFrame(caract)\n",
    "\n",
    "    caract.rename(columns = {'jugador': jug}, inplace = True)\n",
    "    caract[jug] = caract[jug].astype(str)\n",
    "    \n",
    "    caract[jug] = caract[jug].str.extract(r'(?<=\\d\\\"\\>)(\\d+)(?=\\<\\/span\\>)')\n",
    "    \n",
    "    caract_jug = caract.dropna()\n",
    "    caract_jug = caract_jug.T\n",
    "\n",
    "    \n",
    "    jugar_caract = pd.concat([jugar_caract, caract_jug], axis=0)"
   ]
  },
  {
   "cell_type": "code",
   "execution_count": 49,
   "id": "77b63217",
   "metadata": {},
   "outputs": [],
   "source": [
    "jugar_caract = jugar_caract.reset_index(drop=True)"
   ]
  },
  {
   "cell_type": "code",
   "execution_count": 50,
   "id": "c1fbd8c7",
   "metadata": {},
   "outputs": [
    {
     "data": {
      "text/html": [
       "<div>\n",
       "<style scoped>\n",
       "    .dataframe tbody tr th:only-of-type {\n",
       "        vertical-align: middle;\n",
       "    }\n",
       "\n",
       "    .dataframe tbody tr th {\n",
       "        vertical-align: top;\n",
       "    }\n",
       "\n",
       "    .dataframe thead th {\n",
       "        text-align: right;\n",
       "    }\n",
       "</style>\n",
       "<table border=\"1\" class=\"dataframe\">\n",
       "  <thead>\n",
       "    <tr style=\"text-align: right;\">\n",
       "      <th></th>\n",
       "      <th>2</th>\n",
       "      <th>3</th>\n",
       "      <th>4</th>\n",
       "      <th>5</th>\n",
       "      <th>6</th>\n",
       "      <th>7</th>\n",
       "      <th>8</th>\n",
       "      <th>9</th>\n",
       "      <th>10</th>\n",
       "    </tr>\n",
       "  </thead>\n",
       "  <tbody>\n",
       "    <tr>\n",
       "      <th>0</th>\n",
       "      <td>83</td>\n",
       "      <td>83</td>\n",
       "      <td>64</td>\n",
       "      <td>62</td>\n",
       "      <td>55</td>\n",
       "      <td>78</td>\n",
       "      <td>79</td>\n",
       "      <td>87</td>\n",
       "      <td>16</td>\n",
       "    </tr>\n",
       "    <tr>\n",
       "      <th>1</th>\n",
       "      <td>77</td>\n",
       "      <td>79</td>\n",
       "      <td>59</td>\n",
       "      <td>72</td>\n",
       "      <td>79</td>\n",
       "      <td>75</td>\n",
       "      <td>87</td>\n",
       "      <td>27</td>\n",
       "      <td>10</td>\n",
       "    </tr>\n",
       "  </tbody>\n",
       "</table>\n",
       "</div>"
      ],
      "text/plain": [
       "   2   3   4   5   6   7   8   9   10\n",
       "0  83  83  64  62  55  78  79  87  16\n",
       "1  77  79  59  72  79  75  87  27  10"
      ]
     },
     "execution_count": 50,
     "metadata": {},
     "output_type": "execute_result"
    }
   ],
   "source": [
    "jugar_caract.head(2)"
   ]
  },
  {
   "cell_type": "code",
   "execution_count": 51,
   "id": "353a7aba",
   "metadata": {},
   "outputs": [],
   "source": [
    "nuevas_columnas = {\n",
    "    2 : 'Valoración equipo actual', \n",
    "    3: \"Mejor valoración individual\", \n",
    "    4: \"Ataque\", \n",
    "    5: \"Regate\", \n",
    "    6: \"Aceleración\",\n",
    "    7: 'Potencia tiro',\n",
    "    8: 'Agresividad',\n",
    "    9: 'Defensa',\n",
    "    10: 'Portería'}"
   ]
  },
  {
   "cell_type": "code",
   "execution_count": 52,
   "id": "f01ecee2",
   "metadata": {},
   "outputs": [
    {
     "data": {
      "text/html": [
       "<div>\n",
       "<style scoped>\n",
       "    .dataframe tbody tr th:only-of-type {\n",
       "        vertical-align: middle;\n",
       "    }\n",
       "\n",
       "    .dataframe tbody tr th {\n",
       "        vertical-align: top;\n",
       "    }\n",
       "\n",
       "    .dataframe thead th {\n",
       "        text-align: right;\n",
       "    }\n",
       "</style>\n",
       "<table border=\"1\" class=\"dataframe\">\n",
       "  <thead>\n",
       "    <tr style=\"text-align: right;\">\n",
       "      <th></th>\n",
       "      <th>Valoración equipo actual</th>\n",
       "      <th>Mejor valoración individual</th>\n",
       "      <th>Ataque</th>\n",
       "      <th>Regate</th>\n",
       "      <th>Aceleración</th>\n",
       "      <th>Potencia tiro</th>\n",
       "      <th>Agresividad</th>\n",
       "      <th>Defensa</th>\n",
       "      <th>Portería</th>\n",
       "    </tr>\n",
       "  </thead>\n",
       "  <tbody>\n",
       "    <tr>\n",
       "      <th>0</th>\n",
       "      <td>83</td>\n",
       "      <td>83</td>\n",
       "      <td>64</td>\n",
       "      <td>62</td>\n",
       "      <td>55</td>\n",
       "      <td>78</td>\n",
       "      <td>79</td>\n",
       "      <td>87</td>\n",
       "      <td>16</td>\n",
       "    </tr>\n",
       "    <tr>\n",
       "      <th>1</th>\n",
       "      <td>77</td>\n",
       "      <td>79</td>\n",
       "      <td>59</td>\n",
       "      <td>72</td>\n",
       "      <td>79</td>\n",
       "      <td>75</td>\n",
       "      <td>87</td>\n",
       "      <td>27</td>\n",
       "      <td>10</td>\n",
       "    </tr>\n",
       "    <tr>\n",
       "      <th>2</th>\n",
       "      <td>73</td>\n",
       "      <td>77</td>\n",
       "      <td>15</td>\n",
       "      <td>28</td>\n",
       "      <td>47</td>\n",
       "      <td>56</td>\n",
       "      <td>44</td>\n",
       "      <td>21</td>\n",
       "      <td>78</td>\n",
       "    </tr>\n",
       "    <tr>\n",
       "      <th>3</th>\n",
       "      <td>69</td>\n",
       "      <td>77</td>\n",
       "      <td>66</td>\n",
       "      <td>83</td>\n",
       "      <td>84</td>\n",
       "      <td>73</td>\n",
       "      <td>55</td>\n",
       "      <td>35</td>\n",
       "      <td>11</td>\n",
       "    </tr>\n",
       "    <tr>\n",
       "      <th>4</th>\n",
       "      <td>77</td>\n",
       "      <td>76</td>\n",
       "      <td>53</td>\n",
       "      <td>62</td>\n",
       "      <td>62</td>\n",
       "      <td>69</td>\n",
       "      <td>78</td>\n",
       "      <td>77</td>\n",
       "      <td>10</td>\n",
       "    </tr>\n",
       "  </tbody>\n",
       "</table>\n",
       "</div>"
      ],
      "text/plain": [
       "  Valoración equipo actual Mejor valoración individual Ataque Regate  \\\n",
       "0                       83                          83     64     62   \n",
       "1                       77                          79     59     72   \n",
       "2                       73                          77     15     28   \n",
       "3                       69                          77     66     83   \n",
       "4                       77                          76     53     62   \n",
       "\n",
       "  Aceleración Potencia tiro Agresividad Defensa Portería  \n",
       "0          55            78          79      87       16  \n",
       "1          79            75          87      27       10  \n",
       "2          47            56          44      21       78  \n",
       "3          84            73          55      35       11  \n",
       "4          62            69          78      77       10  "
      ]
     },
     "execution_count": 52,
     "metadata": {},
     "output_type": "execute_result"
    }
   ],
   "source": [
    "jugar_caract.rename(columns = nuevas_columnas, inplace = True)\n",
    "jugar_caract.head()"
   ]
  },
  {
   "cell_type": "code",
   "execution_count": 53,
   "id": "e1194a6c",
   "metadata": {},
   "outputs": [],
   "source": [
    "jugar_caract.to_csv('../../data/veteranos/valoraciones_jugadores.csv')"
   ]
  }
 ],
 "metadata": {
  "kernelspec": {
   "display_name": "Python 3 (ipykernel)",
   "language": "python",
   "name": "python3"
  },
  "language_info": {
   "codemirror_mode": {
    "name": "ipython",
    "version": 3
   },
   "file_extension": ".py",
   "mimetype": "text/x-python",
   "name": "python",
   "nbconvert_exporter": "python",
   "pygments_lexer": "ipython3",
   "version": "3.9.5"
  }
 },
 "nbformat": 4,
 "nbformat_minor": 5
}
