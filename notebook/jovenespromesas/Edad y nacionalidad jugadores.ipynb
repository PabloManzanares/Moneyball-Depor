{
 "cells": [
  {
   "cell_type": "markdown",
   "id": "3d5701a9",
   "metadata": {},
   "source": [
    "# Edad y nacionalidad jóvenes promesas. 🌍"
   ]
  },
  {
   "cell_type": "markdown",
   "id": "9d5d602c",
   "metadata": {},
   "source": [
    "❗ Una vez obtenido el nombre y el equipo, se procede a analizar su edad y nacionalidad. Esta última de gran iimportancia pues la reglamentación actual limita el número de jugadores extracomunitarios.\n",
    "\n",
    "Por otro lado, la edad de los jugadores no excederá los **21 años** pues así se ha establecido en la búsqueda inicial de las jóvenes promesas.\n",
    "\n",
    "➡ Para ello, se realiza un nuevo WebScraping."
   ]
  },
  {
   "cell_type": "code",
   "execution_count": 1,
   "id": "dbfaa3b6",
   "metadata": {},
   "outputs": [],
   "source": [
    "import pandas as pd\n",
    "import numpy as np\n",
    "import re\n",
    "from bs4 import BeautifulSoup\n",
    "import requests\n",
    "\n",
    "pd.options.display.max_columns = None"
   ]
  },
  {
   "cell_type": "markdown",
   "id": "c2a33852",
   "metadata": {},
   "source": [
    "1️⃣ Establecemos las condiciones para la realización del WebScraping."
   ]
  },
  {
   "cell_type": "code",
   "execution_count": 2,
   "id": "f9968c88",
   "metadata": {},
   "outputs": [
    {
     "data": {
      "text/plain": [
       "200"
      ]
     },
     "execution_count": 2,
     "metadata": {},
     "output_type": "execute_result"
    }
   ],
   "source": [
    "url = 'https://sofifa.com/players?type=all&aeh=21&ptl=80'\n",
    "html = requests.get(url)\n",
    "soup = BeautifulSoup(html.content, \"html.parser\")\n",
    "html.status_code"
   ]
  },
  {
   "cell_type": "markdown",
   "id": "6a664766",
   "metadata": {},
   "source": [
    "2️⃣ Se detalla la información que deseamos encontrar dentro del escrapeo."
   ]
  },
  {
   "cell_type": "code",
   "execution_count": 3,
   "id": "310691d4",
   "metadata": {},
   "outputs": [],
   "source": [
    "productos = soup.find_all(\"td\",{\"class\": \"col col-ae\"})"
   ]
  },
  {
   "cell_type": "markdown",
   "id": "e9adf36c",
   "metadata": {},
   "source": [
    "3️⃣ Se crea un diccionario al que añadir la información escrapeada para, posteriormente, crear un dataframe con el que trabajar."
   ]
  },
  {
   "cell_type": "code",
   "execution_count": 4,
   "id": "b3a3ada3",
   "metadata": {},
   "outputs": [],
   "source": [
    "edades = {'edad': []}"
   ]
  },
  {
   "cell_type": "code",
   "execution_count": 5,
   "id": "caaf48a7",
   "metadata": {},
   "outputs": [],
   "source": [
    "for i in productos:\n",
    "    edades['edad'].append(i)  "
   ]
  },
  {
   "cell_type": "code",
   "execution_count": 6,
   "id": "bfe0673f",
   "metadata": {},
   "outputs": [
    {
     "data": {
      "text/html": [
       "<div>\n",
       "<style scoped>\n",
       "    .dataframe tbody tr th:only-of-type {\n",
       "        vertical-align: middle;\n",
       "    }\n",
       "\n",
       "    .dataframe tbody tr th {\n",
       "        vertical-align: top;\n",
       "    }\n",
       "\n",
       "    .dataframe thead th {\n",
       "        text-align: right;\n",
       "    }\n",
       "</style>\n",
       "<table border=\"1\" class=\"dataframe\">\n",
       "  <thead>\n",
       "    <tr style=\"text-align: right;\">\n",
       "      <th></th>\n",
       "      <th>edad</th>\n",
       "    </tr>\n",
       "  </thead>\n",
       "  <tbody>\n",
       "    <tr>\n",
       "      <th>0</th>\n",
       "      <td>[17]</td>\n",
       "    </tr>\n",
       "    <tr>\n",
       "      <th>1</th>\n",
       "      <td>[17]</td>\n",
       "    </tr>\n",
       "  </tbody>\n",
       "</table>\n",
       "</div>"
      ],
      "text/plain": [
       "   edad\n",
       "0  [17]\n",
       "1  [17]"
      ]
     },
     "execution_count": 6,
     "metadata": {},
     "output_type": "execute_result"
    }
   ],
   "source": [
    "jedad = pd.DataFrame(edades)\n",
    "jedad.head(2)"
   ]
  },
  {
   "cell_type": "markdown",
   "id": "e2f97971",
   "metadata": {},
   "source": [
    "4️⃣ Se procede a la limpieza de la información obtenida. \n",
    "\n",
    "🤔 Para ello, en primer lugar se pasa a string los datos con el objetivo de realizar regex. De este modo, se eliminan todas las letras y números que acompañan a la edad del jugador, único dato que nos interesa."
   ]
  },
  {
   "cell_type": "code",
   "execution_count": 7,
   "id": "34730834",
   "metadata": {
    "scrolled": true
   },
   "outputs": [
    {
     "data": {
      "text/html": [
       "<div>\n",
       "<style scoped>\n",
       "    .dataframe tbody tr th:only-of-type {\n",
       "        vertical-align: middle;\n",
       "    }\n",
       "\n",
       "    .dataframe tbody tr th {\n",
       "        vertical-align: top;\n",
       "    }\n",
       "\n",
       "    .dataframe thead th {\n",
       "        text-align: right;\n",
       "    }\n",
       "</style>\n",
       "<table border=\"1\" class=\"dataframe\">\n",
       "  <thead>\n",
       "    <tr style=\"text-align: right;\">\n",
       "      <th></th>\n",
       "      <th>edad</th>\n",
       "    </tr>\n",
       "  </thead>\n",
       "  <tbody>\n",
       "    <tr>\n",
       "      <th>0</th>\n",
       "      <td>&lt;td class=\"col col-ae\" data-col=\"ae\"&gt;17&lt;/td&gt;</td>\n",
       "    </tr>\n",
       "    <tr>\n",
       "      <th>1</th>\n",
       "      <td>&lt;td class=\"col col-ae\" data-col=\"ae\"&gt;17&lt;/td&gt;</td>\n",
       "    </tr>\n",
       "  </tbody>\n",
       "</table>\n",
       "</div>"
      ],
      "text/plain": [
       "                                           edad\n",
       "0  <td class=\"col col-ae\" data-col=\"ae\">17</td>\n",
       "1  <td class=\"col col-ae\" data-col=\"ae\">17</td>"
      ]
     },
     "execution_count": 7,
     "metadata": {},
     "output_type": "execute_result"
    }
   ],
   "source": [
    "jedad[\"edad\"] = jedad['edad'].astype(str)\n",
    "jedad.head(2)"
   ]
  },
  {
   "cell_type": "code",
   "execution_count": 8,
   "id": "c58e3082",
   "metadata": {},
   "outputs": [],
   "source": [
    "jedad['edad'] = jedad['edad'].str.extract(r'(?<=\\\"\\>)(.*)(?=\\<\\/td\\>)')"
   ]
  },
  {
   "cell_type": "code",
   "execution_count": 9,
   "id": "7a0c1095",
   "metadata": {},
   "outputs": [
    {
     "data": {
      "text/html": [
       "<div>\n",
       "<style scoped>\n",
       "    .dataframe tbody tr th:only-of-type {\n",
       "        vertical-align: middle;\n",
       "    }\n",
       "\n",
       "    .dataframe tbody tr th {\n",
       "        vertical-align: top;\n",
       "    }\n",
       "\n",
       "    .dataframe thead th {\n",
       "        text-align: right;\n",
       "    }\n",
       "</style>\n",
       "<table border=\"1\" class=\"dataframe\">\n",
       "  <thead>\n",
       "    <tr style=\"text-align: right;\">\n",
       "      <th></th>\n",
       "      <th>edad</th>\n",
       "    </tr>\n",
       "  </thead>\n",
       "  <tbody>\n",
       "    <tr>\n",
       "      <th>0</th>\n",
       "      <td>17</td>\n",
       "    </tr>\n",
       "    <tr>\n",
       "      <th>1</th>\n",
       "      <td>17</td>\n",
       "    </tr>\n",
       "  </tbody>\n",
       "</table>\n",
       "</div>"
      ],
      "text/plain": [
       "  edad\n",
       "0   17\n",
       "1   17"
      ]
     },
     "execution_count": 9,
     "metadata": {},
     "output_type": "execute_result"
    }
   ],
   "source": [
    "jedad.head(2)"
   ]
  },
  {
   "cell_type": "markdown",
   "id": "74a4f20b",
   "metadata": {},
   "source": [
    "5️⃣ Una vez más, se crea un diccionario al que añadir la información escrapeada para, posteriormente, crear un dataframe con el que trabajar."
   ]
  },
  {
   "cell_type": "code",
   "execution_count": 10,
   "id": "009234f6",
   "metadata": {},
   "outputs": [],
   "source": [
    "pais_nac = {'pais': []}"
   ]
  },
  {
   "cell_type": "code",
   "execution_count": 11,
   "id": "71c73da5",
   "metadata": {},
   "outputs": [],
   "source": [
    "productos2 = soup.find_all(\"td\",{\"class\": \"col-name\"})"
   ]
  },
  {
   "cell_type": "code",
   "execution_count": 12,
   "id": "b139618a",
   "metadata": {},
   "outputs": [],
   "source": [
    "for i in productos2:\n",
    "    pais_nac['pais'].append(i.find('img').get('title'))   "
   ]
  },
  {
   "cell_type": "code",
   "execution_count": 13,
   "id": "1977f402",
   "metadata": {},
   "outputs": [
    {
     "data": {
      "text/html": [
       "<div>\n",
       "<style scoped>\n",
       "    .dataframe tbody tr th:only-of-type {\n",
       "        vertical-align: middle;\n",
       "    }\n",
       "\n",
       "    .dataframe tbody tr th {\n",
       "        vertical-align: top;\n",
       "    }\n",
       "\n",
       "    .dataframe thead th {\n",
       "        text-align: right;\n",
       "    }\n",
       "</style>\n",
       "<table border=\"1\" class=\"dataframe\">\n",
       "  <thead>\n",
       "    <tr style=\"text-align: right;\">\n",
       "      <th></th>\n",
       "      <th>pais</th>\n",
       "    </tr>\n",
       "  </thead>\n",
       "  <tbody>\n",
       "    <tr>\n",
       "      <th>0</th>\n",
       "      <td>Uruguay</td>\n",
       "    </tr>\n",
       "    <tr>\n",
       "      <th>1</th>\n",
       "      <td>None</td>\n",
       "    </tr>\n",
       "    <tr>\n",
       "      <th>2</th>\n",
       "      <td>Greece</td>\n",
       "    </tr>\n",
       "    <tr>\n",
       "      <th>3</th>\n",
       "      <td>None</td>\n",
       "    </tr>\n",
       "    <tr>\n",
       "      <th>4</th>\n",
       "      <td>Spain</td>\n",
       "    </tr>\n",
       "  </tbody>\n",
       "</table>\n",
       "</div>"
      ],
      "text/plain": [
       "      pais\n",
       "0  Uruguay\n",
       "1     None\n",
       "2   Greece\n",
       "3     None\n",
       "4    Spain"
      ]
     },
     "execution_count": 13,
     "metadata": {},
     "output_type": "execute_result"
    }
   ],
   "source": [
    "pnac = pd.DataFrame(pais_nac)\n",
    "pnac.head()"
   ]
  },
  {
   "cell_type": "markdown",
   "id": "e5fe4246",
   "metadata": {},
   "source": [
    "6️⃣ Se eliminan las celdas vacías del data frame."
   ]
  },
  {
   "cell_type": "code",
   "execution_count": 14,
   "id": "742ac80f",
   "metadata": {
    "scrolled": true
   },
   "outputs": [
    {
     "data": {
      "text/html": [
       "<div>\n",
       "<style scoped>\n",
       "    .dataframe tbody tr th:only-of-type {\n",
       "        vertical-align: middle;\n",
       "    }\n",
       "\n",
       "    .dataframe tbody tr th {\n",
       "        vertical-align: top;\n",
       "    }\n",
       "\n",
       "    .dataframe thead th {\n",
       "        text-align: right;\n",
       "    }\n",
       "</style>\n",
       "<table border=\"1\" class=\"dataframe\">\n",
       "  <thead>\n",
       "    <tr style=\"text-align: right;\">\n",
       "      <th></th>\n",
       "      <th>pais</th>\n",
       "    </tr>\n",
       "  </thead>\n",
       "  <tbody>\n",
       "    <tr>\n",
       "      <th>0</th>\n",
       "      <td>Uruguay</td>\n",
       "    </tr>\n",
       "    <tr>\n",
       "      <th>1</th>\n",
       "      <td>Greece</td>\n",
       "    </tr>\n",
       "    <tr>\n",
       "      <th>2</th>\n",
       "      <td>Spain</td>\n",
       "    </tr>\n",
       "    <tr>\n",
       "      <th>3</th>\n",
       "      <td>Spain</td>\n",
       "    </tr>\n",
       "    <tr>\n",
       "      <th>4</th>\n",
       "      <td>Netherlands</td>\n",
       "    </tr>\n",
       "  </tbody>\n",
       "</table>\n",
       "</div>"
      ],
      "text/plain": [
       "          pais\n",
       "0      Uruguay\n",
       "1       Greece\n",
       "2        Spain\n",
       "3        Spain\n",
       "4  Netherlands"
      ]
     },
     "execution_count": 14,
     "metadata": {},
     "output_type": "execute_result"
    }
   ],
   "source": [
    "paisnacimient = pnac.dropna()\n",
    "paisnacimient = paisnacimient.reset_index(drop=True)\n",
    "paisnacimient.head()"
   ]
  },
  {
   "cell_type": "markdown",
   "id": "a9583c24",
   "metadata": {},
   "source": [
    "7️⃣ Por último, se concatenan los dataframe kimpios de edad y país en uno único y se procede a guardarlo."
   ]
  },
  {
   "cell_type": "code",
   "execution_count": 15,
   "id": "90e2537e",
   "metadata": {
    "scrolled": true
   },
   "outputs": [
    {
     "data": {
      "text/html": [
       "<div>\n",
       "<style scoped>\n",
       "    .dataframe tbody tr th:only-of-type {\n",
       "        vertical-align: middle;\n",
       "    }\n",
       "\n",
       "    .dataframe tbody tr th {\n",
       "        vertical-align: top;\n",
       "    }\n",
       "\n",
       "    .dataframe thead th {\n",
       "        text-align: right;\n",
       "    }\n",
       "</style>\n",
       "<table border=\"1\" class=\"dataframe\">\n",
       "  <thead>\n",
       "    <tr style=\"text-align: right;\">\n",
       "      <th></th>\n",
       "      <th>edad</th>\n",
       "      <th>pais</th>\n",
       "    </tr>\n",
       "  </thead>\n",
       "  <tbody>\n",
       "    <tr>\n",
       "      <th>0</th>\n",
       "      <td>17</td>\n",
       "      <td>Uruguay</td>\n",
       "    </tr>\n",
       "    <tr>\n",
       "      <th>1</th>\n",
       "      <td>17</td>\n",
       "      <td>Greece</td>\n",
       "    </tr>\n",
       "    <tr>\n",
       "      <th>2</th>\n",
       "      <td>18</td>\n",
       "      <td>Spain</td>\n",
       "    </tr>\n",
       "    <tr>\n",
       "      <th>3</th>\n",
       "      <td>16</td>\n",
       "      <td>Spain</td>\n",
       "    </tr>\n",
       "    <tr>\n",
       "      <th>4</th>\n",
       "      <td>16</td>\n",
       "      <td>Netherlands</td>\n",
       "    </tr>\n",
       "  </tbody>\n",
       "</table>\n",
       "</div>"
      ],
      "text/plain": [
       "  edad         pais\n",
       "0   17      Uruguay\n",
       "1   17       Greece\n",
       "2   18        Spain\n",
       "3   16        Spain\n",
       "4   16  Netherlands"
      ]
     },
     "execution_count": 15,
     "metadata": {},
     "output_type": "execute_result"
    }
   ],
   "source": [
    "jugador_caract = pd.concat([jedad, paisnacimient], axis=1)\n",
    "jugador_caract.head()"
   ]
  },
  {
   "cell_type": "code",
   "execution_count": 16,
   "id": "e5360e95",
   "metadata": {},
   "outputs": [],
   "source": [
    "jugador_caract.to_csv('../../data/promesas/caracteristicas_jugadores.csv')"
   ]
  }
 ],
 "metadata": {
  "kernelspec": {
   "display_name": "Python 3 (ipykernel)",
   "language": "python",
   "name": "python3"
  },
  "language_info": {
   "codemirror_mode": {
    "name": "ipython",
    "version": 3
   },
   "file_extension": ".py",
   "mimetype": "text/x-python",
   "name": "python",
   "nbconvert_exporter": "python",
   "pygments_lexer": "ipython3",
   "version": "3.9.5"
  }
 },
 "nbformat": 4,
 "nbformat_minor": 5
}
