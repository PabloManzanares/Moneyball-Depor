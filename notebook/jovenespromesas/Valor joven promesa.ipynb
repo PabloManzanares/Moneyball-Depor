{
 "cells": [
  {
   "cell_type": "code",
   "execution_count": 1,
   "id": "cc673e39",
   "metadata": {},
   "outputs": [],
   "source": [
    "import pandas as pd\n",
    "import numpy as np\n",
    "import re\n",
    "from bs4 import BeautifulSoup\n",
    "import requests\n",
    "\n",
    "pd.options.display.max_columns = None"
   ]
  },
  {
   "cell_type": "code",
   "execution_count": 2,
   "id": "bdee409f",
   "metadata": {},
   "outputs": [
    {
     "data": {
      "text/plain": [
       "200"
      ]
     },
     "execution_count": 2,
     "metadata": {},
     "output_type": "execute_result"
    }
   ],
   "source": [
    "url = 'https://sofifa.com/players?type=all&oah=70&ptl=80&vlh=1000000'\n",
    "html = requests.get(url)\n",
    "soup = BeautifulSoup(html.content, \"html.parser\")\n",
    "html.status_code"
   ]
  },
  {
   "cell_type": "code",
   "execution_count": 3,
   "id": "8d30d882",
   "metadata": {},
   "outputs": [],
   "source": [
    "productos = soup.find_all(\"td\",{\"class\": \"col col-vl\"})"
   ]
  },
  {
   "cell_type": "code",
   "execution_count": 4,
   "id": "4245e1e6",
   "metadata": {},
   "outputs": [],
   "source": [
    "valor = {'precio': []}"
   ]
  },
  {
   "cell_type": "code",
   "execution_count": 5,
   "id": "70b0f0bc",
   "metadata": {},
   "outputs": [],
   "source": [
    "for i in productos:\n",
    "    valor['precio'].append(i)  "
   ]
  },
  {
   "cell_type": "code",
   "execution_count": 6,
   "id": "9483f96d",
   "metadata": {},
   "outputs": [
    {
     "data": {
      "text/html": [
       "<div>\n",
       "<style scoped>\n",
       "    .dataframe tbody tr th:only-of-type {\n",
       "        vertical-align: middle;\n",
       "    }\n",
       "\n",
       "    .dataframe tbody tr th {\n",
       "        vertical-align: top;\n",
       "    }\n",
       "\n",
       "    .dataframe thead th {\n",
       "        text-align: right;\n",
       "    }\n",
       "</style>\n",
       "<table border=\"1\" class=\"dataframe\">\n",
       "  <thead>\n",
       "    <tr style=\"text-align: right;\">\n",
       "      <th></th>\n",
       "      <th>precio</th>\n",
       "    </tr>\n",
       "  </thead>\n",
       "  <tbody>\n",
       "    <tr>\n",
       "      <th>0</th>\n",
       "      <td>[€1M]</td>\n",
       "    </tr>\n",
       "    <tr>\n",
       "      <th>1</th>\n",
       "      <td>[€925K]</td>\n",
       "    </tr>\n",
       "  </tbody>\n",
       "</table>\n",
       "</div>"
      ],
      "text/plain": [
       "    precio\n",
       "0    [€1M]\n",
       "1  [€925K]"
      ]
     },
     "execution_count": 6,
     "metadata": {},
     "output_type": "execute_result"
    }
   ],
   "source": [
    "precio = pd.DataFrame(valor)\n",
    "precio.head(2)"
   ]
  },
  {
   "cell_type": "code",
   "execution_count": 7,
   "id": "c72c1df0",
   "metadata": {},
   "outputs": [
    {
     "data": {
      "text/html": [
       "<div>\n",
       "<style scoped>\n",
       "    .dataframe tbody tr th:only-of-type {\n",
       "        vertical-align: middle;\n",
       "    }\n",
       "\n",
       "    .dataframe tbody tr th {\n",
       "        vertical-align: top;\n",
       "    }\n",
       "\n",
       "    .dataframe thead th {\n",
       "        text-align: right;\n",
       "    }\n",
       "</style>\n",
       "<table border=\"1\" class=\"dataframe\">\n",
       "  <thead>\n",
       "    <tr style=\"text-align: right;\">\n",
       "      <th></th>\n",
       "      <th>precio</th>\n",
       "    </tr>\n",
       "  </thead>\n",
       "  <tbody>\n",
       "    <tr>\n",
       "      <th>0</th>\n",
       "      <td>&lt;td class=\"col col-vl\" data-col=\"vl\"&gt;€1M&lt;/td&gt;</td>\n",
       "    </tr>\n",
       "    <tr>\n",
       "      <th>1</th>\n",
       "      <td>&lt;td class=\"col col-vl\" data-col=\"vl\"&gt;€925K&lt;/td&gt;</td>\n",
       "    </tr>\n",
       "  </tbody>\n",
       "</table>\n",
       "</div>"
      ],
      "text/plain": [
       "                                            precio\n",
       "0    <td class=\"col col-vl\" data-col=\"vl\">€1M</td>\n",
       "1  <td class=\"col col-vl\" data-col=\"vl\">€925K</td>"
      ]
     },
     "execution_count": 7,
     "metadata": {},
     "output_type": "execute_result"
    }
   ],
   "source": [
    "precio[\"precio\"] = precio['precio'].astype(str)\n",
    "precio.head(2)"
   ]
  },
  {
   "cell_type": "code",
   "execution_count": 8,
   "id": "4df90bf8",
   "metadata": {},
   "outputs": [],
   "source": [
    "precio['precio'] = precio['precio'].str.extract(r'(?<=\\\"\\>)(.*)(?=\\<\\/td\\>)')"
   ]
  },
  {
   "cell_type": "code",
   "execution_count": 9,
   "id": "dc0526f7",
   "metadata": {},
   "outputs": [
    {
     "data": {
      "text/html": [
       "<div>\n",
       "<style scoped>\n",
       "    .dataframe tbody tr th:only-of-type {\n",
       "        vertical-align: middle;\n",
       "    }\n",
       "\n",
       "    .dataframe tbody tr th {\n",
       "        vertical-align: top;\n",
       "    }\n",
       "\n",
       "    .dataframe thead th {\n",
       "        text-align: right;\n",
       "    }\n",
       "</style>\n",
       "<table border=\"1\" class=\"dataframe\">\n",
       "  <thead>\n",
       "    <tr style=\"text-align: right;\">\n",
       "      <th></th>\n",
       "      <th>precio</th>\n",
       "    </tr>\n",
       "  </thead>\n",
       "  <tbody>\n",
       "    <tr>\n",
       "      <th>0</th>\n",
       "      <td>€1M</td>\n",
       "    </tr>\n",
       "    <tr>\n",
       "      <th>1</th>\n",
       "      <td>€925K</td>\n",
       "    </tr>\n",
       "    <tr>\n",
       "      <th>2</th>\n",
       "      <td>€950K</td>\n",
       "    </tr>\n",
       "    <tr>\n",
       "      <th>3</th>\n",
       "      <td>€1M</td>\n",
       "    </tr>\n",
       "    <tr>\n",
       "      <th>4</th>\n",
       "      <td>€1M</td>\n",
       "    </tr>\n",
       "  </tbody>\n",
       "</table>\n",
       "</div>"
      ],
      "text/plain": [
       "  precio\n",
       "0    €1M\n",
       "1  €925K\n",
       "2  €950K\n",
       "3    €1M\n",
       "4    €1M"
      ]
     },
     "execution_count": 9,
     "metadata": {},
     "output_type": "execute_result"
    }
   ],
   "source": [
    "precio.head()"
   ]
  },
  {
   "cell_type": "code",
   "execution_count": 10,
   "id": "f730d9bb",
   "metadata": {},
   "outputs": [],
   "source": [
    "precio.to_csv('../../data/promesas/precio_jugadores.csv')"
   ]
  }
 ],
 "metadata": {
  "kernelspec": {
   "display_name": "Python 3 (ipykernel)",
   "language": "python",
   "name": "python3"
  },
  "language_info": {
   "codemirror_mode": {
    "name": "ipython",
    "version": 3
   },
   "file_extension": ".py",
   "mimetype": "text/x-python",
   "name": "python",
   "nbconvert_exporter": "python",
   "pygments_lexer": "ipython3",
   "version": "3.9.5"
  }
 },
 "nbformat": 4,
 "nbformat_minor": 5
}
