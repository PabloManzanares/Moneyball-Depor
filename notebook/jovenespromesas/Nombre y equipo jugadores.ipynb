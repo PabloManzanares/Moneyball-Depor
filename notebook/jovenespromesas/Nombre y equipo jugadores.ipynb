{
 "cells": [
  {
   "cell_type": "markdown",
   "id": "8cb8793a",
   "metadata": {},
   "source": [
    "# Obtención nombre y equipo actual jóvenes promesas."
   ]
  },
  {
   "cell_type": "markdown",
   "id": "2c0eb556",
   "metadata": {},
   "source": [
    "❗ Se procede a buscar jugadores con un valor actual inferior a **1 millón de euros** y que tengan una previsible progresión.\n",
    "\n",
    "➡ Para ello, se realizará un Web Scraping de la página Sofifa, la cual nos permite establecer un precio máximo del jugador y, por otro lado, el posible proreso del mismo."
   ]
  },
  {
   "cell_type": "code",
   "execution_count": 1,
   "id": "6c49991a",
   "metadata": {},
   "outputs": [],
   "source": [
    "import pandas as pd\n",
    "import numpy as np\n",
    "import re\n",
    "from bs4 import BeautifulSoup\n",
    "import requests\n",
    "\n",
    "pd.options.display.max_columns = None"
   ]
  },
  {
   "cell_type": "markdown",
   "id": "460a571a",
   "metadata": {},
   "source": [
    "1️⃣ Establecemos el scrapeo."
   ]
  },
  {
   "cell_type": "code",
   "execution_count": 2,
   "id": "f06d9a26",
   "metadata": {},
   "outputs": [
    {
     "data": {
      "text/plain": [
       "200"
      ]
     },
     "execution_count": 2,
     "metadata": {},
     "output_type": "execute_result"
    }
   ],
   "source": [
    "url = 'https://sofifa.com/players?type=all&oah=70&ptl=80&vlh=1000000'\n",
    "html = requests.get(url)\n",
    "soup = BeautifulSoup(html.content, \"html.parser\")\n",
    "html.status_code"
   ]
  },
  {
   "cell_type": "markdown",
   "id": "531a1939",
   "metadata": {},
   "source": [
    "2️⃣ Dentro de la página, marcamos la información que deseamos obtener."
   ]
  },
  {
   "cell_type": "code",
   "execution_count": 3,
   "id": "736804c9",
   "metadata": {},
   "outputs": [],
   "source": [
    "productos = soup.find_all(\"td\", {\"class\": \"col-name\"})"
   ]
  },
  {
   "cell_type": "markdown",
   "id": "efcbcce0",
   "metadata": {},
   "source": [
    "3️⃣ Creamos un diccionario al que añadir los datos escrapeados para, posteriormente, convertirlo en un dataframe con el que trabajar."
   ]
  },
  {
   "cell_type": "code",
   "execution_count": 4,
   "id": "cd52e66f",
   "metadata": {},
   "outputs": [],
   "source": [
    "jugadores = {'jugador': []}"
   ]
  },
  {
   "cell_type": "code",
   "execution_count": 5,
   "id": "d259fe43",
   "metadata": {
    "scrolled": true
   },
   "outputs": [],
   "source": [
    "for i in productos:\n",
    "    jugadores['jugador'].append(i.find('a').get('href'))                           "
   ]
  },
  {
   "cell_type": "code",
   "execution_count": 6,
   "id": "98d67326",
   "metadata": {},
   "outputs": [
    {
     "data": {
      "text/html": [
       "<div>\n",
       "<style scoped>\n",
       "    .dataframe tbody tr th:only-of-type {\n",
       "        vertical-align: middle;\n",
       "    }\n",
       "\n",
       "    .dataframe tbody tr th {\n",
       "        vertical-align: top;\n",
       "    }\n",
       "\n",
       "    .dataframe thead th {\n",
       "        text-align: right;\n",
       "    }\n",
       "</style>\n",
       "<table border=\"1\" class=\"dataframe\">\n",
       "  <thead>\n",
       "    <tr style=\"text-align: right;\">\n",
       "      <th></th>\n",
       "      <th>jugador</th>\n",
       "    </tr>\n",
       "  </thead>\n",
       "  <tbody>\n",
       "    <tr>\n",
       "      <th>0</th>\n",
       "      <td>/player/267750/renzo-sanchez/220057/</td>\n",
       "    </tr>\n",
       "    <tr>\n",
       "      <th>1</th>\n",
       "      <td>/team/111325/club-nacional-de-football/</td>\n",
       "    </tr>\n",
       "    <tr>\n",
       "      <th>2</th>\n",
       "      <td>/player/266437/dimitrios-keramitsis/220057/</td>\n",
       "    </tr>\n",
       "    <tr>\n",
       "      <th>3</th>\n",
       "      <td>/team/52/roma/</td>\n",
       "    </tr>\n",
       "    <tr>\n",
       "      <th>4</th>\n",
       "      <td>/player/266031/ruben-iranzo-lendinez/220057/</td>\n",
       "    </tr>\n",
       "  </tbody>\n",
       "</table>\n",
       "</div>"
      ],
      "text/plain": [
       "                                        jugador\n",
       "0          /player/267750/renzo-sanchez/220057/\n",
       "1       /team/111325/club-nacional-de-football/\n",
       "2   /player/266437/dimitrios-keramitsis/220057/\n",
       "3                                /team/52/roma/\n",
       "4  /player/266031/ruben-iranzo-lendinez/220057/"
      ]
     },
     "execution_count": 6,
     "metadata": {},
     "output_type": "execute_result"
    }
   ],
   "source": [
    "jugadores_top = pd.DataFrame(jugadores)\n",
    "jugadores_top.head()"
   ]
  },
  {
   "cell_type": "markdown",
   "id": "1d43977c",
   "metadata": {},
   "source": [
    "❗ Como se observa en el dataframe anterior, el nombre del juagdor actual y su equipo aparecen acompañados de letras y números que no son de interés. Por este motivo, realizaremos una limpieza empleando regex.\n",
    "\n",
    "4️⃣ Aplicamos regex al nombre del jugador, limpiándolo y obteniéndolo de manera individual. Además, como en las celdas del nombre del equipo actual no se cumple el regex aparecerá NaN, se procederá a eliminarlas para limpiarlas posteriormente."
   ]
  },
  {
   "cell_type": "code",
   "execution_count": 10,
   "id": "647f3064",
   "metadata": {},
   "outputs": [],
   "source": [
    "jugadores_top['jug'] = jugadores_top['jugador'].str.extract(r'(?<=\\/player\\/\\d\\d\\d\\d\\d\\d\\/)(.*)(?=\\/220057)')"
   ]
  },
  {
   "cell_type": "code",
   "execution_count": 11,
   "id": "a3dfe07b",
   "metadata": {},
   "outputs": [
    {
     "data": {
      "text/html": [
       "<div>\n",
       "<style scoped>\n",
       "    .dataframe tbody tr th:only-of-type {\n",
       "        vertical-align: middle;\n",
       "    }\n",
       "\n",
       "    .dataframe tbody tr th {\n",
       "        vertical-align: top;\n",
       "    }\n",
       "\n",
       "    .dataframe thead th {\n",
       "        text-align: right;\n",
       "    }\n",
       "</style>\n",
       "<table border=\"1\" class=\"dataframe\">\n",
       "  <thead>\n",
       "    <tr style=\"text-align: right;\">\n",
       "      <th></th>\n",
       "      <th>jugador</th>\n",
       "      <th>jug</th>\n",
       "    </tr>\n",
       "  </thead>\n",
       "  <tbody>\n",
       "    <tr>\n",
       "      <th>0</th>\n",
       "      <td>/player/267750/renzo-sanchez/220057/</td>\n",
       "      <td>renzo-sanchez</td>\n",
       "    </tr>\n",
       "    <tr>\n",
       "      <th>1</th>\n",
       "      <td>/team/111325/club-nacional-de-football/</td>\n",
       "      <td>NaN</td>\n",
       "    </tr>\n",
       "    <tr>\n",
       "      <th>2</th>\n",
       "      <td>/player/266437/dimitrios-keramitsis/220057/</td>\n",
       "      <td>dimitrios-keramitsis</td>\n",
       "    </tr>\n",
       "    <tr>\n",
       "      <th>3</th>\n",
       "      <td>/team/52/roma/</td>\n",
       "      <td>NaN</td>\n",
       "    </tr>\n",
       "    <tr>\n",
       "      <th>4</th>\n",
       "      <td>/player/266031/ruben-iranzo-lendinez/220057/</td>\n",
       "      <td>ruben-iranzo-lendinez</td>\n",
       "    </tr>\n",
       "  </tbody>\n",
       "</table>\n",
       "</div>"
      ],
      "text/plain": [
       "                                        jugador                    jug\n",
       "0          /player/267750/renzo-sanchez/220057/          renzo-sanchez\n",
       "1       /team/111325/club-nacional-de-football/                    NaN\n",
       "2   /player/266437/dimitrios-keramitsis/220057/   dimitrios-keramitsis\n",
       "3                                /team/52/roma/                    NaN\n",
       "4  /player/266031/ruben-iranzo-lendinez/220057/  ruben-iranzo-lendinez"
      ]
     },
     "execution_count": 11,
     "metadata": {},
     "output_type": "execute_result"
    }
   ],
   "source": [
    "jugadores_top.head()"
   ]
  },
  {
   "cell_type": "code",
   "execution_count": 12,
   "id": "7bde6760",
   "metadata": {},
   "outputs": [
    {
     "data": {
      "text/html": [
       "<div>\n",
       "<style scoped>\n",
       "    .dataframe tbody tr th:only-of-type {\n",
       "        vertical-align: middle;\n",
       "    }\n",
       "\n",
       "    .dataframe tbody tr th {\n",
       "        vertical-align: top;\n",
       "    }\n",
       "\n",
       "    .dataframe thead th {\n",
       "        text-align: right;\n",
       "    }\n",
       "</style>\n",
       "<table border=\"1\" class=\"dataframe\">\n",
       "  <thead>\n",
       "    <tr style=\"text-align: right;\">\n",
       "      <th></th>\n",
       "      <th>jugador</th>\n",
       "      <th>jug</th>\n",
       "    </tr>\n",
       "  </thead>\n",
       "  <tbody>\n",
       "    <tr>\n",
       "      <th>0</th>\n",
       "      <td>/player/267750/renzo-sanchez/220057/</td>\n",
       "      <td>renzo-sanchez</td>\n",
       "    </tr>\n",
       "    <tr>\n",
       "      <th>1</th>\n",
       "      <td>/player/266437/dimitrios-keramitsis/220057/</td>\n",
       "      <td>dimitrios-keramitsis</td>\n",
       "    </tr>\n",
       "    <tr>\n",
       "      <th>2</th>\n",
       "      <td>/player/266031/ruben-iranzo-lendinez/220057/</td>\n",
       "      <td>ruben-iranzo-lendinez</td>\n",
       "    </tr>\n",
       "    <tr>\n",
       "      <th>3</th>\n",
       "      <td>/player/264179/pelayo-gonzalez-rey/220057/</td>\n",
       "      <td>pelayo-gonzalez-rey</td>\n",
       "    </tr>\n",
       "    <tr>\n",
       "      <th>4</th>\n",
       "      <td>/player/263640/antoni-djibu-milambo/220057/</td>\n",
       "      <td>antoni-djibu-milambo</td>\n",
       "    </tr>\n",
       "  </tbody>\n",
       "</table>\n",
       "</div>"
      ],
      "text/plain": [
       "                                        jugador                    jug\n",
       "0          /player/267750/renzo-sanchez/220057/          renzo-sanchez\n",
       "1   /player/266437/dimitrios-keramitsis/220057/   dimitrios-keramitsis\n",
       "2  /player/266031/ruben-iranzo-lendinez/220057/  ruben-iranzo-lendinez\n",
       "3    /player/264179/pelayo-gonzalez-rey/220057/    pelayo-gonzalez-rey\n",
       "4   /player/263640/antoni-djibu-milambo/220057/   antoni-djibu-milambo"
      ]
     },
     "execution_count": 12,
     "metadata": {},
     "output_type": "execute_result"
    }
   ],
   "source": [
    "jugadores_fichar = jugadores_top.dropna()\n",
    "jugadores_fichar = jugadores_fichar.reset_index(drop=True)\n",
    "jugadores_fichar.head()"
   ]
  },
  {
   "cell_type": "markdown",
   "id": "85319fec",
   "metadata": {},
   "source": [
    "5️⃣ Realizamos el mismo procedimiento seguido para el nombre del jugador con los equiposactuales."
   ]
  },
  {
   "cell_type": "code",
   "execution_count": 13,
   "id": "0018321f",
   "metadata": {},
   "outputs": [],
   "source": [
    "jugadores_top['team1'] = jugadores_top['jugador'].str.extract(r'(?<=\\/team\\/)(.*)(?=\\/)')"
   ]
  },
  {
   "cell_type": "code",
   "execution_count": 14,
   "id": "ac972000",
   "metadata": {
    "scrolled": true
   },
   "outputs": [
    {
     "data": {
      "text/html": [
       "<div>\n",
       "<style scoped>\n",
       "    .dataframe tbody tr th:only-of-type {\n",
       "        vertical-align: middle;\n",
       "    }\n",
       "\n",
       "    .dataframe tbody tr th {\n",
       "        vertical-align: top;\n",
       "    }\n",
       "\n",
       "    .dataframe thead th {\n",
       "        text-align: right;\n",
       "    }\n",
       "</style>\n",
       "<table border=\"1\" class=\"dataframe\">\n",
       "  <thead>\n",
       "    <tr style=\"text-align: right;\">\n",
       "      <th></th>\n",
       "      <th>jugador</th>\n",
       "      <th>jug</th>\n",
       "      <th>team1</th>\n",
       "    </tr>\n",
       "  </thead>\n",
       "  <tbody>\n",
       "    <tr>\n",
       "      <th>0</th>\n",
       "      <td>/player/267750/renzo-sanchez/220057/</td>\n",
       "      <td>renzo-sanchez</td>\n",
       "      <td>NaN</td>\n",
       "    </tr>\n",
       "    <tr>\n",
       "      <th>1</th>\n",
       "      <td>/team/111325/club-nacional-de-football/</td>\n",
       "      <td>NaN</td>\n",
       "      <td>111325/club-nacional-de-football</td>\n",
       "    </tr>\n",
       "    <tr>\n",
       "      <th>2</th>\n",
       "      <td>/player/266437/dimitrios-keramitsis/220057/</td>\n",
       "      <td>dimitrios-keramitsis</td>\n",
       "      <td>NaN</td>\n",
       "    </tr>\n",
       "    <tr>\n",
       "      <th>3</th>\n",
       "      <td>/team/52/roma/</td>\n",
       "      <td>NaN</td>\n",
       "      <td>52/roma</td>\n",
       "    </tr>\n",
       "    <tr>\n",
       "      <th>4</th>\n",
       "      <td>/player/266031/ruben-iranzo-lendinez/220057/</td>\n",
       "      <td>ruben-iranzo-lendinez</td>\n",
       "      <td>NaN</td>\n",
       "    </tr>\n",
       "  </tbody>\n",
       "</table>\n",
       "</div>"
      ],
      "text/plain": [
       "                                        jugador                    jug  \\\n",
       "0          /player/267750/renzo-sanchez/220057/          renzo-sanchez   \n",
       "1       /team/111325/club-nacional-de-football/                    NaN   \n",
       "2   /player/266437/dimitrios-keramitsis/220057/   dimitrios-keramitsis   \n",
       "3                                /team/52/roma/                    NaN   \n",
       "4  /player/266031/ruben-iranzo-lendinez/220057/  ruben-iranzo-lendinez   \n",
       "\n",
       "                              team1  \n",
       "0                               NaN  \n",
       "1  111325/club-nacional-de-football  \n",
       "2                               NaN  \n",
       "3                           52/roma  \n",
       "4                               NaN  "
      ]
     },
     "execution_count": 14,
     "metadata": {},
     "output_type": "execute_result"
    }
   ],
   "source": [
    "jugadores_top.head()"
   ]
  },
  {
   "cell_type": "code",
   "execution_count": 15,
   "id": "475b3db3",
   "metadata": {},
   "outputs": [],
   "source": [
    "jugadores_top['team'] = jugadores_top['team1'].str.extract(r'(?<=\\d\\/)(.*)')"
   ]
  },
  {
   "cell_type": "code",
   "execution_count": 16,
   "id": "0dafe159",
   "metadata": {},
   "outputs": [
    {
     "data": {
      "text/html": [
       "<div>\n",
       "<style scoped>\n",
       "    .dataframe tbody tr th:only-of-type {\n",
       "        vertical-align: middle;\n",
       "    }\n",
       "\n",
       "    .dataframe tbody tr th {\n",
       "        vertical-align: top;\n",
       "    }\n",
       "\n",
       "    .dataframe thead th {\n",
       "        text-align: right;\n",
       "    }\n",
       "</style>\n",
       "<table border=\"1\" class=\"dataframe\">\n",
       "  <thead>\n",
       "    <tr style=\"text-align: right;\">\n",
       "      <th></th>\n",
       "      <th>jugador</th>\n",
       "      <th>jug</th>\n",
       "      <th>team1</th>\n",
       "      <th>team</th>\n",
       "    </tr>\n",
       "  </thead>\n",
       "  <tbody>\n",
       "    <tr>\n",
       "      <th>0</th>\n",
       "      <td>/player/267750/renzo-sanchez/220057/</td>\n",
       "      <td>renzo-sanchez</td>\n",
       "      <td>NaN</td>\n",
       "      <td>NaN</td>\n",
       "    </tr>\n",
       "    <tr>\n",
       "      <th>1</th>\n",
       "      <td>/team/111325/club-nacional-de-football/</td>\n",
       "      <td>NaN</td>\n",
       "      <td>111325/club-nacional-de-football</td>\n",
       "      <td>club-nacional-de-football</td>\n",
       "    </tr>\n",
       "    <tr>\n",
       "      <th>2</th>\n",
       "      <td>/player/266437/dimitrios-keramitsis/220057/</td>\n",
       "      <td>dimitrios-keramitsis</td>\n",
       "      <td>NaN</td>\n",
       "      <td>NaN</td>\n",
       "    </tr>\n",
       "    <tr>\n",
       "      <th>3</th>\n",
       "      <td>/team/52/roma/</td>\n",
       "      <td>NaN</td>\n",
       "      <td>52/roma</td>\n",
       "      <td>roma</td>\n",
       "    </tr>\n",
       "    <tr>\n",
       "      <th>4</th>\n",
       "      <td>/player/266031/ruben-iranzo-lendinez/220057/</td>\n",
       "      <td>ruben-iranzo-lendinez</td>\n",
       "      <td>NaN</td>\n",
       "      <td>NaN</td>\n",
       "    </tr>\n",
       "  </tbody>\n",
       "</table>\n",
       "</div>"
      ],
      "text/plain": [
       "                                        jugador                    jug  \\\n",
       "0          /player/267750/renzo-sanchez/220057/          renzo-sanchez   \n",
       "1       /team/111325/club-nacional-de-football/                    NaN   \n",
       "2   /player/266437/dimitrios-keramitsis/220057/   dimitrios-keramitsis   \n",
       "3                                /team/52/roma/                    NaN   \n",
       "4  /player/266031/ruben-iranzo-lendinez/220057/  ruben-iranzo-lendinez   \n",
       "\n",
       "                              team1                       team  \n",
       "0                               NaN                        NaN  \n",
       "1  111325/club-nacional-de-football  club-nacional-de-football  \n",
       "2                               NaN                        NaN  \n",
       "3                           52/roma                       roma  \n",
       "4                               NaN                        NaN  "
      ]
     },
     "execution_count": 16,
     "metadata": {},
     "output_type": "execute_result"
    }
   ],
   "source": [
    "jugadores_top.head()"
   ]
  },
  {
   "cell_type": "code",
   "execution_count": 17,
   "id": "f66deaf0",
   "metadata": {},
   "outputs": [
    {
     "data": {
      "text/html": [
       "<div>\n",
       "<style scoped>\n",
       "    .dataframe tbody tr th:only-of-type {\n",
       "        vertical-align: middle;\n",
       "    }\n",
       "\n",
       "    .dataframe tbody tr th {\n",
       "        vertical-align: top;\n",
       "    }\n",
       "\n",
       "    .dataframe thead th {\n",
       "        text-align: right;\n",
       "    }\n",
       "</style>\n",
       "<table border=\"1\" class=\"dataframe\">\n",
       "  <thead>\n",
       "    <tr style=\"text-align: right;\">\n",
       "      <th></th>\n",
       "      <th>team</th>\n",
       "    </tr>\n",
       "  </thead>\n",
       "  <tbody>\n",
       "    <tr>\n",
       "      <th>0</th>\n",
       "      <td>NaN</td>\n",
       "    </tr>\n",
       "    <tr>\n",
       "      <th>1</th>\n",
       "      <td>club-nacional-de-football</td>\n",
       "    </tr>\n",
       "    <tr>\n",
       "      <th>2</th>\n",
       "      <td>NaN</td>\n",
       "    </tr>\n",
       "    <tr>\n",
       "      <th>3</th>\n",
       "      <td>roma</td>\n",
       "    </tr>\n",
       "    <tr>\n",
       "      <th>4</th>\n",
       "      <td>NaN</td>\n",
       "    </tr>\n",
       "  </tbody>\n",
       "</table>\n",
       "</div>"
      ],
      "text/plain": [
       "                        team\n",
       "0                        NaN\n",
       "1  club-nacional-de-football\n",
       "2                        NaN\n",
       "3                       roma\n",
       "4                        NaN"
      ]
     },
     "execution_count": 17,
     "metadata": {},
     "output_type": "execute_result"
    }
   ],
   "source": [
    "equipos = jugadores_top.drop(['jug', 'jugador','team1'], axis=1)\n",
    "equipos.head()"
   ]
  },
  {
   "cell_type": "code",
   "execution_count": 18,
   "id": "ae050b3a",
   "metadata": {},
   "outputs": [
    {
     "data": {
      "text/html": [
       "<div>\n",
       "<style scoped>\n",
       "    .dataframe tbody tr th:only-of-type {\n",
       "        vertical-align: middle;\n",
       "    }\n",
       "\n",
       "    .dataframe tbody tr th {\n",
       "        vertical-align: top;\n",
       "    }\n",
       "\n",
       "    .dataframe thead th {\n",
       "        text-align: right;\n",
       "    }\n",
       "</style>\n",
       "<table border=\"1\" class=\"dataframe\">\n",
       "  <thead>\n",
       "    <tr style=\"text-align: right;\">\n",
       "      <th></th>\n",
       "      <th>team</th>\n",
       "    </tr>\n",
       "  </thead>\n",
       "  <tbody>\n",
       "    <tr>\n",
       "      <th>0</th>\n",
       "      <td>club-nacional-de-football</td>\n",
       "    </tr>\n",
       "    <tr>\n",
       "      <th>1</th>\n",
       "      <td>roma</td>\n",
       "    </tr>\n",
       "    <tr>\n",
       "      <th>2</th>\n",
       "      <td>valencia-cf</td>\n",
       "    </tr>\n",
       "    <tr>\n",
       "      <th>3</th>\n",
       "      <td>real-oviedo</td>\n",
       "    </tr>\n",
       "    <tr>\n",
       "      <th>4</th>\n",
       "      <td>feyenoord</td>\n",
       "    </tr>\n",
       "  </tbody>\n",
       "</table>\n",
       "</div>"
      ],
      "text/plain": [
       "                        team\n",
       "0  club-nacional-de-football\n",
       "1                       roma\n",
       "2                valencia-cf\n",
       "3                real-oviedo\n",
       "4                  feyenoord"
      ]
     },
     "execution_count": 18,
     "metadata": {},
     "output_type": "execute_result"
    }
   ],
   "source": [
    "equip = equipos.dropna()\n",
    "equip = equip.reset_index(drop=True)\n",
    "equip.head()"
   ]
  },
  {
   "cell_type": "markdown",
   "id": "f9f392d7",
   "metadata": {},
   "source": [
    "6️⃣ En definitiva, obtendremos un dataframe con la información escrapeada (jugador), otro con el nombre del jugador limpio (jug) y, por último, el del equipo actual (team). En este caso, el de la informació escrapeada es meramente ilustrativo y se procederá a su eliminación."
   ]
  },
  {
   "cell_type": "code",
   "execution_count": 19,
   "id": "78ff9d8e",
   "metadata": {},
   "outputs": [
    {
     "data": {
      "text/html": [
       "<div>\n",
       "<style scoped>\n",
       "    .dataframe tbody tr th:only-of-type {\n",
       "        vertical-align: middle;\n",
       "    }\n",
       "\n",
       "    .dataframe tbody tr th {\n",
       "        vertical-align: top;\n",
       "    }\n",
       "\n",
       "    .dataframe thead th {\n",
       "        text-align: right;\n",
       "    }\n",
       "</style>\n",
       "<table border=\"1\" class=\"dataframe\">\n",
       "  <thead>\n",
       "    <tr style=\"text-align: right;\">\n",
       "      <th></th>\n",
       "      <th>jugador</th>\n",
       "      <th>jug</th>\n",
       "      <th>team</th>\n",
       "    </tr>\n",
       "  </thead>\n",
       "  <tbody>\n",
       "    <tr>\n",
       "      <th>0</th>\n",
       "      <td>/player/267750/renzo-sanchez/220057/</td>\n",
       "      <td>renzo-sanchez</td>\n",
       "      <td>club-nacional-de-football</td>\n",
       "    </tr>\n",
       "    <tr>\n",
       "      <th>1</th>\n",
       "      <td>/player/266437/dimitrios-keramitsis/220057/</td>\n",
       "      <td>dimitrios-keramitsis</td>\n",
       "      <td>roma</td>\n",
       "    </tr>\n",
       "    <tr>\n",
       "      <th>2</th>\n",
       "      <td>/player/266031/ruben-iranzo-lendinez/220057/</td>\n",
       "      <td>ruben-iranzo-lendinez</td>\n",
       "      <td>valencia-cf</td>\n",
       "    </tr>\n",
       "    <tr>\n",
       "      <th>3</th>\n",
       "      <td>/player/264179/pelayo-gonzalez-rey/220057/</td>\n",
       "      <td>pelayo-gonzalez-rey</td>\n",
       "      <td>real-oviedo</td>\n",
       "    </tr>\n",
       "    <tr>\n",
       "      <th>4</th>\n",
       "      <td>/player/263640/antoni-djibu-milambo/220057/</td>\n",
       "      <td>antoni-djibu-milambo</td>\n",
       "      <td>feyenoord</td>\n",
       "    </tr>\n",
       "  </tbody>\n",
       "</table>\n",
       "</div>"
      ],
      "text/plain": [
       "                                        jugador                    jug  \\\n",
       "0          /player/267750/renzo-sanchez/220057/          renzo-sanchez   \n",
       "1   /player/266437/dimitrios-keramitsis/220057/   dimitrios-keramitsis   \n",
       "2  /player/266031/ruben-iranzo-lendinez/220057/  ruben-iranzo-lendinez   \n",
       "3    /player/264179/pelayo-gonzalez-rey/220057/    pelayo-gonzalez-rey   \n",
       "4   /player/263640/antoni-djibu-milambo/220057/   antoni-djibu-milambo   \n",
       "\n",
       "                        team  \n",
       "0  club-nacional-de-football  \n",
       "1                       roma  \n",
       "2                valencia-cf  \n",
       "3                real-oviedo  \n",
       "4                  feyenoord  "
      ]
     },
     "execution_count": 19,
     "metadata": {},
     "output_type": "execute_result"
    }
   ],
   "source": [
    "jugador_fichar = pd.concat([jugadores_fichar, equip], axis=1)\n",
    "jugador_fichar.head()"
   ]
  },
  {
   "cell_type": "code",
   "execution_count": 20,
   "id": "894f9077",
   "metadata": {},
   "outputs": [
    {
     "data": {
      "text/html": [
       "<div>\n",
       "<style scoped>\n",
       "    .dataframe tbody tr th:only-of-type {\n",
       "        vertical-align: middle;\n",
       "    }\n",
       "\n",
       "    .dataframe tbody tr th {\n",
       "        vertical-align: top;\n",
       "    }\n",
       "\n",
       "    .dataframe thead th {\n",
       "        text-align: right;\n",
       "    }\n",
       "</style>\n",
       "<table border=\"1\" class=\"dataframe\">\n",
       "  <thead>\n",
       "    <tr style=\"text-align: right;\">\n",
       "      <th></th>\n",
       "      <th>jug</th>\n",
       "      <th>team</th>\n",
       "    </tr>\n",
       "  </thead>\n",
       "  <tbody>\n",
       "    <tr>\n",
       "      <th>0</th>\n",
       "      <td>renzo-sanchez</td>\n",
       "      <td>club-nacional-de-football</td>\n",
       "    </tr>\n",
       "    <tr>\n",
       "      <th>1</th>\n",
       "      <td>dimitrios-keramitsis</td>\n",
       "      <td>roma</td>\n",
       "    </tr>\n",
       "    <tr>\n",
       "      <th>2</th>\n",
       "      <td>ruben-iranzo-lendinez</td>\n",
       "      <td>valencia-cf</td>\n",
       "    </tr>\n",
       "    <tr>\n",
       "      <th>3</th>\n",
       "      <td>pelayo-gonzalez-rey</td>\n",
       "      <td>real-oviedo</td>\n",
       "    </tr>\n",
       "    <tr>\n",
       "      <th>4</th>\n",
       "      <td>antoni-djibu-milambo</td>\n",
       "      <td>feyenoord</td>\n",
       "    </tr>\n",
       "  </tbody>\n",
       "</table>\n",
       "</div>"
      ],
      "text/plain": [
       "                     jug                       team\n",
       "0          renzo-sanchez  club-nacional-de-football\n",
       "1   dimitrios-keramitsis                       roma\n",
       "2  ruben-iranzo-lendinez                valencia-cf\n",
       "3    pelayo-gonzalez-rey                real-oviedo\n",
       "4   antoni-djibu-milambo                  feyenoord"
      ]
     },
     "execution_count": 20,
     "metadata": {},
     "output_type": "execute_result"
    }
   ],
   "source": [
    "jugador_fichar = jugador_fichar.drop(['jugador'], axis=1)\n",
    "jugador_fichar.head()"
   ]
  },
  {
   "cell_type": "markdown",
   "id": "63aa4dab",
   "metadata": {},
   "source": [
    "7️⃣ Renombramos las columnas del dataframe final para darle formato y lo guardamos."
   ]
  },
  {
   "cell_type": "code",
   "execution_count": 21,
   "id": "8a7428ac",
   "metadata": {},
   "outputs": [],
   "source": [
    "nuevas_columnas = {\n",
    "    'jug' : 'Nombre jugador', \n",
    "    'team': \"Equipo actual\"}"
   ]
  },
  {
   "cell_type": "code",
   "execution_count": 22,
   "id": "69aa1633",
   "metadata": {},
   "outputs": [
    {
     "data": {
      "text/html": [
       "<div>\n",
       "<style scoped>\n",
       "    .dataframe tbody tr th:only-of-type {\n",
       "        vertical-align: middle;\n",
       "    }\n",
       "\n",
       "    .dataframe tbody tr th {\n",
       "        vertical-align: top;\n",
       "    }\n",
       "\n",
       "    .dataframe thead th {\n",
       "        text-align: right;\n",
       "    }\n",
       "</style>\n",
       "<table border=\"1\" class=\"dataframe\">\n",
       "  <thead>\n",
       "    <tr style=\"text-align: right;\">\n",
       "      <th></th>\n",
       "      <th>Nombre jugador</th>\n",
       "      <th>Equipo actual</th>\n",
       "    </tr>\n",
       "  </thead>\n",
       "  <tbody>\n",
       "    <tr>\n",
       "      <th>0</th>\n",
       "      <td>renzo-sanchez</td>\n",
       "      <td>club-nacional-de-football</td>\n",
       "    </tr>\n",
       "    <tr>\n",
       "      <th>1</th>\n",
       "      <td>dimitrios-keramitsis</td>\n",
       "      <td>roma</td>\n",
       "    </tr>\n",
       "  </tbody>\n",
       "</table>\n",
       "</div>"
      ],
      "text/plain": [
       "         Nombre jugador              Equipo actual\n",
       "0         renzo-sanchez  club-nacional-de-football\n",
       "1  dimitrios-keramitsis                       roma"
      ]
     },
     "execution_count": 22,
     "metadata": {},
     "output_type": "execute_result"
    }
   ],
   "source": [
    "jugador_fichar.rename(columns = nuevas_columnas, inplace = True)\n",
    "jugador_fichar.head(2)"
   ]
  },
  {
   "cell_type": "code",
   "execution_count": 23,
   "id": "1ad8d66e",
   "metadata": {},
   "outputs": [],
   "source": [
    "jugador_fichar.to_csv('../../data/promesas/nombres_equipos.csv')"
   ]
  }
 ],
 "metadata": {
  "kernelspec": {
   "display_name": "Python 3 (ipykernel)",
   "language": "python",
   "name": "python3"
  },
  "language_info": {
   "codemirror_mode": {
    "name": "ipython",
    "version": 3
   },
   "file_extension": ".py",
   "mimetype": "text/x-python",
   "name": "python",
   "nbconvert_exporter": "python",
   "pygments_lexer": "ipython3",
   "version": "3.9.5"
  }
 },
 "nbformat": 4,
 "nbformat_minor": 5
}
