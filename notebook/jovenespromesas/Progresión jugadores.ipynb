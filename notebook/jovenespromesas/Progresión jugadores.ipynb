{
 "cells": [
  {
   "cell_type": "markdown",
   "id": "98b7f460",
   "metadata": {},
   "source": [
    "# Obtención valoración actual y pregresión jugadores. 🔝"
   ]
  },
  {
   "cell_type": "markdown",
   "id": "e877956d",
   "metadata": {},
   "source": [
    "❗ A continuación, se obtiene la valoración actual de cada jugador y la posible valoración máxima que podría llegar a obtener.\n",
    "\n",
    "🧐 De este modo, se puede conocer la progresión de cada uno de ellos. Además, es importante resaltar que estas valoraciones son otorgadas por la página de búsqueda en función de análisis predictivos.\n",
    "\n",
    "➡ En definita, se realiza un Web Scraping para conocer esta posible progrseión."
   ]
  },
  {
   "cell_type": "code",
   "execution_count": 1,
   "id": "f30acc58",
   "metadata": {},
   "outputs": [],
   "source": [
    "import pandas as pd\n",
    "import numpy as np\n",
    "import re\n",
    "from bs4 import BeautifulSoup\n",
    "import requests\n",
    "\n",
    "pd.options.display.max_columns = None"
   ]
  },
  {
   "cell_type": "markdown",
   "id": "7051a868",
   "metadata": {},
   "source": [
    "1️⃣ Se establecen las condiciones para realizar el WebScraping."
   ]
  },
  {
   "cell_type": "code",
   "execution_count": 2,
   "id": "91f15c29",
   "metadata": {},
   "outputs": [
    {
     "data": {
      "text/plain": [
       "200"
      ]
     },
     "execution_count": 2,
     "metadata": {},
     "output_type": "execute_result"
    }
   ],
   "source": [
    "url = 'https://sofifa.com/players?type=all&oah=70&ptl=80&vlh=1000000'\n",
    "html = requests.get(url)\n",
    "soup = BeautifulSoup(html.content, \"html.parser\")\n",
    "html.status_code"
   ]
  },
  {
   "cell_type": "markdown",
   "id": "7baf7f1e",
   "metadata": {},
   "source": [
    "2️⃣ Se detalla la información que deseamos encontrar dentro del escrapeo."
   ]
  },
  {
   "cell_type": "code",
   "execution_count": 3,
   "id": "c7108991",
   "metadata": {},
   "outputs": [],
   "source": [
    "productos = soup.find_all(\"td\",{\"class\": \"col col-oa col-sort\"})"
   ]
  },
  {
   "cell_type": "markdown",
   "id": "9f61fe58",
   "metadata": {},
   "source": [
    "3️⃣ Se crea un diccionario al que añadir la información escrapeada para, posteriormente, crear un dataframe con el que trabajar."
   ]
  },
  {
   "cell_type": "code",
   "execution_count": 4,
   "id": "86874769",
   "metadata": {},
   "outputs": [],
   "source": [
    "valoracion = {'valor': []}"
   ]
  },
  {
   "cell_type": "code",
   "execution_count": 5,
   "id": "8d529e16",
   "metadata": {},
   "outputs": [],
   "source": [
    "for i in productos:\n",
    "    valoracion['valor'].append(i)  "
   ]
  },
  {
   "cell_type": "code",
   "execution_count": 6,
   "id": "e64ac532",
   "metadata": {
    "scrolled": true
   },
   "outputs": [
    {
     "data": {
      "text/html": [
       "<div>\n",
       "<style scoped>\n",
       "    .dataframe tbody tr th:only-of-type {\n",
       "        vertical-align: middle;\n",
       "    }\n",
       "\n",
       "    .dataframe tbody tr th {\n",
       "        vertical-align: top;\n",
       "    }\n",
       "\n",
       "    .dataframe thead th {\n",
       "        text-align: right;\n",
       "    }\n",
       "</style>\n",
       "<table border=\"1\" class=\"dataframe\">\n",
       "  <thead>\n",
       "    <tr style=\"text-align: right;\">\n",
       "      <th></th>\n",
       "      <th>valor</th>\n",
       "    </tr>\n",
       "  </thead>\n",
       "  <tbody>\n",
       "    <tr>\n",
       "      <th>0</th>\n",
       "      <td>[[62]]</td>\n",
       "    </tr>\n",
       "    <tr>\n",
       "      <th>1</th>\n",
       "      <td>[[62]]</td>\n",
       "    </tr>\n",
       "  </tbody>\n",
       "</table>\n",
       "</div>"
      ],
      "text/plain": [
       "    valor\n",
       "0  [[62]]\n",
       "1  [[62]]"
      ]
     },
     "execution_count": 6,
     "metadata": {},
     "output_type": "execute_result"
    }
   ],
   "source": [
    "jvalor = pd.DataFrame(valoracion)\n",
    "jvalor.head(2)"
   ]
  },
  {
   "cell_type": "markdown",
   "id": "de3b5528",
   "metadata": {},
   "source": [
    "4️⃣ Se procede a la limpieza de la información obtenida. \n",
    "\n",
    "🤔 Para ello, en primer lugar se pasa a string los datos escrapeados con el objetivo de realizar regex. De este modo, se eliminan todas las letras y números que acompañan a la valoración actual del jugador, único dato que nos interesa."
   ]
  },
  {
   "cell_type": "code",
   "execution_count": 7,
   "id": "e18f9a7e",
   "metadata": {},
   "outputs": [],
   "source": [
    "jvalor[\"valor\"] = jvalor['valor'].astype(str)"
   ]
  },
  {
   "cell_type": "code",
   "execution_count": 8,
   "id": "82db728a",
   "metadata": {},
   "outputs": [],
   "source": [
    "jvalor['valor'] = jvalor['valor'].str.extract(r'(\\d{2})')"
   ]
  },
  {
   "cell_type": "code",
   "execution_count": 9,
   "id": "984f9311",
   "metadata": {},
   "outputs": [
    {
     "data": {
      "text/html": [
       "<div>\n",
       "<style scoped>\n",
       "    .dataframe tbody tr th:only-of-type {\n",
       "        vertical-align: middle;\n",
       "    }\n",
       "\n",
       "    .dataframe tbody tr th {\n",
       "        vertical-align: top;\n",
       "    }\n",
       "\n",
       "    .dataframe thead th {\n",
       "        text-align: right;\n",
       "    }\n",
       "</style>\n",
       "<table border=\"1\" class=\"dataframe\">\n",
       "  <thead>\n",
       "    <tr style=\"text-align: right;\">\n",
       "      <th></th>\n",
       "      <th>valor</th>\n",
       "    </tr>\n",
       "  </thead>\n",
       "  <tbody>\n",
       "    <tr>\n",
       "      <th>0</th>\n",
       "      <td>62</td>\n",
       "    </tr>\n",
       "    <tr>\n",
       "      <th>1</th>\n",
       "      <td>62</td>\n",
       "    </tr>\n",
       "    <tr>\n",
       "      <th>2</th>\n",
       "      <td>62</td>\n",
       "    </tr>\n",
       "    <tr>\n",
       "      <th>3</th>\n",
       "      <td>62</td>\n",
       "    </tr>\n",
       "    <tr>\n",
       "      <th>4</th>\n",
       "      <td>62</td>\n",
       "    </tr>\n",
       "  </tbody>\n",
       "</table>\n",
       "</div>"
      ],
      "text/plain": [
       "  valor\n",
       "0    62\n",
       "1    62\n",
       "2    62\n",
       "3    62\n",
       "4    62"
      ]
     },
     "execution_count": 9,
     "metadata": {},
     "output_type": "execute_result"
    }
   ],
   "source": [
    "jvalor.head()"
   ]
  },
  {
   "cell_type": "markdown",
   "id": "fb3b367d",
   "metadata": {},
   "source": [
    "5️⃣ Se repite exactamente el mismo proceso pero, en este caso, para la valoración de futuro. De esta forma, será necesario cambiar la información que deseamos encontrar en el escrapeo."
   ]
  },
  {
   "cell_type": "code",
   "execution_count": 10,
   "id": "1e48ed72",
   "metadata": {},
   "outputs": [],
   "source": [
    "productos = soup.find_all(\"td\",{\"class\": \"col col-pt\"})"
   ]
  },
  {
   "cell_type": "code",
   "execution_count": 11,
   "id": "135041b5",
   "metadata": {},
   "outputs": [],
   "source": [
    "futuro = {'fut': []}"
   ]
  },
  {
   "cell_type": "code",
   "execution_count": 12,
   "id": "6980d4c1",
   "metadata": {},
   "outputs": [],
   "source": [
    "for i in productos:\n",
    "    futuro['fut'].append(i)  "
   ]
  },
  {
   "cell_type": "code",
   "execution_count": 23,
   "id": "81d044d3",
   "metadata": {},
   "outputs": [
    {
     "data": {
      "text/html": [
       "<div>\n",
       "<style scoped>\n",
       "    .dataframe tbody tr th:only-of-type {\n",
       "        vertical-align: middle;\n",
       "    }\n",
       "\n",
       "    .dataframe tbody tr th {\n",
       "        vertical-align: top;\n",
       "    }\n",
       "\n",
       "    .dataframe thead th {\n",
       "        text-align: right;\n",
       "    }\n",
       "</style>\n",
       "<table border=\"1\" class=\"dataframe\">\n",
       "  <thead>\n",
       "    <tr style=\"text-align: right;\">\n",
       "      <th></th>\n",
       "      <th>fut</th>\n",
       "    </tr>\n",
       "  </thead>\n",
       "  <tbody>\n",
       "    <tr>\n",
       "      <th>0</th>\n",
       "      <td>[[80]]</td>\n",
       "    </tr>\n",
       "    <tr>\n",
       "      <th>1</th>\n",
       "      <td>[[80]]</td>\n",
       "    </tr>\n",
       "  </tbody>\n",
       "</table>\n",
       "</div>"
      ],
      "text/plain": [
       "      fut\n",
       "0  [[80]]\n",
       "1  [[80]]"
      ]
     },
     "execution_count": 23,
     "metadata": {},
     "output_type": "execute_result"
    }
   ],
   "source": [
    "jfut = pd.DataFrame(futuro)\n",
    "jfut.head(2)"
   ]
  },
  {
   "cell_type": "code",
   "execution_count": 14,
   "id": "adbe1955",
   "metadata": {},
   "outputs": [],
   "source": [
    "jfut[\"fut\"] = jfut['fut'].astype(str)"
   ]
  },
  {
   "cell_type": "code",
   "execution_count": 15,
   "id": "6034e6d9",
   "metadata": {},
   "outputs": [],
   "source": [
    "jfut['fut'] = jfut['fut'].str.extract(r'(\\d{2})')"
   ]
  },
  {
   "cell_type": "code",
   "execution_count": 22,
   "id": "6df10815",
   "metadata": {},
   "outputs": [
    {
     "data": {
      "text/html": [
       "<div>\n",
       "<style scoped>\n",
       "    .dataframe tbody tr th:only-of-type {\n",
       "        vertical-align: middle;\n",
       "    }\n",
       "\n",
       "    .dataframe tbody tr th {\n",
       "        vertical-align: top;\n",
       "    }\n",
       "\n",
       "    .dataframe thead th {\n",
       "        text-align: right;\n",
       "    }\n",
       "</style>\n",
       "<table border=\"1\" class=\"dataframe\">\n",
       "  <thead>\n",
       "    <tr style=\"text-align: right;\">\n",
       "      <th></th>\n",
       "      <th>fut</th>\n",
       "    </tr>\n",
       "  </thead>\n",
       "  <tbody>\n",
       "    <tr>\n",
       "      <th>0</th>\n",
       "      <td>80</td>\n",
       "    </tr>\n",
       "    <tr>\n",
       "      <th>1</th>\n",
       "      <td>80</td>\n",
       "    </tr>\n",
       "  </tbody>\n",
       "</table>\n",
       "</div>"
      ],
      "text/plain": [
       "  fut\n",
       "0  80\n",
       "1  80"
      ]
     },
     "execution_count": 22,
     "metadata": {},
     "output_type": "execute_result"
    }
   ],
   "source": [
    "jfut.head(2)"
   ]
  },
  {
   "cell_type": "markdown",
   "id": "c2e3847a",
   "metadata": {},
   "source": [
    "6️⃣ Se concatenan los dos dataframe limpios obtenidos, dando como resultado uno que contiene información de la valoración actual y de futuro para cada jugador."
   ]
  },
  {
   "cell_type": "code",
   "execution_count": 21,
   "id": "a71931d9",
   "metadata": {
    "scrolled": true
   },
   "outputs": [
    {
     "data": {
      "text/html": [
       "<div>\n",
       "<style scoped>\n",
       "    .dataframe tbody tr th:only-of-type {\n",
       "        vertical-align: middle;\n",
       "    }\n",
       "\n",
       "    .dataframe tbody tr th {\n",
       "        vertical-align: top;\n",
       "    }\n",
       "\n",
       "    .dataframe thead th {\n",
       "        text-align: right;\n",
       "    }\n",
       "</style>\n",
       "<table border=\"1\" class=\"dataframe\">\n",
       "  <thead>\n",
       "    <tr style=\"text-align: right;\">\n",
       "      <th></th>\n",
       "      <th>valor</th>\n",
       "      <th>fut</th>\n",
       "    </tr>\n",
       "  </thead>\n",
       "  <tbody>\n",
       "    <tr>\n",
       "      <th>0</th>\n",
       "      <td>62</td>\n",
       "      <td>80</td>\n",
       "    </tr>\n",
       "    <tr>\n",
       "      <th>1</th>\n",
       "      <td>62</td>\n",
       "      <td>80</td>\n",
       "    </tr>\n",
       "  </tbody>\n",
       "</table>\n",
       "</div>"
      ],
      "text/plain": [
       "  valor fut\n",
       "0    62  80\n",
       "1    62  80"
      ]
     },
     "execution_count": 21,
     "metadata": {},
     "output_type": "execute_result"
    }
   ],
   "source": [
    "jug_valor = pd.concat([jvalor, jfut], axis=1)\n",
    "jug_valor.head(2)"
   ]
  },
  {
   "cell_type": "markdown",
   "id": "04ff2ef9",
   "metadata": {},
   "source": [
    "7️⃣ Se da el formato adecuado al dataframe final y se guarda."
   ]
  },
  {
   "cell_type": "code",
   "execution_count": 18,
   "id": "3d987ae6",
   "metadata": {},
   "outputs": [],
   "source": [
    "nuevas_columnas = {\n",
    "    'valor' : 'Valoración actual', \n",
    "    'fut': \"Progresión\"}"
   ]
  },
  {
   "cell_type": "code",
   "execution_count": 19,
   "id": "5acffa86",
   "metadata": {},
   "outputs": [
    {
     "data": {
      "text/html": [
       "<div>\n",
       "<style scoped>\n",
       "    .dataframe tbody tr th:only-of-type {\n",
       "        vertical-align: middle;\n",
       "    }\n",
       "\n",
       "    .dataframe tbody tr th {\n",
       "        vertical-align: top;\n",
       "    }\n",
       "\n",
       "    .dataframe thead th {\n",
       "        text-align: right;\n",
       "    }\n",
       "</style>\n",
       "<table border=\"1\" class=\"dataframe\">\n",
       "  <thead>\n",
       "    <tr style=\"text-align: right;\">\n",
       "      <th></th>\n",
       "      <th>Valoración actual</th>\n",
       "      <th>Progresión</th>\n",
       "    </tr>\n",
       "  </thead>\n",
       "  <tbody>\n",
       "    <tr>\n",
       "      <th>0</th>\n",
       "      <td>62</td>\n",
       "      <td>80</td>\n",
       "    </tr>\n",
       "    <tr>\n",
       "      <th>1</th>\n",
       "      <td>62</td>\n",
       "      <td>80</td>\n",
       "    </tr>\n",
       "  </tbody>\n",
       "</table>\n",
       "</div>"
      ],
      "text/plain": [
       "  Valoración actual Progresión\n",
       "0                62         80\n",
       "1                62         80"
      ]
     },
     "execution_count": 19,
     "metadata": {},
     "output_type": "execute_result"
    }
   ],
   "source": [
    "jug_valor.rename(columns = nuevas_columnas, inplace = True)\n",
    "jug_valor.head(2)"
   ]
  },
  {
   "cell_type": "code",
   "execution_count": 20,
   "id": "e3a99d73",
   "metadata": {},
   "outputs": [],
   "source": [
    "jug_valor.to_csv('../../data/promesas/progresion_jugadores.csv')"
   ]
  }
 ],
 "metadata": {
  "kernelspec": {
   "display_name": "Python 3 (ipykernel)",
   "language": "python",
   "name": "python3"
  },
  "language_info": {
   "codemirror_mode": {
    "name": "ipython",
    "version": 3
   },
   "file_extension": ".py",
   "mimetype": "text/x-python",
   "name": "python",
   "nbconvert_exporter": "python",
   "pygments_lexer": "ipython3",
   "version": "3.9.5"
  }
 },
 "nbformat": 4,
 "nbformat_minor": 5
}
