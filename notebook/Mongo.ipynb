{
 "cells": [
  {
   "cell_type": "code",
   "execution_count": 7,
   "id": "53088071",
   "metadata": {},
   "outputs": [],
   "source": [
    "import pymongo \n",
    "import pandas as pd\n",
    "pd.options.display.max_columns = None"
   ]
  },
  {
   "cell_type": "code",
   "execution_count": 8,
   "id": "1d36cb50",
   "metadata": {},
   "outputs": [
    {
     "data": {
      "text/plain": [
       "MongoClient(host=['localhost:27017'], document_class=dict, tz_aware=False, connect=True)"
      ]
     },
     "execution_count": 8,
     "metadata": {},
     "output_type": "execute_result"
    }
   ],
   "source": [
    "cliente = pymongo.MongoClient()\n",
    "cliente"
   ]
  },
  {
   "cell_type": "code",
   "execution_count": 9,
   "id": "68221a6f",
   "metadata": {},
   "outputs": [],
   "source": [
    "mydb = cliente[\"jugadores\"]"
   ]
  },
  {
   "cell_type": "code",
   "execution_count": 10,
   "id": "b0306a39",
   "metadata": {},
   "outputs": [],
   "source": [
    "coleccion = mydb.jugadores"
   ]
  },
  {
   "cell_type": "code",
   "execution_count": null,
   "id": "77d0c8ed",
   "metadata": {},
   "outputs": [],
   "source": []
  }
 ],
 "metadata": {
  "kernelspec": {
   "display_name": "Python 3 (ipykernel)",
   "language": "python",
   "name": "python3"
  },
  "language_info": {
   "codemirror_mode": {
    "name": "ipython",
    "version": 3
   },
   "file_extension": ".py",
   "mimetype": "text/x-python",
   "name": "python",
   "nbconvert_exporter": "python",
   "pygments_lexer": "ipython3",
   "version": "3.9.5"
  }
 },
 "nbformat": 4,
 "nbformat_minor": 5
}
